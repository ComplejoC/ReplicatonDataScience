{
 "cells": [
  {
   "cell_type": "code",
   "execution_count": null,
   "metadata": {
    "Rmd_chunk_options": "echo=FALSE",
    "autoscroll": false,
    "collapsed": true
   },
   "outputs": [],
   "source": [
    "knitr::opts_chunk$set(cache=FALSE)"
   ]
  },
  {
   "cell_type": "markdown",
   "metadata": {},
   "source": [
    "\n",
    "## Introduction\n",
    "\n",
    "Probably the most important step of analyzing datasets is to actually understand\n",
    "the data. This process is crucial to know what kind of questions we can\n",
    "answer with it. This tutorial has code that will help guiding\n",
    "you through this process. Make sure you understand well the experimental design of the\n",
    "two studies and try to link each variable to this experimental design. Also, make sure you\n",
    "understand what each *R* command is doing. Feel free to hack the code!\n",
    "\n",
    "If you have any question about the code, ask one of the mentors.\n",
    "Also remember that [google](www.google.com) is one of the most important tool for\n",
    "data science.\n",
    "\n",
    "Let's start by loading the data into the current working session.\n",
    "\n"
   ]
  },
  {
   "cell_type": "code",
   "execution_count": null,
   "metadata": {
    "Rmd_chunk_options": "readRaw",
    "autoscroll": false,
    "collapsed": true
   },
   "outputs": [],
   "source": [
    "rawFile <- \"rawPharmacoData.csv\"\n",
    "pharmacoData <- read.csv(rawFile)"
   ]
  },
  {
   "cell_type": "markdown",
   "metadata": {},
   "source": [
    "\n",
    "What kind of variables are in the data? Are these variables numerical and/or categorical? What does each column represent?\n",
    "\n"
   ]
  },
  {
   "cell_type": "code",
   "execution_count": null,
   "metadata": {
    "Rmd_chunk_options": "quest2",
    "autoscroll": false,
    "collapsed": true
   },
   "outputs": [],
   "source": [
    "head( pharmacoData )\n",
    "str( pharmacoData )"
   ]
  },
  {
   "cell_type": "markdown",
   "metadata": {},
   "source": [
    "\n",
    "How many drugs are contained in these data?\n",
    "\n"
   ]
  },
  {
   "cell_type": "code",
   "execution_count": null,
   "metadata": {
    "Rmd_chunk_options": "quest3",
    "autoscroll": false,
    "collapsed": true
   },
   "outputs": [],
   "source": [
    "length( levels( pharmacoData$drug ) )"
   ]
  },
  {
   "cell_type": "markdown",
   "metadata": {},
   "source": [
    "\n",
    "How many drug concentrations were used in each study?\n",
    "\n"
   ]
  },
  {
   "cell_type": "code",
   "execution_count": null,
   "metadata": {
    "Rmd_chunk_options": "quest4",
    "autoscroll": false,
    "collapsed": true
   },
   "outputs": [],
   "source": [
    "tapply( pharmacoData$doseID, pharmacoData$study, function(x){\n",
    "        length( unique( x ) )\n",
    "    })"
   ]
  },
  {
   "cell_type": "markdown",
   "metadata": {},
   "source": [
    "\n",
    "One of the first things data scientists do when\n",
    "digging into new data is to explore their distributions.\n",
    "Histograms visualize the data distributions and can also point us towards statistical\n",
    "models to use. The code below\n",
    "transforms the data into a logarithmic scale and plots a histogram separately for each study. Based on these plots, which study would you say\n",
    "has the most consistent experimental protocol?\n",
    "\n"
   ]
  },
  {
   "cell_type": "code",
   "execution_count": null,
   "metadata": {
    "Rmd_chunk_options": "quest6, warning=FALSE",
    "autoscroll": false,
    "collapsed": true
   },
   "outputs": [],
   "source": [
    "library(ggplot2)\n",
    "library(cowplot)\n",
    "ggplot( pharmacoData, aes( log2(concentration) ) ) +\n",
    "    geom_histogram(fill = \"white\", colour=\"black\") +\n",
    "    facet_wrap(~study)"
   ]
  },
  {
   "cell_type": "markdown",
   "metadata": {},
   "source": [
    "\n",
    "\n",
    "Viability scores are the percentage\n",
    "of cells that survive upon exposure to a certain drug.\n",
    "Below, we will explore the range of the data and calculate how\n",
    "many data points are below 0 and above 100.\n",
    "\n"
   ]
  },
  {
   "cell_type": "code",
   "execution_count": null,
   "metadata": {
    "autoscroll": false,
    "collapsed": true
   },
   "outputs": [],
   "source": [
    "range( pharmacoData$viability )\n",
    "sum( pharmacoData$viability < 0 )\n",
    "sum( pharmacoData$viability > 100 )"
   ]
  },
  {
   "cell_type": "markdown",
   "metadata": {},
   "source": [
    "We can also compare the distribution of viability scores between\n",
    "the two studies using density plots. Based on the distribution of\n",
    "the viability scores, would you say there are obvious differences\n",
    "between the two studies?\n",
    "\n"
   ]
  },
  {
   "cell_type": "code",
   "execution_count": null,
   "metadata": {
    "autoscroll": false,
    "collapsed": true
   },
   "outputs": [],
   "source": [
    "ggplot( pharmacoData, aes( viability, group=study, colour=study) ) +\n",
    "    geom_density(fill=\"white\", lwd=2, alpha=0.1) + xlim(0, 170)"
   ]
  },
  {
   "cell_type": "markdown",
   "metadata": {},
   "source": [
    "\n",
    "The code below plots the viability scores as box-plots for each drug, stratified by the two studies. Can you tell something about the toxic properties of the different\n",
    "drugs? Are these properties consistent across studies?\n",
    "\n"
   ]
  },
  {
   "cell_type": "code",
   "execution_count": null,
   "metadata": {
    "autoscroll": false,
    "collapsed": true
   },
   "outputs": [],
   "source": [
    "ggplot( pharmacoData, aes( y=viability, x=drug, fill=study) ) +\n",
    "    geom_boxplot() +\n",
    "    theme(axis.text.x = element_text(angle = 90, hjust = 1, vjust=.5)) +\n",
    "    ylim(0, 200)"
   ]
  },
  {
   "cell_type": "markdown",
   "metadata": {},
   "source": [
    "\n",
    "\n"
   ]
  }
 ],
 "metadata": {
  "Rmd_header": {
   "output": "html_document",
   "title": "Tutorial 1: Exploratory analysis of pharmacogenomic data"
  },
  "kernelspec": {
   "display_name": "R",
   "language": "R",
   "name": "ir"
  },
  "language_info": {
   "codemirror_mode": "r",
   "file_extension": ".r",
   "mimetype": "text/x-r-source",
   "name": "R",
   "pygments_lexer": "r"
  }
 },
 "nbformat": 4,
 "nbformat_minor": 0
}
