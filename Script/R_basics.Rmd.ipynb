{
 "cells": [
  {
   "cell_type": "markdown",
   "metadata": {},
   "source": [
    "\n",
    "This tutorial will go over some basics about programming in R.  We hope that you'll get a feel for what R can do as well as learn where you can learn more to use it on your own (great resources are listed at the end).\n",
    "\n",
    "## Getting Started with R\n",
    "\n",
    "Although R is technically a programming language, it was developed specifically for analyzing data.  It has many built-in tools for common analysis tasks, as well as countless more available for add-on that have been developed by the R community.  Since it is a language, however, you are not limited to carrying out tasks or analyses that someone has already implemented.  R is widely-used, free, and open-source with great community support.\n",
    "\n",
    "## Getting R/RStudio set up on your own computer\n",
    "\n",
    "If you haven't already installed R and RStudio on your computer, please follow these instructions to get set up.\n",
    "\n",
    "### Installing R\n",
    "To set up your own computer, the first step is to install R. You can download and install R from\n",
    "the [Comprehensive R Archive Network](https://cran.r-project.org/)\n",
    "(CRAN). It is relatively straightforward, but if you need further help\n",
    "you can try the following resources:\n",
    "\n",
    "* [Installing R on Windows](https://github.com/genomicsclass/windows#installing-r)\n",
    "* [Installing R on Mac](http://youtu.be/Icawuhf0Yqo)\n",
    "* [Installing R on Ubuntu](http://cran.r-project.org/bin/linux/ubuntu/README)\n",
    "\n",
    "### Installing RStudio\n",
    "\n",
    "The next step is to install RStudio, a program for viewing and running R scripts. Technically you can run all the code shown here without installing RStudio, but we highly recommend this integrated\n",
    "development environment (IDE). Instructions are\n",
    "[here](http://www.rstudio.com/products/rstudio/download/) and for\n",
    "Windows we have special\n",
    "[instructions](https://github.com/genomicsclass/windows).\n",
    "\n",
    "## The Console\n",
    "\n",
    "Now that you have opened up Rstudio, you are ready to start working with data. Whichever approach you are using to interact with R, you should identify the console.\n",
    "\n",
    "![](Figures/console-screen-shot.png)\n",
    "\n",
    "When you type a line of code into the consult and hit enter the command gets _executed_. For example, try using R as a calculator by typing\n",
    "\n"
   ]
  },
  {
   "cell_type": "code",
   "execution_count": 1,
   "metadata": {
    "autoscroll": false
   },
   "outputs": [
    {
     "data": {
      "text/html": [
       "5"
      ],
      "text/latex": [
       "5"
      ],
      "text/markdown": [
       "5"
      ],
      "text/plain": [
       "[1] 5"
      ]
     },
     "metadata": {},
     "output_type": "display_data"
    }
   ],
   "source": [
    "2+3"
   ]
  },
  {
   "cell_type": "markdown",
   "metadata": {},
   "source": [
    "\n",
    "We can also assign values to variables. Try the following\n",
    "\n"
   ]
  },
  {
   "cell_type": "code",
   "execution_count": 2,
   "metadata": {
    "autoscroll": false
   },
   "outputs": [
    {
     "data": {
      "text/html": [
       "5"
      ],
      "text/latex": [
       "5"
      ],
      "text/markdown": [
       "5"
      ],
      "text/plain": [
       "[1] 5"
      ]
     },
     "metadata": {},
     "output_type": "display_data"
    }
   ],
   "source": [
    "x <- 2\n",
    "y <- 3\n",
    "x + y"
   ]
  },
  {
   "cell_type": "markdown",
   "metadata": {},
   "source": [
    "\n",
    "Note also the window above the console.  This is where you can store lines of code to be executed in a particular sequence, and these can be saved in a script (a text file with a \".R\" extension) or as an R Markdown notebook (with a \".Rmd\" extension) so that you can reproduce your results later or run your code on another dataset.\n",
    "\n",
    "## The R environment\n",
    "\n",
    "When you download R from CRAN you get what we call _base_ R. This includes several _functions_ that are considered fundamental for data analysis. It also includes several example datasets. These datasets are particularly useful as examples when we are learning to use the available functions. You can see all the available dataset by executing the function `data` like this:\n",
    "\n"
   ]
  },
  {
   "cell_type": "code",
   "execution_count": 3,
   "metadata": {
    "Rmd_chunk_options": "eval=FALSE",
    "autoscroll": false
   },
   "outputs": [],
   "source": [
    "data()"
   ]
  },
  {
   "cell_type": "markdown",
   "metadata": {},
   "source": [
    "\n",
    "Because in R functions are objects, we need the two parenthesis to let R know that we want the function to be executed as opposed to showing us the code for the function. Type the following and note the difference:\n",
    "\n"
   ]
  },
  {
   "cell_type": "code",
   "execution_count": 4,
   "metadata": {
    "Rmd_chunk_options": "eval=FALSE",
    "autoscroll": false
   },
   "outputs": [
    {
     "data": {
      "text/html": [
       "<pre class=language-r><code>function (..., list = character(), package = NULL, lib.loc = NULL, \n",
       "<span style=white-space:pre-wrap>    verbose = getOption(\"verbose\"), envir = .GlobalEnv) </span>\n",
       "{\n",
       "<span style=white-space:pre-wrap>    fileExt &lt;- function(x) {</span>\n",
       "<span style=white-space:pre-wrap>        db &lt;- grepl(\"\\\\.[^.]+\\\\.(gz|bz2|xz)$\", x)</span>\n",
       "<span style=white-space:pre-wrap>        ans &lt;- sub(\".*\\\\.\", \"\", x)</span>\n",
       "<span style=white-space:pre-wrap>        ans[db] &lt;- sub(\".*\\\\.([^.]+\\\\.)(gz|bz2|xz)$\", \"\\\\1\\\\2\", </span>\n",
       "<span style=white-space:pre-wrap>            x[db])</span>\n",
       "<span style=white-space:pre-wrap>        ans</span>\n",
       "<span style=white-space:pre-wrap>    }</span>\n",
       "<span style=white-space:pre-wrap>    names &lt;- c(as.character(substitute(list(...))[-1L]), list)</span>\n",
       "<span style=white-space:pre-wrap>    if (!is.null(package)) {</span>\n",
       "<span style=white-space:pre-wrap>        if (!is.character(package)) </span>\n",
       "<span style=white-space:pre-wrap>            stop(\"'package' must be a character string or NULL\")</span>\n",
       "<span style=white-space:pre-wrap>        if (any(package %in% \"base\")) </span>\n",
       "<span style=white-space:pre-wrap>            warning(\"datasets have been moved from package 'base' to package 'datasets'\")</span>\n",
       "<span style=white-space:pre-wrap>        if (any(package %in% \"stats\")) </span>\n",
       "<span style=white-space:pre-wrap>            warning(\"datasets have been moved from package 'stats' to package 'datasets'\")</span>\n",
       "<span style=white-space:pre-wrap>        package[package %in% c(\"base\", \"stats\")] &lt;- \"datasets\"</span>\n",
       "<span style=white-space:pre-wrap>    }</span>\n",
       "<span style=white-space:pre-wrap>    paths &lt;- find.package(package, lib.loc, verbose = verbose)</span>\n",
       "<span style=white-space:pre-wrap>    if (is.null(lib.loc)) </span>\n",
       "<span style=white-space:pre-wrap>        paths &lt;- c(path.package(package, TRUE), if (!length(package)) getwd(), </span>\n",
       "<span style=white-space:pre-wrap>            paths)</span>\n",
       "<span style=white-space:pre-wrap>    paths &lt;- unique(normalizePath(paths[file.exists(paths)]))</span>\n",
       "<span style=white-space:pre-wrap>    paths &lt;- paths[dir.exists(file.path(paths, \"data\"))]</span>\n",
       "<span style=white-space:pre-wrap>    dataExts &lt;- tools:::.make_file_exts(\"data\")</span>\n",
       "<span style=white-space:pre-wrap>    if (length(names) == 0L) {</span>\n",
       "<span style=white-space:pre-wrap>        db &lt;- matrix(character(), nrow = 0L, ncol = 4L)</span>\n",
       "<span style=white-space:pre-wrap>        for (path in paths) {</span>\n",
       "<span style=white-space:pre-wrap>            entries &lt;- NULL</span>\n",
       "<span style=white-space:pre-wrap>            packageName &lt;- if (file_test(\"-f\", file.path(path, </span>\n",
       "<span style=white-space:pre-wrap>                \"DESCRIPTION\"))) </span>\n",
       "<span style=white-space:pre-wrap>                basename(path)</span>\n",
       "<span style=white-space:pre-wrap>            else \".\"</span>\n",
       "<span style=white-space:pre-wrap>            if (file_test(\"-f\", INDEX &lt;- file.path(path, \"Meta\", </span>\n",
       "<span style=white-space:pre-wrap>                \"data.rds\"))) {</span>\n",
       "<span style=white-space:pre-wrap>                entries &lt;- readRDS(INDEX)</span>\n",
       "<span style=white-space:pre-wrap>            }</span>\n",
       "<span style=white-space:pre-wrap>            else {</span>\n",
       "<span style=white-space:pre-wrap>                dataDir &lt;- file.path(path, \"data\")</span>\n",
       "<span style=white-space:pre-wrap>                entries &lt;- tools::list_files_with_type(dataDir, </span>\n",
       "<span style=white-space:pre-wrap>                  \"data\")</span>\n",
       "<span style=white-space:pre-wrap>                if (length(entries)) {</span>\n",
       "<span style=white-space:pre-wrap>                  entries &lt;- unique(tools::file_path_sans_ext(basename(entries)))</span>\n",
       "<span style=white-space:pre-wrap>                  entries &lt;- cbind(entries, \"\")</span>\n",
       "<span style=white-space:pre-wrap>                }</span>\n",
       "<span style=white-space:pre-wrap>            }</span>\n",
       "<span style=white-space:pre-wrap>            if (NROW(entries)) {</span>\n",
       "<span style=white-space:pre-wrap>                if (is.matrix(entries) &amp;&amp; ncol(entries) == 2L) </span>\n",
       "<span style=white-space:pre-wrap>                  db &lt;- rbind(db, cbind(packageName, dirname(path), </span>\n",
       "<span style=white-space:pre-wrap>                    entries))</span>\n",
       "<span style=white-space:pre-wrap>                else warning(gettextf(\"data index for package %s is invalid and will be ignored\", </span>\n",
       "<span style=white-space:pre-wrap>                  sQuote(packageName)), domain = NA, call. = FALSE)</span>\n",
       "<span style=white-space:pre-wrap>            }</span>\n",
       "<span style=white-space:pre-wrap>        }</span>\n",
       "<span style=white-space:pre-wrap>        colnames(db) &lt;- c(\"Package\", \"LibPath\", \"Item\", \"Title\")</span>\n",
       "<span style=white-space:pre-wrap>        footer &lt;- if (missing(package)) </span>\n",
       "<span style=white-space:pre-wrap>            paste0(\"Use \", sQuote(paste(\"data(package =\", \".packages(all.available = TRUE))\")), </span>\n",
       "<span style=white-space:pre-wrap>                \"\\n\", \"to list the data sets in all *available* packages.\")</span>\n",
       "<span style=white-space:pre-wrap>        else NULL</span>\n",
       "<span style=white-space:pre-wrap>        y &lt;- list(title = \"Data sets\", header = NULL, results = db, </span>\n",
       "<span style=white-space:pre-wrap>            footer = footer)</span>\n",
       "<span style=white-space:pre-wrap>        class(y) &lt;- \"packageIQR\"</span>\n",
       "<span style=white-space:pre-wrap>        return(y)</span>\n",
       "<span style=white-space:pre-wrap>    }</span>\n",
       "<span style=white-space:pre-wrap>    paths &lt;- file.path(paths, \"data\")</span>\n",
       "<span style=white-space:pre-wrap>    for (name in names) {</span>\n",
       "<span style=white-space:pre-wrap>        found &lt;- FALSE</span>\n",
       "<span style=white-space:pre-wrap>        for (p in paths) {</span>\n",
       "<span style=white-space:pre-wrap>            if (file_test(\"-f\", file.path(p, \"Rdata.rds\"))) {</span>\n",
       "<span style=white-space:pre-wrap>                rds &lt;- readRDS(file.path(p, \"Rdata.rds\"))</span>\n",
       "<span style=white-space:pre-wrap>                if (name %in% names(rds)) {</span>\n",
       "<span style=white-space:pre-wrap>                  found &lt;- TRUE</span>\n",
       "<span style=white-space:pre-wrap>                  if (verbose) </span>\n",
       "<span style=white-space:pre-wrap>                    message(sprintf(\"name=%s:\\t found in Rdata.rds\", </span>\n",
       "<span style=white-space:pre-wrap>                      name), domain = NA)</span>\n",
       "<span style=white-space:pre-wrap>                  thispkg &lt;- sub(\".*/([^/]*)/data$\", \"\\\\1\", p)</span>\n",
       "<span style=white-space:pre-wrap>                  thispkg &lt;- sub(\"_.*$\", \"\", thispkg)</span>\n",
       "<span style=white-space:pre-wrap>                  thispkg &lt;- paste0(\"package:\", thispkg)</span>\n",
       "<span style=white-space:pre-wrap>                  objs &lt;- rds[[name]]</span>\n",
       "<span style=white-space:pre-wrap>                  lazyLoad(file.path(p, \"Rdata\"), envir = envir, </span>\n",
       "<span style=white-space:pre-wrap>                    filter = function(x) x %in% objs)</span>\n",
       "<span style=white-space:pre-wrap>                  break</span>\n",
       "<span style=white-space:pre-wrap>                }</span>\n",
       "<span style=white-space:pre-wrap>                else if (verbose) </span>\n",
       "<span style=white-space:pre-wrap>                  message(sprintf(\"name=%s:\\t NOT found in names() of Rdata.rds, i.e.,\\n\\t%s\\n\", </span>\n",
       "<span style=white-space:pre-wrap>                    name, paste(names(rds), collapse = \",\")), </span>\n",
       "<span style=white-space:pre-wrap>                    domain = NA)</span>\n",
       "<span style=white-space:pre-wrap>            }</span>\n",
       "<span style=white-space:pre-wrap>            if (file_test(\"-f\", file.path(p, \"Rdata.zip\"))) {</span>\n",
       "<span style=white-space:pre-wrap>                warning(\"zipped data found for package \", sQuote(basename(dirname(p))), </span>\n",
       "<span style=white-space:pre-wrap>                  \".\\nThat is defunct, so please re-install the package.\", </span>\n",
       "<span style=white-space:pre-wrap>                  domain = NA)</span>\n",
       "<span style=white-space:pre-wrap>                if (file_test(\"-f\", fp &lt;- file.path(p, \"filelist\"))) </span>\n",
       "<span style=white-space:pre-wrap>                  files &lt;- file.path(p, scan(fp, what = \"\", quiet = TRUE))</span>\n",
       "<span style=white-space:pre-wrap>                else {</span>\n",
       "<span style=white-space:pre-wrap>                  warning(gettextf(\"file 'filelist' is missing for directory %s\", </span>\n",
       "<span style=white-space:pre-wrap>                    sQuote(p)), domain = NA)</span>\n",
       "<span style=white-space:pre-wrap>                  next</span>\n",
       "<span style=white-space:pre-wrap>                }</span>\n",
       "<span style=white-space:pre-wrap>            }</span>\n",
       "<span style=white-space:pre-wrap>            else {</span>\n",
       "<span style=white-space:pre-wrap>                files &lt;- list.files(p, full.names = TRUE)</span>\n",
       "<span style=white-space:pre-wrap>            }</span>\n",
       "<span style=white-space:pre-wrap>            files &lt;- files[grep(name, files, fixed = TRUE)]</span>\n",
       "<span style=white-space:pre-wrap>            if (length(files) &gt; 1L) {</span>\n",
       "<span style=white-space:pre-wrap>                o &lt;- match(fileExt(files), dataExts, nomatch = 100L)</span>\n",
       "<span style=white-space:pre-wrap>                paths0 &lt;- dirname(files)</span>\n",
       "<span style=white-space:pre-wrap>                paths0 &lt;- factor(paths0, levels = unique(paths0))</span>\n",
       "<span style=white-space:pre-wrap>                files &lt;- files[order(paths0, o)]</span>\n",
       "<span style=white-space:pre-wrap>            }</span>\n",
       "<span style=white-space:pre-wrap>            if (length(files)) {</span>\n",
       "<span style=white-space:pre-wrap>                for (file in files) {</span>\n",
       "<span style=white-space:pre-wrap>                  if (verbose) </span>\n",
       "<span style=white-space:pre-wrap>                    message(\"name=\", name, \":\\t file= ...\", .Platform$file.sep, </span>\n",
       "<span style=white-space:pre-wrap>                      basename(file), \"::\\t\", appendLF = FALSE, </span>\n",
       "<span style=white-space:pre-wrap>                      domain = NA)</span>\n",
       "<span style=white-space:pre-wrap>                  ext &lt;- fileExt(file)</span>\n",
       "<span style=white-space:pre-wrap>                  if (basename(file) != paste0(name, \".\", ext)) </span>\n",
       "<span style=white-space:pre-wrap>                    found &lt;- FALSE</span>\n",
       "<span style=white-space:pre-wrap>                  else {</span>\n",
       "<span style=white-space:pre-wrap>                    found &lt;- TRUE</span>\n",
       "<span style=white-space:pre-wrap>                    zfile &lt;- file</span>\n",
       "<span style=white-space:pre-wrap>                    zipname &lt;- file.path(dirname(file), \"Rdata.zip\")</span>\n",
       "<span style=white-space:pre-wrap>                    if (file.exists(zipname)) {</span>\n",
       "<span style=white-space:pre-wrap>                      Rdatadir &lt;- tempfile(\"Rdata\")</span>\n",
       "<span style=white-space:pre-wrap>                      dir.create(Rdatadir, showWarnings = FALSE)</span>\n",
       "<span style=white-space:pre-wrap>                      topic &lt;- basename(file)</span>\n",
       "<span style=white-space:pre-wrap>                      rc &lt;- .External(C_unzip, zipname, topic, </span>\n",
       "<span style=white-space:pre-wrap>                        Rdatadir, FALSE, TRUE, FALSE, FALSE)</span>\n",
       "<span style=white-space:pre-wrap>                      if (rc == 0L) </span>\n",
       "<span style=white-space:pre-wrap>                        zfile &lt;- file.path(Rdatadir, topic)</span>\n",
       "<span style=white-space:pre-wrap>                    }</span>\n",
       "<span style=white-space:pre-wrap>                    if (zfile != file) </span>\n",
       "<span style=white-space:pre-wrap>                      on.exit(unlink(zfile))</span>\n",
       "<span style=white-space:pre-wrap>                    switch(ext, R = , r = {</span>\n",
       "<span style=white-space:pre-wrap>                      library(\"utils\")</span>\n",
       "<span style=white-space:pre-wrap>                      sys.source(zfile, chdir = TRUE, envir = envir)</span>\n",
       "<span style=white-space:pre-wrap>                    }, RData = , rdata = , rda = load(zfile, </span>\n",
       "<span style=white-space:pre-wrap>                      envir = envir), TXT = , txt = , tab = , </span>\n",
       "<span style=white-space:pre-wrap>                      tab.gz = , tab.bz2 = , tab.xz = , txt.gz = , </span>\n",
       "<span style=white-space:pre-wrap>                      txt.bz2 = , txt.xz = assign(name, read.table(zfile, </span>\n",
       "<span style=white-space:pre-wrap>                        header = TRUE, as.is = FALSE), envir = envir), </span>\n",
       "<span style=white-space:pre-wrap>                      CSV = , csv = , csv.gz = , csv.bz2 = , </span>\n",
       "<span style=white-space:pre-wrap>                      csv.xz = assign(name, read.table(zfile, </span>\n",
       "<span style=white-space:pre-wrap>                        header = TRUE, sep = \";\", as.is = FALSE), </span>\n",
       "<span style=white-space:pre-wrap>                        envir = envir), found &lt;- FALSE)</span>\n",
       "<span style=white-space:pre-wrap>                  }</span>\n",
       "<span style=white-space:pre-wrap>                  if (found) </span>\n",
       "<span style=white-space:pre-wrap>                    break</span>\n",
       "<span style=white-space:pre-wrap>                }</span>\n",
       "<span style=white-space:pre-wrap>                if (verbose) </span>\n",
       "<span style=white-space:pre-wrap>                  message(if (!found) </span>\n",
       "<span style=white-space:pre-wrap>                    \"*NOT* \", \"found\", domain = NA)</span>\n",
       "<span style=white-space:pre-wrap>            }</span>\n",
       "<span style=white-space:pre-wrap>            if (found) </span>\n",
       "<span style=white-space:pre-wrap>                break</span>\n",
       "<span style=white-space:pre-wrap>        }</span>\n",
       "<span style=white-space:pre-wrap>        if (!found) </span>\n",
       "<span style=white-space:pre-wrap>            warning(gettextf(\"data set %s not found\", sQuote(name)), </span>\n",
       "<span style=white-space:pre-wrap>                domain = NA)</span>\n",
       "<span style=white-space:pre-wrap>    }</span>\n",
       "<span style=white-space:pre-wrap>    invisible(names)</span>\n",
       "}</code></pre>"
      ],
      "text/latex": [
       "\\begin{minted}{r}\n",
       "function (..., list = character(), package = NULL, lib.loc = NULL, \n",
       "    verbose = getOption(\"verbose\"), envir = .GlobalEnv) \n",
       "\\{\n",
       "    fileExt <- function(x) \\{\n",
       "        db <- grepl(\"\\textbackslash{}\\textbackslash{}.{[}\\textasciicircum{}.{]}+\\textbackslash{}\\textbackslash{}.(gz\\textbar{}bz2\\textbar{}xz)\\$\", x)\n",
       "        ans <- sub(\".*\\textbackslash{}\\textbackslash{}.\", \"\", x)\n",
       "        ans{[}db{]} <- sub(\".*\\textbackslash{}\\textbackslash{}.({[}\\textasciicircum{}.{]}+\\textbackslash{}\\textbackslash{}.)(gz\\textbar{}bz2\\textbar{}xz)\\$\", \"\\textbackslash{}\\textbackslash{}1\\textbackslash{}\\textbackslash{}2\", \n",
       "            x{[}db{]})\n",
       "        ans\n",
       "    \\}\n",
       "    names <- c(as.character(substitute(list(...)){[}-1L{]}), list)\n",
       "    if (!is.null(package)) \\{\n",
       "        if (!is.character(package)) \n",
       "            stop(\"'package' must be a character string or NULL\")\n",
       "        if (any(package \\%in\\% \"base\")) \n",
       "            warning(\"datasets have been moved from package 'base' to package 'datasets'\")\n",
       "        if (any(package \\%in\\% \"stats\")) \n",
       "            warning(\"datasets have been moved from package 'stats' to package 'datasets'\")\n",
       "        package{[}package \\%in\\% c(\"base\", \"stats\"){]} <- \"datasets\"\n",
       "    \\}\n",
       "    paths <- find.package(package, lib.loc, verbose = verbose)\n",
       "    if (is.null(lib.loc)) \n",
       "        paths <- c(path.package(package, TRUE), if (!length(package)) getwd(), \n",
       "            paths)\n",
       "    paths <- unique(normalizePath(paths{[}file.exists(paths){]}))\n",
       "    paths <- paths{[}dir.exists(file.path(paths, \"data\")){]}\n",
       "    dataExts <- tools:::.make\\_file\\_exts(\"data\")\n",
       "    if (length(names) == 0L) \\{\n",
       "        db <- matrix(character(), nrow = 0L, ncol = 4L)\n",
       "        for (path in paths) \\{\n",
       "            entries <- NULL\n",
       "            packageName <- if (file\\_test(\"-f\", file.path(path, \n",
       "                \"DESCRIPTION\"))) \n",
       "                basename(path)\n",
       "            else \".\"\n",
       "            if (file\\_test(\"-f\", INDEX <- file.path(path, \"Meta\", \n",
       "                \"data.rds\"))) \\{\n",
       "                entries <- readRDS(INDEX)\n",
       "            \\}\n",
       "            else \\{\n",
       "                dataDir <- file.path(path, \"data\")\n",
       "                entries <- tools::list\\_files\\_with\\_type(dataDir, \n",
       "                  \"data\")\n",
       "                if (length(entries)) \\{\n",
       "                  entries <- unique(tools::file\\_path\\_sans\\_ext(basename(entries)))\n",
       "                  entries <- cbind(entries, \"\")\n",
       "                \\}\n",
       "            \\}\n",
       "            if (NROW(entries)) \\{\n",
       "                if (is.matrix(entries) \\&\\& ncol(entries) == 2L) \n",
       "                  db <- rbind(db, cbind(packageName, dirname(path), \n",
       "                    entries))\n",
       "                else warning(gettextf(\"data index for package \\%s is invalid and will be ignored\", \n",
       "                  sQuote(packageName)), domain = NA, call. = FALSE)\n",
       "            \\}\n",
       "        \\}\n",
       "        colnames(db) <- c(\"Package\", \"LibPath\", \"Item\", \"Title\")\n",
       "        footer <- if (missing(package)) \n",
       "            paste0(\"Use \", sQuote(paste(\"data(package =\", \".packages(all.available = TRUE))\")), \n",
       "                \"\\textbackslash{}n\", \"to list the data sets in all *available* packages.\")\n",
       "        else NULL\n",
       "        y <- list(title = \"Data sets\", header = NULL, results = db, \n",
       "            footer = footer)\n",
       "        class(y) <- \"packageIQR\"\n",
       "        return(y)\n",
       "    \\}\n",
       "    paths <- file.path(paths, \"data\")\n",
       "    for (name in names) \\{\n",
       "        found <- FALSE\n",
       "        for (p in paths) \\{\n",
       "            if (file\\_test(\"-f\", file.path(p, \"Rdata.rds\"))) \\{\n",
       "                rds <- readRDS(file.path(p, \"Rdata.rds\"))\n",
       "                if (name \\%in\\% names(rds)) \\{\n",
       "                  found <- TRUE\n",
       "                  if (verbose) \n",
       "                    message(sprintf(\"name=\\%s:\\textbackslash{}t found in Rdata.rds\", \n",
       "                      name), domain = NA)\n",
       "                  thispkg <- sub(\".*/({[}\\textasciicircum{}/{]}*)/data\\$\", \"\\textbackslash{}\\textbackslash{}1\", p)\n",
       "                  thispkg <- sub(\"\\_.*\\$\", \"\", thispkg)\n",
       "                  thispkg <- paste0(\"package:\", thispkg)\n",
       "                  objs <- rds{[}{[}name{]}{]}\n",
       "                  lazyLoad(file.path(p, \"Rdata\"), envir = envir, \n",
       "                    filter = function(x) x \\%in\\% objs)\n",
       "                  break\n",
       "                \\}\n",
       "                else if (verbose) \n",
       "                  message(sprintf(\"name=\\%s:\\textbackslash{}t NOT found in names() of Rdata.rds, i.e.,\\textbackslash{}n\\textbackslash{}t\\%s\\textbackslash{}n\", \n",
       "                    name, paste(names(rds), collapse = \",\")), \n",
       "                    domain = NA)\n",
       "            \\}\n",
       "            if (file\\_test(\"-f\", file.path(p, \"Rdata.zip\"))) \\{\n",
       "                warning(\"zipped data found for package \", sQuote(basename(dirname(p))), \n",
       "                  \".\\textbackslash{}nThat is defunct, so please re-install the package.\", \n",
       "                  domain = NA)\n",
       "                if (file\\_test(\"-f\", fp <- file.path(p, \"filelist\"))) \n",
       "                  files <- file.path(p, scan(fp, what = \"\", quiet = TRUE))\n",
       "                else \\{\n",
       "                  warning(gettextf(\"file 'filelist' is missing for directory \\%s\", \n",
       "                    sQuote(p)), domain = NA)\n",
       "                  next\n",
       "                \\}\n",
       "            \\}\n",
       "            else \\{\n",
       "                files <- list.files(p, full.names = TRUE)\n",
       "            \\}\n",
       "            files <- files{[}grep(name, files, fixed = TRUE){]}\n",
       "            if (length(files) > 1L) \\{\n",
       "                o <- match(fileExt(files), dataExts, nomatch = 100L)\n",
       "                paths0 <- dirname(files)\n",
       "                paths0 <- factor(paths0, levels = unique(paths0))\n",
       "                files <- files{[}order(paths0, o){]}\n",
       "            \\}\n",
       "            if (length(files)) \\{\n",
       "                for (file in files) \\{\n",
       "                  if (verbose) \n",
       "                    message(\"name=\", name, \":\\textbackslash{}t file= ...\", .Platform\\$file.sep, \n",
       "                      basename(file), \"::\\textbackslash{}t\", appendLF = FALSE, \n",
       "                      domain = NA)\n",
       "                  ext <- fileExt(file)\n",
       "                  if (basename(file) != paste0(name, \".\", ext)) \n",
       "                    found <- FALSE\n",
       "                  else \\{\n",
       "                    found <- TRUE\n",
       "                    zfile <- file\n",
       "                    zipname <- file.path(dirname(file), \"Rdata.zip\")\n",
       "                    if (file.exists(zipname)) \\{\n",
       "                      Rdatadir <- tempfile(\"Rdata\")\n",
       "                      dir.create(Rdatadir, showWarnings = FALSE)\n",
       "                      topic <- basename(file)\n",
       "                      rc <- .External(C\\_unzip, zipname, topic, \n",
       "                        Rdatadir, FALSE, TRUE, FALSE, FALSE)\n",
       "                      if (rc == 0L) \n",
       "                        zfile <- file.path(Rdatadir, topic)\n",
       "                    \\}\n",
       "                    if (zfile != file) \n",
       "                      on.exit(unlink(zfile))\n",
       "                    switch(ext, R = , r = \\{\n",
       "                      library(\"utils\")\n",
       "                      sys.source(zfile, chdir = TRUE, envir = envir)\n",
       "                    \\}, RData = , rdata = , rda = load(zfile, \n",
       "                      envir = envir), TXT = , txt = , tab = , \n",
       "                      tab.gz = , tab.bz2 = , tab.xz = , txt.gz = , \n",
       "                      txt.bz2 = , txt.xz = assign(name, read.table(zfile, \n",
       "                        header = TRUE, as.is = FALSE), envir = envir), \n",
       "                      CSV = , csv = , csv.gz = , csv.bz2 = , \n",
       "                      csv.xz = assign(name, read.table(zfile, \n",
       "                        header = TRUE, sep = \";\", as.is = FALSE), \n",
       "                        envir = envir), found <- FALSE)\n",
       "                  \\}\n",
       "                  if (found) \n",
       "                    break\n",
       "                \\}\n",
       "                if (verbose) \n",
       "                  message(if (!found) \n",
       "                    \"*NOT* \", \"found\", domain = NA)\n",
       "            \\}\n",
       "            if (found) \n",
       "                break\n",
       "        \\}\n",
       "        if (!found) \n",
       "            warning(gettextf(\"data set \\%s not found\", sQuote(name)), \n",
       "                domain = NA)\n",
       "    \\}\n",
       "    invisible(names)\n",
       "\\}\n",
       "\\end{minted}"
      ],
      "text/markdown": [
       "```r\n",
       "function (..., list = character(), package = NULL, lib.loc = NULL, \n",
       "    verbose = getOption(\"verbose\"), envir = .GlobalEnv) \n",
       "{\n",
       "    fileExt <- function(x) {\n",
       "        db <- grepl(\"\\\\.[^.]+\\\\.(gz|bz2|xz)$\", x)\n",
       "        ans <- sub(\".*\\\\.\", \"\", x)\n",
       "        ans[db] <- sub(\".*\\\\.([^.]+\\\\.)(gz|bz2|xz)$\", \"\\\\1\\\\2\", \n",
       "            x[db])\n",
       "        ans\n",
       "    }\n",
       "    names <- c(as.character(substitute(list(...))[-1L]), list)\n",
       "    if (!is.null(package)) {\n",
       "        if (!is.character(package)) \n",
       "            stop(\"'package' must be a character string or NULL\")\n",
       "        if (any(package %in% \"base\")) \n",
       "            warning(\"datasets have been moved from package 'base' to package 'datasets'\")\n",
       "        if (any(package %in% \"stats\")) \n",
       "            warning(\"datasets have been moved from package 'stats' to package 'datasets'\")\n",
       "        package[package %in% c(\"base\", \"stats\")] <- \"datasets\"\n",
       "    }\n",
       "    paths <- find.package(package, lib.loc, verbose = verbose)\n",
       "    if (is.null(lib.loc)) \n",
       "        paths <- c(path.package(package, TRUE), if (!length(package)) getwd(), \n",
       "            paths)\n",
       "    paths <- unique(normalizePath(paths[file.exists(paths)]))\n",
       "    paths <- paths[dir.exists(file.path(paths, \"data\"))]\n",
       "    dataExts <- tools:::.make_file_exts(\"data\")\n",
       "    if (length(names) == 0L) {\n",
       "        db <- matrix(character(), nrow = 0L, ncol = 4L)\n",
       "        for (path in paths) {\n",
       "            entries <- NULL\n",
       "            packageName <- if (file_test(\"-f\", file.path(path, \n",
       "                \"DESCRIPTION\"))) \n",
       "                basename(path)\n",
       "            else \".\"\n",
       "            if (file_test(\"-f\", INDEX <- file.path(path, \"Meta\", \n",
       "                \"data.rds\"))) {\n",
       "                entries <- readRDS(INDEX)\n",
       "            }\n",
       "            else {\n",
       "                dataDir <- file.path(path, \"data\")\n",
       "                entries <- tools::list_files_with_type(dataDir, \n",
       "                  \"data\")\n",
       "                if (length(entries)) {\n",
       "                  entries <- unique(tools::file_path_sans_ext(basename(entries)))\n",
       "                  entries <- cbind(entries, \"\")\n",
       "                }\n",
       "            }\n",
       "            if (NROW(entries)) {\n",
       "                if (is.matrix(entries) && ncol(entries) == 2L) \n",
       "                  db <- rbind(db, cbind(packageName, dirname(path), \n",
       "                    entries))\n",
       "                else warning(gettextf(\"data index for package %s is invalid and will be ignored\", \n",
       "                  sQuote(packageName)), domain = NA, call. = FALSE)\n",
       "            }\n",
       "        }\n",
       "        colnames(db) <- c(\"Package\", \"LibPath\", \"Item\", \"Title\")\n",
       "        footer <- if (missing(package)) \n",
       "            paste0(\"Use \", sQuote(paste(\"data(package =\", \".packages(all.available = TRUE))\")), \n",
       "                \"\\n\", \"to list the data sets in all *available* packages.\")\n",
       "        else NULL\n",
       "        y <- list(title = \"Data sets\", header = NULL, results = db, \n",
       "            footer = footer)\n",
       "        class(y) <- \"packageIQR\"\n",
       "        return(y)\n",
       "    }\n",
       "    paths <- file.path(paths, \"data\")\n",
       "    for (name in names) {\n",
       "        found <- FALSE\n",
       "        for (p in paths) {\n",
       "            if (file_test(\"-f\", file.path(p, \"Rdata.rds\"))) {\n",
       "                rds <- readRDS(file.path(p, \"Rdata.rds\"))\n",
       "                if (name %in% names(rds)) {\n",
       "                  found <- TRUE\n",
       "                  if (verbose) \n",
       "                    message(sprintf(\"name=%s:\\t found in Rdata.rds\", \n",
       "                      name), domain = NA)\n",
       "                  thispkg <- sub(\".*/([^/]*)/data$\", \"\\\\1\", p)\n",
       "                  thispkg <- sub(\"_.*$\", \"\", thispkg)\n",
       "                  thispkg <- paste0(\"package:\", thispkg)\n",
       "                  objs <- rds[[name]]\n",
       "                  lazyLoad(file.path(p, \"Rdata\"), envir = envir, \n",
       "                    filter = function(x) x %in% objs)\n",
       "                  break\n",
       "                }\n",
       "                else if (verbose) \n",
       "                  message(sprintf(\"name=%s:\\t NOT found in names() of Rdata.rds, i.e.,\\n\\t%s\\n\", \n",
       "                    name, paste(names(rds), collapse = \",\")), \n",
       "                    domain = NA)\n",
       "            }\n",
       "            if (file_test(\"-f\", file.path(p, \"Rdata.zip\"))) {\n",
       "                warning(\"zipped data found for package \", sQuote(basename(dirname(p))), \n",
       "                  \".\\nThat is defunct, so please re-install the package.\", \n",
       "                  domain = NA)\n",
       "                if (file_test(\"-f\", fp <- file.path(p, \"filelist\"))) \n",
       "                  files <- file.path(p, scan(fp, what = \"\", quiet = TRUE))\n",
       "                else {\n",
       "                  warning(gettextf(\"file 'filelist' is missing for directory %s\", \n",
       "                    sQuote(p)), domain = NA)\n",
       "                  next\n",
       "                }\n",
       "            }\n",
       "            else {\n",
       "                files <- list.files(p, full.names = TRUE)\n",
       "            }\n",
       "            files <- files[grep(name, files, fixed = TRUE)]\n",
       "            if (length(files) > 1L) {\n",
       "                o <- match(fileExt(files), dataExts, nomatch = 100L)\n",
       "                paths0 <- dirname(files)\n",
       "                paths0 <- factor(paths0, levels = unique(paths0))\n",
       "                files <- files[order(paths0, o)]\n",
       "            }\n",
       "            if (length(files)) {\n",
       "                for (file in files) {\n",
       "                  if (verbose) \n",
       "                    message(\"name=\", name, \":\\t file= ...\", .Platform$file.sep, \n",
       "                      basename(file), \"::\\t\", appendLF = FALSE, \n",
       "                      domain = NA)\n",
       "                  ext <- fileExt(file)\n",
       "                  if (basename(file) != paste0(name, \".\", ext)) \n",
       "                    found <- FALSE\n",
       "                  else {\n",
       "                    found <- TRUE\n",
       "                    zfile <- file\n",
       "                    zipname <- file.path(dirname(file), \"Rdata.zip\")\n",
       "                    if (file.exists(zipname)) {\n",
       "                      Rdatadir <- tempfile(\"Rdata\")\n",
       "                      dir.create(Rdatadir, showWarnings = FALSE)\n",
       "                      topic <- basename(file)\n",
       "                      rc <- .External(C_unzip, zipname, topic, \n",
       "                        Rdatadir, FALSE, TRUE, FALSE, FALSE)\n",
       "                      if (rc == 0L) \n",
       "                        zfile <- file.path(Rdatadir, topic)\n",
       "                    }\n",
       "                    if (zfile != file) \n",
       "                      on.exit(unlink(zfile))\n",
       "                    switch(ext, R = , r = {\n",
       "                      library(\"utils\")\n",
       "                      sys.source(zfile, chdir = TRUE, envir = envir)\n",
       "                    }, RData = , rdata = , rda = load(zfile, \n",
       "                      envir = envir), TXT = , txt = , tab = , \n",
       "                      tab.gz = , tab.bz2 = , tab.xz = , txt.gz = , \n",
       "                      txt.bz2 = , txt.xz = assign(name, read.table(zfile, \n",
       "                        header = TRUE, as.is = FALSE), envir = envir), \n",
       "                      CSV = , csv = , csv.gz = , csv.bz2 = , \n",
       "                      csv.xz = assign(name, read.table(zfile, \n",
       "                        header = TRUE, sep = \";\", as.is = FALSE), \n",
       "                        envir = envir), found <- FALSE)\n",
       "                  }\n",
       "                  if (found) \n",
       "                    break\n",
       "                }\n",
       "                if (verbose) \n",
       "                  message(if (!found) \n",
       "                    \"*NOT* \", \"found\", domain = NA)\n",
       "            }\n",
       "            if (found) \n",
       "                break\n",
       "        }\n",
       "        if (!found) \n",
       "            warning(gettextf(\"data set %s not found\", sQuote(name)), \n",
       "                domain = NA)\n",
       "    }\n",
       "    invisible(names)\n",
       "}\n",
       "```"
      ],
      "text/plain": [
       "function (..., list = character(), package = NULL, lib.loc = NULL, \n",
       "    verbose = getOption(\"verbose\"), envir = .GlobalEnv) \n",
       "{\n",
       "    fileExt <- function(x) {\n",
       "        db <- grepl(\"\\\\.[^.]+\\\\.(gz|bz2|xz)$\", x)\n",
       "        ans <- sub(\".*\\\\.\", \"\", x)\n",
       "        ans[db] <- sub(\".*\\\\.([^.]+\\\\.)(gz|bz2|xz)$\", \"\\\\1\\\\2\", \n",
       "            x[db])\n",
       "        ans\n",
       "    }\n",
       "    names <- c(as.character(substitute(list(...))[-1L]), list)\n",
       "    if (!is.null(package)) {\n",
       "        if (!is.character(package)) \n",
       "            stop(\"'package' must be a character string or NULL\")\n",
       "        if (any(package %in% \"base\")) \n",
       "            warning(\"datasets have been moved from package 'base' to package 'datasets'\")\n",
       "        if (any(package %in% \"stats\")) \n",
       "            warning(\"datasets have been moved from package 'stats' to package 'datasets'\")\n",
       "        package[package %in% c(\"base\", \"stats\")] <- \"datasets\"\n",
       "    }\n",
       "    paths <- find.package(package, lib.loc, verbose = verbose)\n",
       "    if (is.null(lib.loc)) \n",
       "        paths <- c(path.package(package, TRUE), if (!length(package)) getwd(), \n",
       "            paths)\n",
       "    paths <- unique(normalizePath(paths[file.exists(paths)]))\n",
       "    paths <- paths[dir.exists(file.path(paths, \"data\"))]\n",
       "    dataExts <- tools:::.make_file_exts(\"data\")\n",
       "    if (length(names) == 0L) {\n",
       "        db <- matrix(character(), nrow = 0L, ncol = 4L)\n",
       "        for (path in paths) {\n",
       "            entries <- NULL\n",
       "            packageName <- if (file_test(\"-f\", file.path(path, \n",
       "                \"DESCRIPTION\"))) \n",
       "                basename(path)\n",
       "            else \".\"\n",
       "            if (file_test(\"-f\", INDEX <- file.path(path, \"Meta\", \n",
       "                \"data.rds\"))) {\n",
       "                entries <- readRDS(INDEX)\n",
       "            }\n",
       "            else {\n",
       "                dataDir <- file.path(path, \"data\")\n",
       "                entries <- tools::list_files_with_type(dataDir, \n",
       "                  \"data\")\n",
       "                if (length(entries)) {\n",
       "                  entries <- unique(tools::file_path_sans_ext(basename(entries)))\n",
       "                  entries <- cbind(entries, \"\")\n",
       "                }\n",
       "            }\n",
       "            if (NROW(entries)) {\n",
       "                if (is.matrix(entries) && ncol(entries) == 2L) \n",
       "                  db <- rbind(db, cbind(packageName, dirname(path), \n",
       "                    entries))\n",
       "                else warning(gettextf(\"data index for package %s is invalid and will be ignored\", \n",
       "                  sQuote(packageName)), domain = NA, call. = FALSE)\n",
       "            }\n",
       "        }\n",
       "        colnames(db) <- c(\"Package\", \"LibPath\", \"Item\", \"Title\")\n",
       "        footer <- if (missing(package)) \n",
       "            paste0(\"Use \", sQuote(paste(\"data(package =\", \".packages(all.available = TRUE))\")), \n",
       "                \"\\n\", \"to list the data sets in all *available* packages.\")\n",
       "        else NULL\n",
       "        y <- list(title = \"Data sets\", header = NULL, results = db, \n",
       "            footer = footer)\n",
       "        class(y) <- \"packageIQR\"\n",
       "        return(y)\n",
       "    }\n",
       "    paths <- file.path(paths, \"data\")\n",
       "    for (name in names) {\n",
       "        found <- FALSE\n",
       "        for (p in paths) {\n",
       "            if (file_test(\"-f\", file.path(p, \"Rdata.rds\"))) {\n",
       "                rds <- readRDS(file.path(p, \"Rdata.rds\"))\n",
       "                if (name %in% names(rds)) {\n",
       "                  found <- TRUE\n",
       "                  if (verbose) \n",
       "                    message(sprintf(\"name=%s:\\t found in Rdata.rds\", \n",
       "                      name), domain = NA)\n",
       "                  thispkg <- sub(\".*/([^/]*)/data$\", \"\\\\1\", p)\n",
       "                  thispkg <- sub(\"_.*$\", \"\", thispkg)\n",
       "                  thispkg <- paste0(\"package:\", thispkg)\n",
       "                  objs <- rds[[name]]\n",
       "                  lazyLoad(file.path(p, \"Rdata\"), envir = envir, \n",
       "                    filter = function(x) x %in% objs)\n",
       "                  break\n",
       "                }\n",
       "                else if (verbose) \n",
       "                  message(sprintf(\"name=%s:\\t NOT found in names() of Rdata.rds, i.e.,\\n\\t%s\\n\", \n",
       "                    name, paste(names(rds), collapse = \",\")), \n",
       "                    domain = NA)\n",
       "            }\n",
       "            if (file_test(\"-f\", file.path(p, \"Rdata.zip\"))) {\n",
       "                warning(\"zipped data found for package \", sQuote(basename(dirname(p))), \n",
       "                  \".\\nThat is defunct, so please re-install the package.\", \n",
       "                  domain = NA)\n",
       "                if (file_test(\"-f\", fp <- file.path(p, \"filelist\"))) \n",
       "                  files <- file.path(p, scan(fp, what = \"\", quiet = TRUE))\n",
       "                else {\n",
       "                  warning(gettextf(\"file 'filelist' is missing for directory %s\", \n",
       "                    sQuote(p)), domain = NA)\n",
       "                  next\n",
       "                }\n",
       "            }\n",
       "            else {\n",
       "                files <- list.files(p, full.names = TRUE)\n",
       "            }\n",
       "            files <- files[grep(name, files, fixed = TRUE)]\n",
       "            if (length(files) > 1L) {\n",
       "                o <- match(fileExt(files), dataExts, nomatch = 100L)\n",
       "                paths0 <- dirname(files)\n",
       "                paths0 <- factor(paths0, levels = unique(paths0))\n",
       "                files <- files[order(paths0, o)]\n",
       "            }\n",
       "            if (length(files)) {\n",
       "                for (file in files) {\n",
       "                  if (verbose) \n",
       "                    message(\"name=\", name, \":\\t file= ...\", .Platform$file.sep, \n",
       "                      basename(file), \"::\\t\", appendLF = FALSE, \n",
       "                      domain = NA)\n",
       "                  ext <- fileExt(file)\n",
       "                  if (basename(file) != paste0(name, \".\", ext)) \n",
       "                    found <- FALSE\n",
       "                  else {\n",
       "                    found <- TRUE\n",
       "                    zfile <- file\n",
       "                    zipname <- file.path(dirname(file), \"Rdata.zip\")\n",
       "                    if (file.exists(zipname)) {\n",
       "                      Rdatadir <- tempfile(\"Rdata\")\n",
       "                      dir.create(Rdatadir, showWarnings = FALSE)\n",
       "                      topic <- basename(file)\n",
       "                      rc <- .External(C_unzip, zipname, topic, \n",
       "                        Rdatadir, FALSE, TRUE, FALSE, FALSE)\n",
       "                      if (rc == 0L) \n",
       "                        zfile <- file.path(Rdatadir, topic)\n",
       "                    }\n",
       "                    if (zfile != file) \n",
       "                      on.exit(unlink(zfile))\n",
       "                    switch(ext, R = , r = {\n",
       "                      library(\"utils\")\n",
       "                      sys.source(zfile, chdir = TRUE, envir = envir)\n",
       "                    }, RData = , rdata = , rda = load(zfile, \n",
       "                      envir = envir), TXT = , txt = , tab = , \n",
       "                      tab.gz = , tab.bz2 = , tab.xz = , txt.gz = , \n",
       "                      txt.bz2 = , txt.xz = assign(name, read.table(zfile, \n",
       "                        header = TRUE, as.is = FALSE), envir = envir), \n",
       "                      CSV = , csv = , csv.gz = , csv.bz2 = , \n",
       "                      csv.xz = assign(name, read.table(zfile, \n",
       "                        header = TRUE, sep = \";\", as.is = FALSE), \n",
       "                        envir = envir), found <- FALSE)\n",
       "                  }\n",
       "                  if (found) \n",
       "                    break\n",
       "                }\n",
       "                if (verbose) \n",
       "                  message(if (!found) \n",
       "                    \"*NOT* \", \"found\", domain = NA)\n",
       "            }\n",
       "            if (found) \n",
       "                break\n",
       "        }\n",
       "        if (!found) \n",
       "            warning(gettextf(\"data set %s not found\", sQuote(name)), \n",
       "                domain = NA)\n",
       "    }\n",
       "    invisible(names)\n",
       "}\n",
       "<bytecode: 0x40dac68>\n",
       "<environment: namespace:utils>"
      ]
     },
     "metadata": {},
     "output_type": "display_data"
    }
   ],
   "source": [
    "data"
   ]
  },
  {
   "cell_type": "markdown",
   "metadata": {},
   "source": [
    "\n",
    "To see an example of functions at work, we will use to `co2` dataset to illustrate the function `plot`, one of the base functions. We can plot Mauna Loa Atmospheric CO2 Concentration over time like this:\n",
    "\n"
   ]
  },
  {
   "cell_type": "code",
   "execution_count": 5,
   "metadata": {
    "autoscroll": false
   },
   "outputs": [
    {
     "data": {
      "image/png": "[encoded data removed]",
      "text/plain": [
       "plot without title"
      ]
     },
     "metadata": {},
     "output_type": "display_data"
    }
   ],
   "source": [
    "plot(co2)"
   ]
  },
  {
   "cell_type": "markdown",
   "metadata": {},
   "source": [
    "\n",
    "Note that R's base functionality is bare bones. Note that data science applications are broad, the statistical toolbox is extensive, and most users need only a small fraction of all the available functionality. Therefore, a better approach is to make specific functionality available _on demand_, just like apps for smartphones.  R does this using _packages_, also called _libraries_.\n",
    "\n",
    "Some packages are considered popular enough that they are included with the base download.\n",
    "For example, the software implementing the method of survival analysis are in the `survival` package. To bring that functionality to your current session we type\n",
    "\n"
   ]
  },
  {
   "cell_type": "code",
   "execution_count": 6,
   "metadata": {
    "Rmd_chunk_options": "eval=FALSE",
    "autoscroll": false
   },
   "outputs": [],
   "source": [
    "library(survival)"
   ]
  },
  {
   "cell_type": "markdown",
   "metadata": {},
   "source": [
    "\n",
    "However, CRAN has over 4,000 packages that are not included in the base installation. You can install these using the `install.packages` function.\n",
    "\n",
    "### Installing Packages\n",
    "\n",
    "To use an add-on package that is not included with base R, you'll first need to install it. The first R command we will run is `install.packages`.  Packages can be retrieved from several different repositories.  One popular repository is CRAN, where\n",
    "packages are vetted: they are checked for common errors and they must have a dedicated maintainer. There are other repositories, some with more vetting, such as [Bioconductor](http://www.bioconductor.org), and no vetting, such as GitHub. You can easily install CRAN packages from within R if you know the name of the packages. As an example, if you want to install the package `dplyr`, you would use:\n",
    "\n"
   ]
  },
  {
   "cell_type": "code",
   "execution_count": 7,
   "metadata": {
    "Rmd_chunk_options": "eval=FALSE",
    "autoscroll": false
   },
   "outputs": [
    {
     "name": "stderr",
     "output_type": "stream",
     "text": [
      "Updating HTML index of packages in '.Library'\n",
      "Making 'packages.html' ... done\n"
     ]
    }
   ],
   "source": [
    "install.packages(\"dplyr\")"
   ]
  },
  {
   "cell_type": "markdown",
   "metadata": {},
   "source": [
    "\n",
    "We can then load the package into our R sessions using the `library` function:\n",
    "\n"
   ]
  },
  {
   "cell_type": "code",
   "execution_count": 8,
   "metadata": {
    "Rmd_chunk_options": "warning=FALSE",
    "autoscroll": false
   },
   "outputs": [
    {
     "name": "stderr",
     "output_type": "stream",
     "text": [
      "\n",
      "Attaching package: ‘dplyr’\n",
      "\n",
      "The following objects are masked from ‘package:stats’:\n",
      "\n",
      "    filter, lag\n",
      "\n",
      "The following objects are masked from ‘package:base’:\n",
      "\n",
      "    intersect, setdiff, setequal, union\n",
      "\n"
     ]
    }
   ],
   "source": [
    "library(dplyr)"
   ]
  },
  {
   "cell_type": "markdown",
   "metadata": {},
   "source": [
    "\n",
    "This step only needs to be carried out once on your machine.  This is because once you install the package, it\n",
    "remains in place and only needs to be loaded with `library`. If you ever\n",
    "try to load a package with the `library` command and get an error, it probably means you need to\n",
    "install it first. Note that there are reasons to reinstall packages that already exist in your library (e.g., to\n",
    "receive updated versions of packages).\n",
    "\n",
    "### Getting help\n",
    "\n",
    "A key feature you need to know about R is that you can get help for a function using `help` or `?`, like this:\n"
   ]
  },
  {
   "cell_type": "code",
   "execution_count": 9,
   "metadata": {
    "Rmd_chunk_options": "eval=FALSE",
    "autoscroll": false
   },
   "outputs": [],
   "source": [
    "?install.packages\n",
    "help(\"install.packages\")"
   ]
  },
  {
   "cell_type": "markdown",
   "metadata": {},
   "source": [
    "\n",
    "These pages are quite detailed about what the function expects as input and what the function produces as output. They also include helpful examples of how to use the function at the end.\n",
    "\n",
    "### Comments\n",
    "The hash character represents comments, so text following these\n",
    "characters is not interpreted:\n",
    "\n"
   ]
  },
  {
   "cell_type": "code",
   "execution_count": 10,
   "metadata": {
    "autoscroll": false
   },
   "outputs": [],
   "source": [
    "##This is just a comment; nothing happens after execution."
   ]
  },
  {
   "cell_type": "markdown",
   "metadata": {},
   "source": [
    "\n",
    "When writing your own R scripts, it is strongly recommended that you write out comments (or include text if using an R Markdown notebook)\n",
    "that explain what each section of code is doing. This is very helpful both for collaborators, and for\n",
    "your future self who may have to review, run, or edit your code.\n",
    "\n",
    "## General Programming Principles\n",
    "\n",
    "Although there are different styles and languages of programming, in essence a piece of code is just a very detailed set of instructions.  Each language has its own set of rules and syntax.  According to Wikipedia, syntax is\n",
    "\n",
    ">\"the set of rules that defines the combinations of symbols that are considered to be a correctly structured document or fragment in that language.\"\n",
    "\n",
    "Here are some general tips and pitfalls to avoid that will be useful when writing R code\n",
    "\n",
    "####**1. Case matters**: variable names, keywords, functions, and package names are all case-sensitive\n",
    "\n"
   ]
  },
  {
   "cell_type": "code",
   "execution_count": 11,
   "metadata": {
    "Rmd_chunk_options": "error=TRUE",
    "autoscroll": false
   },
   "outputs": [
    {
     "data": {
      "text/html": [
       "10"
      ],
      "text/latex": [
       "10"
      ],
      "text/markdown": [
       "10"
      ],
      "text/plain": [
       "[1] 10"
      ]
     },
     "metadata": {},
     "output_type": "display_data"
    }
   ],
   "source": [
    "x <- 2\n",
    "x + 8"
   ]
  },
  {
   "cell_type": "markdown",
   "metadata": {},
   "source": [
    "\n",
    "####**2. Avoid using spaces**: variable names cannot contain spaces\n",
    "\n"
   ]
  },
  {
   "cell_type": "code",
   "execution_count": 12,
   "metadata": {
    "Rmd_chunk_options": "error=TRUE",
    "autoscroll": false
   },
   "outputs": [
    {
     "ename": "ERROR",
     "evalue": "Error in parse(text = x, srcfile = src): <text>:1:4: unexpected symbol\n1: my variable\n       ^\n",
     "output_type": "error",
     "traceback": [
      "Error in parse(text = x, srcfile = src): <text>:1:4: unexpected symbol\n1: my variable\n       ^\nTraceback:\n"
     ]
    }
   ],
   "source": [
    "my variable <- 10"
   ]
  },
  {
   "cell_type": "markdown",
   "metadata": {},
   "source": [
    "\n",
    "####**3. Use comments liberally**: your future self and others will thank you\n",
    "\n",
    "\n"
   ]
  },
  {
   "cell_type": "code",
   "execution_count": null,
   "metadata": {
    "autoscroll": false
   },
   "outputs": [],
   "source": [
    "# define scalar variables x and y\n",
    "x <- 2\n",
    "y <- 3\n",
    "\n",
    "# add variables x and y\n",
    "x + y"
   ]
  },
  {
   "cell_type": "markdown",
   "metadata": {},
   "source": [
    "\n",
    "####**4. Pay attention to classes**: character strings, numerics, factors, matrices, lists, data.frames, etc., all behave differently in R\n",
    "\n"
   ]
  },
  {
   "cell_type": "code",
   "execution_count": null,
   "metadata": {
    "Rmd_chunk_options": "error=TRUE",
    "autoscroll": false
   },
   "outputs": [],
   "source": [
    "myNumber <- factor(10)\n",
    "str(myNumber)\n",
    "myNumber^2\n",
    "as.numeric(myNumber)^2\n",
    "as.character(myNumber)^2\n",
    "as.numeric(as.character(myNumber))^2"
   ]
  },
  {
   "cell_type": "markdown",
   "metadata": {},
   "source": [
    "\n",
    "####**5. Search the documentation for answers**: when something unexpected happens, try to find out why by reading the documentation\n",
    "\n"
   ]
  },
  {
   "cell_type": "code",
   "execution_count": null,
   "metadata": {
    "autoscroll": false
   },
   "outputs": [],
   "source": [
    "mean(c(3,4,5,NA))\n",
    "?mean\n",
    "mean(c(3,4,5,NA), na.rm=TRUE)"
   ]
  },
  {
   "cell_type": "markdown",
   "metadata": {},
   "source": [
    "\n",
    "####**6. It's OK to make mistakes**: expert R programmers run into (and _learn_ from) errors all the time\n",
    "\n",
    "Don't panic about those error messages!\n",
    "\n",
    "## Using R for Data Science\n",
    "\n",
    "The process of reading in data and getting it in a format for analysis is often called data \"wrangling\". This step may seem simple to an outside observer, but often takes up a significant proportion of the time spent on a data analysis.\n",
    "\n",
    "### Importing Data into R\n",
    "\n",
    "The first step when preparing to analyze data is to read in the data into R. There are several ways to do this, but we are going to focus on reading in data stored in an external Comma-Separated Value (CSV) file. This can be done with the help of the `read.csv` function.\n",
    "\n",
    "Small datasets are often stored as Excel files.  Although there are R packages designed to read Excel (xls) format, you generally want\n",
    "to avoid this and save files as comma delimited (Comma-Separated\n",
    "Value/CSV) or tab delimited (Tab-Separated Value/TSV/TXT) files.\n",
    "These plain-text formats are often easier for sharing, as commercial software is not required for viewing or\n",
    "working with the data.\n",
    "\n",
    "If your data is not in CSV format there are many other helpful functions that will read your data into R, such as `read.table`, `read.delim`, `download.file`.  Check out their help pages to learn more.\n",
    "\n",
    "If you are reading in a file stored on your computer, the first step is to find the file containing your data and know its *path*.\n",
    "\n",
    "#### Paths and the Working Directory\n",
    "\n",
    "When you are working in R it is useful to know your _working directory_. This is the directory or folder in which R will save or look for files by default. You can see your working directory thought the console by typing:\n",
    "\n"
   ]
  },
  {
   "cell_type": "code",
   "execution_count": null,
   "metadata": {
    "Rmd_chunk_options": "eval=FALSE",
    "autoscroll": false
   },
   "outputs": [],
   "source": [
    "getwd()"
   ]
  },
  {
   "cell_type": "markdown",
   "metadata": {},
   "source": [
    "\n",
    "You can also change your working directory using the function `setwd`. Or you can change it through the RStudio menus by clicking on \"Session\".\n",
    "\n",
    "The functions that read and write files (there are several in R) assume you mean to look for files or write files in the working directory. Our recommended approach for beginners will have you reading and writing to the working directory. However, you can also type the [full path](http://www.computerhope.com/jargon/a/absopath.htm), which will work independently of the working directory.\n",
    "\n",
    "As an example, let's read in one of the datasets we'll be analyzing today:\n",
    "\n"
   ]
  },
  {
   "cell_type": "code",
   "execution_count": null,
   "metadata": {
    "Rmd_chunk_options": "readRaw",
    "autoscroll": false
   },
   "outputs": [],
   "source": [
    "rawFile <- \"rawPharmacoData.csv\"\n",
    "if( !file.exists( rawFile ) ){\n",
    "    source(\"downloadData.R\")\n",
    "}\n",
    "pharmacoData <- read.csv(rawFile)"
   ]
  },
  {
   "cell_type": "markdown",
   "metadata": {},
   "source": [
    "\n",
    "Once we have read a dataset into an _object_ (here we called it `pharmacoData`), we are ready to explore it.  What exactly is in `pharmacoData`? To check a summary of its contents, the `str()` function is handy (which stands for 'structure')\n",
    "\n"
   ]
  },
  {
   "cell_type": "code",
   "execution_count": null,
   "metadata": {
    "Rmd_chunk_options": "eval=TRUE",
    "autoscroll": false
   },
   "outputs": [],
   "source": [
    "str(pharmacoData)"
   ]
  },
  {
   "cell_type": "markdown",
   "metadata": {},
   "source": [
    "\n",
    "Here we see that this object is a `data.frame`. These are one of the most widely used data types in R. They are particularly useful for storing tables.  We can also print out the top of the data frame using the `head()` function\n",
    "\n"
   ]
  },
  {
   "cell_type": "code",
   "execution_count": null,
   "metadata": {
    "Rmd_chunk_options": "eval=TRUE",
    "autoscroll": false
   },
   "outputs": [],
   "source": [
    "head(pharmacoData)"
   ]
  },
  {
   "cell_type": "markdown",
   "metadata": {},
   "source": [
    "\n",
    "Another option is to open up a 'spreadsheet' tab in another RStudio window, which can be done with the `View` function:\n",
    "\n"
   ]
  },
  {
   "cell_type": "code",
   "execution_count": null,
   "metadata": {
    "Rmd_chunk_options": "eval=FALSE",
    "autoscroll": false
   },
   "outputs": [],
   "source": [
    "View(pharmacoData)"
   ]
  },
  {
   "cell_type": "markdown",
   "metadata": {},
   "source": [
    "\n",
    "#### Class types\n",
    "\n",
    "There are many different data types in R, but a list of the more common ones include:\n",
    "\n",
    "- `data.frame`\n",
    "- `vector`\n",
    "- `matrix`\n",
    "- `list`\n",
    "- `factor`\n",
    "- `character`\n",
    "- `numeric`\n",
    "- `integer`\n",
    "- `double`\n",
    "\n",
    "Each of them has their own properties and reading up on them will give you a better understanding of the underlying\n",
    "R infrastructure. See the respective help files for additional information. To see what type of _class_ an object is\n",
    "one can use the `class` function.\n",
    "\n"
   ]
  },
  {
   "cell_type": "code",
   "execution_count": null,
   "metadata": {
    "Rmd_chunk_options": "eval=TRUE",
    "autoscroll": false
   },
   "outputs": [],
   "source": [
    "class(pharmacoData)"
   ]
  },
  {
   "cell_type": "markdown",
   "metadata": {},
   "source": [
    "\n",
    "#### Extracting columns\n",
    "\n",
    "To extract columns from the data.frame we use the `$` character like this (to avoid printing the entire column to the screen, we'll add the `head` function to just print the top):\n",
    "\n"
   ]
  },
  {
   "cell_type": "code",
   "execution_count": null,
   "metadata": {
    "autoscroll": false
   },
   "outputs": [],
   "source": [
    "head(pharmacoData$drug)"
   ]
  },
  {
   "cell_type": "markdown",
   "metadata": {},
   "source": [
    "\n",
    "This now gives us a vector. We can access elements of the vector using the `[` symbol. Here is the 5000th element of the vector:\n",
    "\n"
   ]
  },
  {
   "cell_type": "code",
   "execution_count": null,
   "metadata": {
    "autoscroll": false
   },
   "outputs": [],
   "source": [
    "pharmacoData$drug[5000]"
   ]
  },
  {
   "cell_type": "markdown",
   "metadata": {},
   "source": [
    "\n",
    "#### Vectors\n",
    "\n",
    "Vectors are a sequence of data elements of the same type (class). Many of the operations used to analyze data are applied to vectors. In R, vectors can be numeric, characters or logical.\n",
    "\n",
    "The most basic way to creat a vector is with the function `c`\n"
   ]
  },
  {
   "cell_type": "code",
   "execution_count": null,
   "metadata": {
    "autoscroll": false
   },
   "outputs": [],
   "source": [
    "x <- c(1,2,3,4,5)"
   ]
  },
  {
   "cell_type": "markdown",
   "metadata": {},
   "source": [
    "\n",
    "Two very common ways of generating vectors are using `:` or the `seq` function:\n",
    "\n"
   ]
  },
  {
   "cell_type": "code",
   "execution_count": null,
   "metadata": {
    "autoscroll": false
   },
   "outputs": [],
   "source": [
    "x <- 1:5\n",
    "x <- seq(1,5)"
   ]
  },
  {
   "cell_type": "markdown",
   "metadata": {},
   "source": [
    "\n",
    "Vectors can have names\n",
    "\n"
   ]
  },
  {
   "cell_type": "code",
   "execution_count": null,
   "metadata": {
    "autoscroll": false
   },
   "outputs": [],
   "source": [
    "names(x) <- letters[1:5]\n",
    "x"
   ]
  },
  {
   "cell_type": "markdown",
   "metadata": {},
   "source": [
    "\n",
    "#### Functions\n",
    "\n",
    "Up to now we have used prebuilt functions. However, many times we have to construct our own. We can do this in R using the `function`:\n",
    "\n"
   ]
  },
  {
   "cell_type": "code",
   "execution_count": null,
   "metadata": {
    "autoscroll": false
   },
   "outputs": [],
   "source": [
    "avg <- function(x){\n",
    "  return( sum(x) / length(x) )\n",
    "}\n",
    "avg( 1:5 )"
   ]
  },
  {
   "cell_type": "markdown",
   "metadata": {},
   "source": [
    "\n",
    "## Resources\n",
    "\n",
    "Material in this tutorial was adapted from Rafael Irizarry's _Introduction to Data Science_ course.\n",
    "\n",
    "If you want to learn more about R after this event, a great place to start is with the [swirl](http://swirlstats.com/) tutorial, which teaches you R programming interactively, at your own pace and in the R console. Once you have R installed, you can install `swirl` and run it the following way:\n",
    "\n"
   ]
  },
  {
   "cell_type": "code",
   "execution_count": null,
   "metadata": {
    "Rmd_chunk_options": "eval=FALSE",
    "autoscroll": false
   },
   "outputs": [],
   "source": [
    "install.packages(\"swirl\")\n",
    "library(swirl)\n",
    "swirl()"
   ]
  },
  {
   "cell_type": "markdown",
   "metadata": {},
   "source": [
    "\n",
    "There are also many open and free resources and reference\n",
    "guides for R. Two examples are:\n",
    "\n",
    "* [Quick-R](http://www.statmethods.net/): a quick online reference for data input, basic statistics and plots\n",
    "* R reference card (PDF)[https://cran.r-project.org/doc/contrib/Short-refcard.pdf] by Tom Short\n",
    "\n",
    "#### Some Useful Books on S/R\n",
    "\n",
    "Standard texts\n",
    "\n",
    "-   Chambers (2008). *Software for Data Analysis*, Springer. (your\n",
    "    textbook)\n",
    "\n",
    "-   Chambers (1998). *Programming with Data*, Springer.\n",
    "\n",
    "-   Venables & Ripley (2002). *Modern Applied Statistics with S*,\n",
    "    Springer.\n",
    "\n",
    "-   Venables & Ripley (2000). *S Programming*, Springer.\n",
    "\n",
    "-   Pinheiro & Bates (2000). *Mixed-Effects Models in S and S-PLUS*,\n",
    "    Springer.\n",
    "\n",
    "-   Murrell (2005). *R Graphics*, Chapman & Hall/CRC Press.\n",
    "\n",
    "Other resources\n",
    "\n",
    "-   Springer has a series of books called *Use R!*.\n",
    "\n",
    "-   A longer list of books is at\n",
    "    http://www.r-project.org/doc/bib/R-books.html\n"
   ]
  }
 ],
 "metadata": {
  "Rmd_header": {
   "output": "html_document",
   "title": "Tutorial 0: R Basics"
  },
  "kernelspec": {
   "display_name": "R",
   "language": "R",
   "name": "ir"
  },
  "language_info": {
   "codemirror_mode": "r",
   "file_extension": ".r",
   "mimetype": "text/x-r-source",
   "name": "R",
   "pygments_lexer": "r",
   "version": "3.5.1"
  }
 },
 "nbformat": 4,
 "nbformat_minor": 1
}
