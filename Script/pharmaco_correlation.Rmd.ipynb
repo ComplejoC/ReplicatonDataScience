{
 "cells": [
  {
   "cell_type": "code",
   "execution_count": null,
   "metadata": {
    "Rmd_chunk_options": "setup, include=FALSE",
    "autoscroll": false,
    "collapsed": true
   },
   "outputs": [],
   "source": [
    "knitr::opts_chunk$set(echo = TRUE)"
   ]
  },
  {
   "cell_type": "markdown",
   "metadata": {},
   "source": [
    "\n",
    "## Replicability of large Pharmacological Studies\n",
    "\n",
    "Hopefully you have had the chance to explore the features of the CCLE and GDSC drug response datasets. If not, it might be a good idea to check out the tutorial on 'Exploratory analysis of pharmacogenomic data' to get a feel for what types of variables the datasets contain, and learn about the difference between the raw dataset, which contains the cell line viability at each drug concentration, and the summarized dataset, which contains numerical summaries of the cell lines response to a drug over all concentrations.\n",
    "\n",
    "In this tutorial we'll learn more about summary measures of drug response, and then use scatterplots and correlation measures to assess the agreement of these summary measures in the two studies.\n",
    "\n",
    "## Summary measurements of drug response\n",
    "\n",
    "Recall that in the summarized dataset, for each cell line and drug combination, the cell line viability over all drug concentrations has been summarized into a single number, which represents the *overall effect of the drug on the cell line*. Essentially, There are many different ways this could be done, and our data provides two possible measures:\n",
    "\n",
    "1. IC50: the estimated concentration of the drug that will result in half (50%) of the cells surviving.\n",
    "\n",
    "![](Figures/IC50.jpg)\n",
    "\n",
    "Are cell lines with higher IC50 values more or less susceptible? What about drugs with higher IC50 values - are they more or less toxic?\n",
    "\n",
    "\n",
    "> Place your answer here\n",
    "\n",
    "\n",
    "2. AUC (Area Under the Curve): despite the name, this is actually the area *above* the curve estimated by the drug concentration and viability data (or 1-area under the curve). Note that the estimation of this curve is not a simple task in itself - check out the vignette on summarizing the relationship between two variables to learn more.\n",
    "\n",
    "![](Figures/AUC.jpg)\n",
    "\n",
    "Are cell lines with higher values of AUC more or less resistant?\n",
    "\n",
    "> Place your answer here\n",
    "\n",
    "Are drugs with higher AUC more or less toxic?\n",
    "\n",
    "> Place your answer here\n",
    "\n",
    "## Load the summarized pharmacological dataset into the session\n",
    "First, we'll read in the .csv file that contains the summarized pharmacological data (including the IC50 and AUC values for each drug and cell line combination, as described above).\n",
    "\n"
   ]
  },
  {
   "cell_type": "code",
   "execution_count": null,
   "metadata": {
    "Rmd_chunk_options": "read csv",
    "autoscroll": false,
    "collapsed": true
   },
   "outputs": [],
   "source": [
    "cellLinesSummary <- read.csv(\"summarizedPharmacoData.csv\", header=TRUE)\n",
    "str(cellLinesSummary)\n",
    "\n",
    "length(unique(cellLinesSummary$cellLine))\n",
    "length(unique(cellLinesSummary$drug))"
   ]
  },
  {
   "cell_type": "markdown",
   "metadata": {},
   "source": [
    "\n",
    "Notice that there are 2,257 rows - each row here corresponds to a cell line-drug combination.\n",
    "Making up these combinations are 288 unique cell lines, and 15 drugs.\n",
    "\n",
    "Was every cell line in the dataset tested with every drug?\n",
    "\n",
    "> Place your answer here\n",
    "\n",
    "## Comparing response of drug AZD0530 in the two studies\n",
    "\n",
    "So we now have summary measures (IC50 and AUC) that indicate the responses of cell lines to drugs. However, each study measured these values separately. The goal of this analysis is to **investigate how well these two studies agree with each other**. In other words, do the drug response results in one study **replicate** in the other study?\n",
    "\n",
    "First, we'll examine this question for one of the drugs in particular: AZD0530. We'll start out by visually exploring how the AUC values for AZD0530 compare in the two datasets using a scatterplot.\n",
    "\n"
   ]
  },
  {
   "cell_type": "code",
   "execution_count": null,
   "metadata": {
    "Rmd_chunk_options": "AUC 1 drug",
    "autoscroll": false,
    "collapsed": true
   },
   "outputs": [],
   "source": [
    "library(ggplot2)\n",
    "ggplot(aes(x=auc_GDSC, y=auc_CCLE), data=subset(cellLinesSummary, drug==\"AZD0530\")) +\n",
    "    geom_point() +\n",
    "    xlab(\"GDSC AUC\") +\n",
    "    ylab(\"CCLE AUC\")"
   ]
  },
  {
   "cell_type": "markdown",
   "metadata": {},
   "source": [
    "\n",
    "Perfect agreement between the GDSC and CCLE AUC values would mean all the points would fall on a straight line. How would you describe the level of agreement between the AUC values of drug AZD0530 in the CCLE and GDSC studies? Does it seem like higher values of AUC in the GDSC correspond to higher values in the CCLE?\n",
    "\n",
    "> Place your answer here\n",
    "\n",
    "Next, let's look at the same type of scatterplot for the IC50 values.\n",
    "\n"
   ]
  },
  {
   "cell_type": "code",
   "execution_count": null,
   "metadata": {
    "Rmd_chunk_options": "ic50 1 drug",
    "autoscroll": false,
    "collapsed": true
   },
   "outputs": [],
   "source": [
    "ggplot(aes(x=ic50_GDSC, y=ic50_CCLE), data=subset(cellLinesSummary, drug==\"AZD0530\")) +\n",
    "    geom_point() +\n",
    "    xlab(\"GDSC IC50\") +\n",
    "    ylab(\"CCLE IC50\")"
   ]
  },
  {
   "cell_type": "markdown",
   "metadata": {},
   "source": [
    "\n",
    "What is different about this plot compared to the AUC plot for this drug above?\n",
    "\n",
    "> Place your answer here\n",
    "\n",
    "First, you may notice that there are many points with the highest value of IC50 for CCLE. Recall that this study measured a fixed set of doses, regardless of how the cells responded, whereas in the GDSC drug concentrations were increased if no response was observed. What does this mean for the IC50 values in the CCLE? Are they more likely to be too high or too low? Why?\n",
    "\n",
    "> Place your answer here\n",
    "\n",
    "Another thing to notice is that there is a very large range of IC50 values in the GDSC, but most values are small. This indicates a *skewed* distribution that may benefit from a log-transformation. Next, we'll plot log10-transformed values of IC50. We'll also plot *negative* values, so that increasing values of IC50 represent increasing drug toxicity (to make the plot more comparable to the AUC plot above).\n",
    "\n"
   ]
  },
  {
   "cell_type": "code",
   "execution_count": null,
   "metadata": {
    "Rmd_chunk_options": "ic50 1 drug log",
    "autoscroll": false,
    "collapsed": true
   },
   "outputs": [],
   "source": [
    "ggplot(aes(x=-log10(ic50_GDSC), y=-log(ic50_CCLE)), data=subset(cellLinesSummary, drug==\"AZD0530\")) +\n",
    "    geom_point() +\n",
    "    xlab(\"-log10(GDSC IC50)\") +\n",
    "    ylab(\"-log10(CCLE IC50)\")"
   ]
  },
  {
   "cell_type": "markdown",
   "metadata": {},
   "source": [
    "\n",
    "\n",
    "How would you describe the level of agreement between the IC50 values of drug AZD0530 in the CCLE and GDSC studies? Does it seem like higher values of AUC in the GDSC correspond to higher values in the CCLE?\n",
    "\n",
    "> Place your answer here\n",
    "\n",
    "## Comparing summary measures of drug response across all drugs\n",
    "\n",
    "So far, we have only looked at how well the two studies agree for the response measurements of a single drug. However, we need to look at the rest of the drugs to fully assess the level of replication. First, we set out to reproduce Figure 2 in the Haibe-Kains paper, which displays\n",
    "scatter plots of IC50 values for the 15 drugs that were probed in both the CCLE and GDSC. Essentially, we are going to make the plots from the previous section for all 15 drugs at once and compare them side-by-side.\n",
    "\n"
   ]
  },
  {
   "cell_type": "code",
   "execution_count": null,
   "metadata": {
    "Rmd_chunk_options": "Fig2 raw",
    "autoscroll": false,
    "collapsed": true
   },
   "outputs": [],
   "source": [
    "ggplot(aes(x=-log10(ic50_GDSC), y=-log10(ic50_CCLE)), data=cellLinesSummary) +\n",
    "    geom_point(cex=0.5) +\n",
    "    facet_wrap(facets=~drug) +\n",
    "    xlab(\"-log10(GDSC IC50)\") +\n",
    "    ylab(\"-log10(CCLE IC50)\")"
   ]
  },
  {
   "cell_type": "markdown",
   "metadata": {},
   "source": [
    "\n",
    "Why do the ranges of the axes not exactly match the axes in Figure 2 of the published paper? Note that the concentrations reported in the `cellLinesSummary` dataset are given in units of mili-molar, however the plots contain values calculated on the nano-molar\n",
    "scale (1 million times smaller). Thus, we can reproduce the original plot's scale by scaling the concentration values by 10^6.\n",
    "\n"
   ]
  },
  {
   "cell_type": "code",
   "execution_count": null,
   "metadata": {
    "Rmd_chunk_options": "Fig2 nano",
    "autoscroll": false,
    "collapsed": true
   },
   "outputs": [],
   "source": [
    "ggplot(aes(x=-log10(ic50_GDSC/10^6), y=-log10(ic50_CCLE/10^6)), data=cellLinesSummary) +\n",
    "    geom_point(cex=0.5) +\n",
    "    facet_wrap(facets=~drug) +\n",
    "    xlab(\"-log10(GDSC IC50/10^6)\") +\n",
    "    ylab(\"-log10(CCLE IC50/10^6)\")"
   ]
  },
  {
   "cell_type": "markdown",
   "metadata": {},
   "source": [
    "\n",
    "Compare this plot to Figure 2 in the Haibe-Kains reanalysis paper. Does it seem to agree?\n",
    "\n",
    "> Place your answer here\n",
    "\n",
    "Looking at the IC50 values for both studies across all 15 drugs, would you say that they tend to agree? Why or why not?\n",
    "\n",
    "> Place your answer here\n",
    "\n",
    "We have visually inspected the agreement of the drug response data between the two studies. Now, we'd like to go a step further and quantify the agreement with statistics. We'll start by exploring measures of correlation.\n",
    "\n",
    "## Compare correlations of the drug sensitivity measures\n",
    "\n",
    "One way to quantify the degree of agreement of two variables is to calculate the *correlation*. Correlation is a statistic between -1 and 1 that measures the degree of association between two variables. In this case our two variables are the drug response in CCLE and the drug response for GDSC. The higher the correlation value, the more the two variables agree with one other. If two variables are exactly the same, then the correlation is equal to 1. If two variables are unrelated, then the correlation value will be close to zero. What would a negative correlation mean?\n",
    "\n",
    "> Place your answer here\n",
    "\n",
    "When interpreting a correlation value, we consider how close the value is to 1 (or negative 1). There are no exact rules on calling a correlation \"weak\" or \"strong\", but generally values above around 0.7 in magnitude are considered strong and below around 0.3 in magnitude are considered weak. Here are some example scatterplots and their resulting correlation coefficients (using the Pearson method to calculate - more on this below).\n",
    "\n"
   ]
  },
  {
   "cell_type": "code",
   "execution_count": null,
   "metadata": {
    "Rmd_chunk_options": "correlation ex",
    "autoscroll": false,
    "collapsed": true
   },
   "outputs": [],
   "source": [
    "# set seed for reproducibility\n",
    "set.seed(738)\n",
    "\n",
    "# Perfect correlation\n",
    "x <- rnorm(50)\n",
    "perfect <- data.frame(x=x, y=x)\n",
    "cor.coef <- round(cor(perfect$x, perfect$y),2)\n",
    "ggplot(data=perfect, aes(x=x,y=y)) +\n",
    "  geom_point() +\n",
    "  ggtitle(paste0(\"Correlation coefficient = \", cor.coef)) +\n",
    "  geom_smooth(method='lm', se=FALSE)\n",
    "\n",
    "# Strong correlation\n",
    "x <- rnorm(50,0,2)\n",
    "strong <- data.frame(x=x, y=x+rnorm(50,0,0.75))\n",
    "cor.coef <- round(cor(strong$x, strong$y),2)\n",
    "ggplot(data=strong, aes(x=x,y=y)) +\n",
    "  geom_point() +\n",
    "  ggtitle(paste0(\"Correlation coefficient = \", cor.coef))+\n",
    "  geom_smooth(method='lm', se=FALSE)\n",
    "\n",
    "# Moderate correlation\n",
    "x <- rnorm(50,0,2)\n",
    "moderate <- data.frame(x=x, y=x+rnorm(50,0,2.5))\n",
    "cor.coef <- round(cor(moderate$x, moderate$y),2)\n",
    "ggplot(data=moderate, aes(x=x,y=y)) +\n",
    "  geom_point() +\n",
    "  ggtitle(paste0(\"Correlation coefficient = \", cor.coef))+\n",
    "  geom_smooth(method='lm', se=FALSE)\n",
    "\n",
    "# Weak correlation\n",
    "x <- rnorm(50,0,1)\n",
    "weak <- data.frame(x=x, y=x+rnorm(50,0,4))\n",
    "cor.coef <- round(cor(weak$x, weak$y),2)\n",
    "ggplot(data=weak, aes(x=x,y=y)) +\n",
    "  geom_point() +\n",
    "  ggtitle(paste0(\"Correlation coefficient = \", cor.coef))+\n",
    "  geom_smooth(method='lm', se=FALSE)\n",
    "\n",
    "# No correlation\n",
    "x <- rnorm(50,0,2)\n",
    "none <- data.frame(x=x, y=rnorm(50),0,2)\n",
    "cor.coef <- round(cor(none$x, none$y),2)\n",
    "ggplot(data=none, aes(x=x,y=y)) +\n",
    "  geom_point() +\n",
    "  ggtitle(paste0(\"Correlation coefficient = \", cor.coef))+\n",
    "  geom_smooth(method='lm', se=FALSE)\n",
    ""
   ]
  },
  {
   "cell_type": "markdown",
   "metadata": {},
   "source": [
    "\n",
    "Note that there are several different types of correlations. For example, we might say that two variables are in agreement if they fall along a straight line when plotted against eachother. Or, we might say they two are in agreement if an increase in one tends to be associated with an increase in the other (but not necessarily along a straight line). We'll start by examining two different types:\n",
    "\n",
    "1. **Pearson's** correlation coefficient: measures the degree of *linear* association\n",
    "\n",
    "2. **Spearman's** correlation coefficient: measures the agreement of the *rankings* of the values of one variable compared to the other.\n",
    "\n",
    "To understand the difference, here is an example where the two correlation measures are similar, and an example where they differ substantially.\n",
    "\n"
   ]
  },
  {
   "cell_type": "code",
   "execution_count": null,
   "metadata": {
    "Rmd_chunk_options": "spearman vs pearson",
    "autoscroll": false,
    "collapsed": true
   },
   "outputs": [],
   "source": [
    "# Same\n",
    "x <- rnorm(50,0,1)\n",
    "corrcomp <- data.frame(x=x, y=x+rnorm(50,0,1))\n",
    "cor.pearson <- round(cor(corrcomp$x, corrcomp$y, method=\"pearson\"),2)\n",
    "cor.spearman <- round(cor(corrcomp$x, corrcomp$y, method=\"spearman\"),2)\n",
    "ggplot(data=corrcomp, aes(x=x,y=y)) +\n",
    "  geom_point() +\n",
    "  ggtitle(paste0(\"Pearson = \", cor.pearson, \", Spearman = \", cor.spearman))+\n",
    "  geom_smooth(method='lm', se=FALSE)\n",
    "\n",
    "# Different\n",
    "x <- rnorm(50,0,2)\n",
    "corrcomp <- data.frame(x=x, y=exp(x))\n",
    "cor.pearson <- round(cor(corrcomp$x, corrcomp$y, method=\"pearson\"),2)\n",
    "cor.spearman <- round(cor(corrcomp$x, corrcomp$y, method=\"spearman\"),2)\n",
    "ggplot(data=corrcomp, aes(x=x,y=y)) +\n",
    "  geom_point() +\n",
    "  ggtitle(paste0(\"Pearson = \", cor.pearson, \", Spearman = \", cor.spearman))\n",
    ""
   ]
  },
  {
   "cell_type": "markdown",
   "metadata": {},
   "source": [
    "\n",
    "In the previous example, why is the Spearman correlation so high, while the Pearson correlation is only moderate?\n",
    "\n",
    "> Place your answer here\n",
    "\n",
    "Now we'll summarize different measures of correlation of the IC50 values to assess the level of\n",
    "replication between these two experiments. First, we'll compute the two different measures for correlating\n",
    "continous variables mentioned above (Pearson and Spearman correlation coefficients).\n",
    "\n"
   ]
  },
  {
   "cell_type": "code",
   "execution_count": null,
   "metadata": {
    "Rmd_chunk_options": "ic50 correlation",
    "autoscroll": false,
    "collapsed": true
   },
   "outputs": [],
   "source": [
    "library(dplyr)\n",
    "\n",
    "drugCorrs <- cellLinesSummary %>%\n",
    "    group_by(drug) %>% summarise(Pearson_ic50=cor(-log10(ic50_GDSC/10^6),-log10(ic50_CCLE/10^6), method=\"pearson\"),\n",
    "                                 Spearman_ic50=cor(-log10(ic50_GDSC/10^6),-log10(ic50_CCLE/10^6), method=\"spearman\"))\n",
    "\n",
    "drugCorrs"
   ]
  },
  {
   "cell_type": "markdown",
   "metadata": {},
   "source": [
    "\n",
    "Next, we'll visualize the correlations the IC50 measurements in a grouped bar plot.\n",
    "\n"
   ]
  },
  {
   "cell_type": "code",
   "execution_count": null,
   "metadata": {
    "Rmd_chunk_options": "barplot correlations ic50",
    "autoscroll": false,
    "collapsed": true
   },
   "outputs": [],
   "source": [
    "library(reshape2)\n",
    "drugCorrs <- melt(drugCorrs)\n",
    "colnames(drugCorrs) <- c(\"Drug\", \"Measure\", \"Correlation\")\n",
    "\n",
    "drugCorrs_IC50 <- drugCorrs[grep(\"ic50\", drugCorrs$Measure),]\n",
    "ggplot(data=drugCorrs_IC50, aes(x=Drug, y=Correlation, fill=Measure, group=Measure)) +\n",
    "  geom_bar(stat=\"identity\", position=position_dodge(), colour=\"black\") +\n",
    "  theme(axis.text.x = element_text(angle = 45, hjust = 1)) +\n",
    "  scale_fill_grey()"
   ]
  }
 ],
 "metadata": {
  "Rmd_header": {
   "output": "html_document",
   "title": "Tutorial 2: Using Correlation Measures to Assess Replicability of Drug Response Studies"
  },
  "kernelspec": {
   "display_name": "R",
   "language": "R",
   "name": "ir"
  },
  "language_info": {
   "codemirror_mode": "r",
   "file_extension": ".r",
   "mimetype": "text/x-r-source",
   "name": "R",
   "pygments_lexer": "r"
  }
 },
 "nbformat": 4,
 "nbformat_minor": 0
}
