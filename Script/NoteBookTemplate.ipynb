{
 "cells": [
  {
   "cell_type": "markdown",
   "metadata": {},
   "source": [
    "## Instructions:\n",
    "\n",
    "In this R Markdown document, you and your team will create a fully reproducible analysis with the goal of assessing and interpreting the replicability of two pharmacogenomic experiments. This document should contain all of the text and code of your analyses, which will allow others to run, interpret, and reuse your work.\n",
    "\n",
    "The questions below will help guide you in your analyses and interpretation of results. You don't need to answer every question, but for the problems you do complete, make sure that you completely justify your conclusions by explaining your reasoning and including numerical summaries and data visualizations wherever possible. There are four tutorials (also R Markdown documents) that will help you learn new tools to tackle these problems, and the questions are divided into four sections corresponding to the tutorials (though many overlap with more than one tutorial). If questions arise during your analyses that do not fit into these problems, feel free to include those as well. \n",
    "\n",
    "For each answer, include text by simply typing below the question. Include code in code blocks (include three back ticks at the start and end of each code block):\n",
    "\n",
    "```{r}\n",
    "#Your code goes here\n",
    "```\n",
    "You may find it helpful to use the version control and code sharing system called GitHub to work together with your team so that all of you can edit the same document and keep track of its changes. Here is a [setup guide](https://github.com/datasciencelabs/2016/blob/master/lectures/git-and-github/setting-up-git.Rmd) and [brief introduction to Git and GitHub](https://github.com/datasciencelabs/2016/blob/master/lectures/git-and-github/version-control.Rmd) from another course. The mentors will be able to help if you run into problems. \n",
    "\n"
   ]
  },
  {
   "cell_type": "markdown",
   "metadata": {},
   "source": [
    "## Questions:\n"
   ]
  },
  {
   "cell_type": "markdown",
   "metadata": {},
   "source": [
    "#### Import packeges\n"
   ]
  },
  {
   "cell_type": "code",
   "execution_count": 6,
   "metadata": {},
   "outputs": [
    {
     "name": "stderr",
     "output_type": "stream",
     "text": [
      "── Attaching packages ─────────────────────────────────────── tidyverse 1.2.1 ──\n",
      "✔ ggplot2 3.0.0     ✔ purrr   0.2.5\n",
      "✔ tibble  1.4.2     ✔ dplyr   0.7.6\n",
      "✔ tidyr   0.8.1     ✔ stringr 1.3.1\n",
      "✔ readr   1.1.1     ✔ forcats 0.3.0\n",
      "── Conflicts ────────────────────────────────────────── tidyverse_conflicts() ──\n",
      "✖ dplyr::filter() masks stats::filter()\n",
      "✖ dplyr::lag()    masks stats::lag()\n"
     ]
    }
   ],
   "source": [
    "library(tidyverse)\n"
   ]
  },
  {
   "cell_type": "markdown",
   "metadata": {},
   "source": [
    "### Read files"
   ]
  },
  {
   "cell_type": "code",
   "execution_count": 9,
   "metadata": {},
   "outputs": [
    {
     "name": "stderr",
     "output_type": "stream",
     "text": [
      "Parsed with column specification:\n",
      "cols(\n",
      "  cellLine = col_character(),\n",
      "  drug = col_character(),\n",
      "  doseID = col_character(),\n",
      "  concentration = col_double(),\n",
      "  viability = col_double(),\n",
      "  study = col_character()\n",
      ")\n",
      "Parsed with column specification:\n",
      "cols(\n",
      "  cellLine = col_character(),\n",
      "  drug = col_character(),\n",
      "  ic50_CCLE = col_double(),\n",
      "  auc_CCLE = col_double(),\n",
      "  ic50_GDSC = col_double(),\n",
      "  auc_GDSC = col_double()\n",
      ")\n"
     ]
    }
   ],
   "source": [
    "rawPharmacoData <- read_csv(\"../Data/rawPharmacoData.csv\")\n",
    "summarizedData <- read_csv(\"../Data/summarizedPharmacoData.csv\")"
   ]
  },
  {
   "cell_type": "code",
   "execution_count": 11,
   "metadata": {},
   "outputs": [],
   "source": [
    "### Exploratory analysis of pharmacogenomic data"
   ]
  },
  {
   "cell_type": "code",
   "execution_count": 12,
   "metadata": {},
   "outputs": [],
   "source": [
    "#1. How many cell-lines are contained in the data?"
   ]
  },
  {
   "cell_type": "code",
   "execution_count": 10,
   "metadata": {},
   "outputs": [
    {
     "data": {
      "text/html": [
       "288"
      ],
      "text/latex": [
       "288"
      ],
      "text/markdown": [
       "288"
      ],
      "text/plain": [
       "[1] 288"
      ]
     },
     "metadata": {},
     "output_type": "display_data"
    },
    {
     "data": {
      "text/html": [
       "288"
      ],
      "text/latex": [
       "288"
      ],
      "text/markdown": [
       "288"
      ],
      "text/plain": [
       "[1] 288"
      ]
     },
     "metadata": {},
     "output_type": "display_data"
    }
   ],
   "source": [
    "#Check number of unique variables within cell lines\n",
    "\n",
    "n_distinct(rawPharmacoData$cellLine)\n",
    "n_distinct(summarizedData$cellLine)"
   ]
  },
  {
   "cell_type": "code",
   "execution_count": null,
   "metadata": {},
   "outputs": [],
   "source": [
    "#2. What drug concentrations were used in each study?"
   ]
  },
  {
   "cell_type": "code",
   "execution_count": 11,
   "metadata": {},
   "outputs": [
    {
     "data": {
      "text/html": [
       "<table>\n",
       "<thead><tr><th scope=col>concentration</th><th scope=col>study</th><th scope=col>n</th></tr></thead>\n",
       "<tbody>\n",
       "\t<tr><td>4.000000e-04</td><td>GDSC        </td><td>  89        </td></tr>\n",
       "\t<tr><td>8.000000e-04</td><td>GDSC        </td><td>  89        </td></tr>\n",
       "\t<tr><td>9.765625e-04</td><td>GDSC        </td><td> 261        </td></tr>\n",
       "\t<tr><td>1.600000e-03</td><td>GDSC        </td><td>  89        </td></tr>\n",
       "\t<tr><td>1.953125e-03</td><td>GDSC        </td><td> 261        </td></tr>\n",
       "\t<tr><td>2.500000e-03</td><td>CCLE        </td><td>2530        </td></tr>\n",
       "\t<tr><td>3.200000e-03</td><td>GDSC        </td><td>  89        </td></tr>\n",
       "\t<tr><td>3.906250e-03</td><td>GDSC        </td><td> 545        </td></tr>\n",
       "\t<tr><td>6.400000e-03</td><td>GDSC        </td><td>  89        </td></tr>\n",
       "\t<tr><td>7.812500e-03</td><td>GDSC        </td><td>1385        </td></tr>\n",
       "\t<tr><td>8.000000e-03</td><td>CCLE        </td><td>2543        </td></tr>\n",
       "\t<tr><td>1.280000e-02</td><td>GDSC        </td><td>  89        </td></tr>\n",
       "\t<tr><td>1.562500e-02</td><td>GDSC        </td><td>1952        </td></tr>\n",
       "\t<tr><td>2.500000e-02</td><td>CCLE        </td><td>2557        </td></tr>\n",
       "\t<tr><td>2.560000e-02</td><td>GDSC        </td><td>  89        </td></tr>\n",
       "\t<tr><td>3.125000e-02</td><td>GDSC        </td><td>2188        </td></tr>\n",
       "\t<tr><td>3.906250e-02</td><td>GDSC        </td><td> 280        </td></tr>\n",
       "\t<tr><td>5.120000e-02</td><td>GDSC        </td><td>  89        </td></tr>\n",
       "\t<tr><td>6.250000e-02</td><td>GDSC        </td><td>2188        </td></tr>\n",
       "\t<tr><td>7.812500e-02</td><td>GDSC        </td><td> 280        </td></tr>\n",
       "\t<tr><td>8.000000e-02</td><td>CCLE        </td><td>2557        </td></tr>\n",
       "\t<tr><td>1.024000e-01</td><td>GDSC        </td><td>  89        </td></tr>\n",
       "\t<tr><td>1.250000e-01</td><td>GDSC        </td><td>2188        </td></tr>\n",
       "\t<tr><td>1.562500e-01</td><td>GDSC        </td><td> 280        </td></tr>\n",
       "\t<tr><td>2.500000e-01</td><td>CCLE        </td><td>2557        </td></tr>\n",
       "\t<tr><td>2.500000e-01</td><td>GDSC        </td><td>2188        </td></tr>\n",
       "\t<tr><td>3.125000e-01</td><td>GDSC        </td><td> 280        </td></tr>\n",
       "\t<tr><td>5.000000e-01</td><td>GDSC        </td><td>1927        </td></tr>\n",
       "\t<tr><td>6.250000e-01</td><td>GDSC        </td><td> 280        </td></tr>\n",
       "\t<tr><td>8.000000e-01</td><td>CCLE        </td><td>2557        </td></tr>\n",
       "\t<tr><td>1.000000e+00</td><td>GDSC        </td><td>1927        </td></tr>\n",
       "\t<tr><td>1.250000e+00</td><td>GDSC        </td><td> 280        </td></tr>\n",
       "\t<tr><td>2.000000e+00</td><td>GDSC        </td><td>1643        </td></tr>\n",
       "\t<tr><td>2.500000e+00</td><td>GDSC        </td><td> 280        </td></tr>\n",
       "\t<tr><td>2.530000e+00</td><td>CCLE        </td><td>2557        </td></tr>\n",
       "\t<tr><td>4.000000e+00</td><td>GDSC        </td><td> 803        </td></tr>\n",
       "\t<tr><td>5.000000e+00</td><td>GDSC        </td><td> 280        </td></tr>\n",
       "\t<tr><td>8.000000e+00</td><td>CCLE        </td><td>2556        </td></tr>\n",
       "\t<tr><td>8.000000e+00</td><td>GDSC        </td><td> 236        </td></tr>\n",
       "\t<tr><td>1.000000e+01</td><td>GDSC        </td><td> 280        </td></tr>\n",
       "</tbody>\n",
       "</table>\n"
      ],
      "text/latex": [
       "\\begin{tabular}{r|lll}\n",
       " concentration & study & n\\\\\n",
       "\\hline\n",
       "\t 4.000000e-04 & GDSC         &   89        \\\\\n",
       "\t 8.000000e-04 & GDSC         &   89        \\\\\n",
       "\t 9.765625e-04 & GDSC         &  261        \\\\\n",
       "\t 1.600000e-03 & GDSC         &   89        \\\\\n",
       "\t 1.953125e-03 & GDSC         &  261        \\\\\n",
       "\t 2.500000e-03 & CCLE         & 2530        \\\\\n",
       "\t 3.200000e-03 & GDSC         &   89        \\\\\n",
       "\t 3.906250e-03 & GDSC         &  545        \\\\\n",
       "\t 6.400000e-03 & GDSC         &   89        \\\\\n",
       "\t 7.812500e-03 & GDSC         & 1385        \\\\\n",
       "\t 8.000000e-03 & CCLE         & 2543        \\\\\n",
       "\t 1.280000e-02 & GDSC         &   89        \\\\\n",
       "\t 1.562500e-02 & GDSC         & 1952        \\\\\n",
       "\t 2.500000e-02 & CCLE         & 2557        \\\\\n",
       "\t 2.560000e-02 & GDSC         &   89        \\\\\n",
       "\t 3.125000e-02 & GDSC         & 2188        \\\\\n",
       "\t 3.906250e-02 & GDSC         &  280        \\\\\n",
       "\t 5.120000e-02 & GDSC         &   89        \\\\\n",
       "\t 6.250000e-02 & GDSC         & 2188        \\\\\n",
       "\t 7.812500e-02 & GDSC         &  280        \\\\\n",
       "\t 8.000000e-02 & CCLE         & 2557        \\\\\n",
       "\t 1.024000e-01 & GDSC         &   89        \\\\\n",
       "\t 1.250000e-01 & GDSC         & 2188        \\\\\n",
       "\t 1.562500e-01 & GDSC         &  280        \\\\\n",
       "\t 2.500000e-01 & CCLE         & 2557        \\\\\n",
       "\t 2.500000e-01 & GDSC         & 2188        \\\\\n",
       "\t 3.125000e-01 & GDSC         &  280        \\\\\n",
       "\t 5.000000e-01 & GDSC         & 1927        \\\\\n",
       "\t 6.250000e-01 & GDSC         &  280        \\\\\n",
       "\t 8.000000e-01 & CCLE         & 2557        \\\\\n",
       "\t 1.000000e+00 & GDSC         & 1927        \\\\\n",
       "\t 1.250000e+00 & GDSC         &  280        \\\\\n",
       "\t 2.000000e+00 & GDSC         & 1643        \\\\\n",
       "\t 2.500000e+00 & GDSC         &  280        \\\\\n",
       "\t 2.530000e+00 & CCLE         & 2557        \\\\\n",
       "\t 4.000000e+00 & GDSC         &  803        \\\\\n",
       "\t 5.000000e+00 & GDSC         &  280        \\\\\n",
       "\t 8.000000e+00 & CCLE         & 2556        \\\\\n",
       "\t 8.000000e+00 & GDSC         &  236        \\\\\n",
       "\t 1.000000e+01 & GDSC         &  280        \\\\\n",
       "\\end{tabular}\n"
      ],
      "text/markdown": [
       "\n",
       "concentration | study | n | \n",
       "|---|---|---|---|---|---|---|---|---|---|---|---|---|---|---|---|---|---|---|---|---|---|---|---|---|---|---|---|---|---|---|---|---|---|---|---|---|---|---|---|\n",
       "| 4.000000e-04 | GDSC         |   89         | \n",
       "| 8.000000e-04 | GDSC         |   89         | \n",
       "| 9.765625e-04 | GDSC         |  261         | \n",
       "| 1.600000e-03 | GDSC         |   89         | \n",
       "| 1.953125e-03 | GDSC         |  261         | \n",
       "| 2.500000e-03 | CCLE         | 2530         | \n",
       "| 3.200000e-03 | GDSC         |   89         | \n",
       "| 3.906250e-03 | GDSC         |  545         | \n",
       "| 6.400000e-03 | GDSC         |   89         | \n",
       "| 7.812500e-03 | GDSC         | 1385         | \n",
       "| 8.000000e-03 | CCLE         | 2543         | \n",
       "| 1.280000e-02 | GDSC         |   89         | \n",
       "| 1.562500e-02 | GDSC         | 1952         | \n",
       "| 2.500000e-02 | CCLE         | 2557         | \n",
       "| 2.560000e-02 | GDSC         |   89         | \n",
       "| 3.125000e-02 | GDSC         | 2188         | \n",
       "| 3.906250e-02 | GDSC         |  280         | \n",
       "| 5.120000e-02 | GDSC         |   89         | \n",
       "| 6.250000e-02 | GDSC         | 2188         | \n",
       "| 7.812500e-02 | GDSC         |  280         | \n",
       "| 8.000000e-02 | CCLE         | 2557         | \n",
       "| 1.024000e-01 | GDSC         |   89         | \n",
       "| 1.250000e-01 | GDSC         | 2188         | \n",
       "| 1.562500e-01 | GDSC         |  280         | \n",
       "| 2.500000e-01 | CCLE         | 2557         | \n",
       "| 2.500000e-01 | GDSC         | 2188         | \n",
       "| 3.125000e-01 | GDSC         |  280         | \n",
       "| 5.000000e-01 | GDSC         | 1927         | \n",
       "| 6.250000e-01 | GDSC         |  280         | \n",
       "| 8.000000e-01 | CCLE         | 2557         | \n",
       "| 1.000000e+00 | GDSC         | 1927         | \n",
       "| 1.250000e+00 | GDSC         |  280         | \n",
       "| 2.000000e+00 | GDSC         | 1643         | \n",
       "| 2.500000e+00 | GDSC         |  280         | \n",
       "| 2.530000e+00 | CCLE         | 2557         | \n",
       "| 4.000000e+00 | GDSC         |  803         | \n",
       "| 5.000000e+00 | GDSC         |  280         | \n",
       "| 8.000000e+00 | CCLE         | 2556         | \n",
       "| 8.000000e+00 | GDSC         |  236         | \n",
       "| 1.000000e+01 | GDSC         |  280         | \n",
       "\n",
       "\n"
      ],
      "text/plain": [
       "   concentration study n   \n",
       "1  4.000000e-04  GDSC    89\n",
       "2  8.000000e-04  GDSC    89\n",
       "3  9.765625e-04  GDSC   261\n",
       "4  1.600000e-03  GDSC    89\n",
       "5  1.953125e-03  GDSC   261\n",
       "6  2.500000e-03  CCLE  2530\n",
       "7  3.200000e-03  GDSC    89\n",
       "8  3.906250e-03  GDSC   545\n",
       "9  6.400000e-03  GDSC    89\n",
       "10 7.812500e-03  GDSC  1385\n",
       "11 8.000000e-03  CCLE  2543\n",
       "12 1.280000e-02  GDSC    89\n",
       "13 1.562500e-02  GDSC  1952\n",
       "14 2.500000e-02  CCLE  2557\n",
       "15 2.560000e-02  GDSC    89\n",
       "16 3.125000e-02  GDSC  2188\n",
       "17 3.906250e-02  GDSC   280\n",
       "18 5.120000e-02  GDSC    89\n",
       "19 6.250000e-02  GDSC  2188\n",
       "20 7.812500e-02  GDSC   280\n",
       "21 8.000000e-02  CCLE  2557\n",
       "22 1.024000e-01  GDSC    89\n",
       "23 1.250000e-01  GDSC  2188\n",
       "24 1.562500e-01  GDSC   280\n",
       "25 2.500000e-01  CCLE  2557\n",
       "26 2.500000e-01  GDSC  2188\n",
       "27 3.125000e-01  GDSC   280\n",
       "28 5.000000e-01  GDSC  1927\n",
       "29 6.250000e-01  GDSC   280\n",
       "30 8.000000e-01  CCLE  2557\n",
       "31 1.000000e+00  GDSC  1927\n",
       "32 1.250000e+00  GDSC   280\n",
       "33 2.000000e+00  GDSC  1643\n",
       "34 2.500000e+00  GDSC   280\n",
       "35 2.530000e+00  CCLE  2557\n",
       "36 4.000000e+00  GDSC   803\n",
       "37 5.000000e+00  GDSC   280\n",
       "38 8.000000e+00  CCLE  2556\n",
       "39 8.000000e+00  GDSC   236\n",
       "40 1.000000e+01  GDSC   280"
      ]
     },
     "metadata": {},
     "output_type": "display_data"
    }
   ],
   "source": [
    "rawPharmacoData %>%\n",
    "  group_by(concentration) %>%\n",
    "  count(study)"
   ]
  },
  {
   "cell_type": "markdown",
   "metadata": {},
   "source": [
    "3. Histograms, appart from telling how is the data\n",
    "distributed, can also make evident potential\n",
    "problems with the data. Plot a histogram\n",
    "of drug viabilities. Does it look as one would\n",
    "expect from the description of the data?"
   ]
  },
  {
   "cell_type": "code",
   "execution_count": 13,
   "metadata": {},
   "outputs": [
    {
     "name": "stderr",
     "output_type": "stream",
     "text": [
      "`stat_bin()` using `bins = 30`. Pick better value with `binwidth`.\n"
     ]
    },
    {
     "data": {},
     "metadata": {},
     "output_type": "display_data"
    },
    {
     "data": {
      "image/png": "[encoded data removed]",
      "text/plain": [
       "plot without title"
      ]
     },
     "metadata": {},
     "output_type": "display_data"
    }
   ],
   "source": [
    "ggplot(rawPharmacoData, aes(x = viability)) +\n",
    "  geom_histogram() +\n",
    "  facet_wrap(~drug)"
   ]
  },
  {
   "cell_type": "markdown",
   "metadata": {},
   "source": [
    "4. How many viability data points are within the\n",
    "expected range according to the definition of viability (e.g. above 0  and below 100)? Try to come up with explanations about the values that are out of range. Are these due to technical issues? Biology?\n",
    "```{r}```"
   ]
  },
  {
   "cell_type": "code",
   "execution_count": 14,
   "metadata": {},
   "outputs": [
    {
     "data": {
      "text/html": [
       "<table>\n",
       "<thead><tr><th scope=col>viability &gt; 0 &amp; viability &lt; 100</th><th scope=col>n</th></tr></thead>\n",
       "<tbody>\n",
       "\t<tr><td>FALSE</td><td>15816</td></tr>\n",
       "\t<tr><td> TRUE</td><td>27611</td></tr>\n",
       "</tbody>\n",
       "</table>\n"
      ],
      "text/latex": [
       "\\begin{tabular}{r|ll}\n",
       " viability > 0 \\& viability < 100 & n\\\\\n",
       "\\hline\n",
       "\t FALSE & 15816\\\\\n",
       "\t  TRUE & 27611\\\\\n",
       "\\end{tabular}\n"
      ],
      "text/markdown": [
       "\n",
       "viability > 0 & viability < 100 | n | \n",
       "|---|---|\n",
       "| FALSE | 15816 | \n",
       "|  TRUE | 27611 | \n",
       "\n",
       "\n"
      ],
      "text/plain": [
       "  viability > 0 & viability < 100 n    \n",
       "1 FALSE                           15816\n",
       "2  TRUE                           27611"
      ]
     },
     "metadata": {},
     "output_type": "display_data"
    }
   ],
   "source": [
    "rawPharmacoData %>%\n",
    "  count(viability > 0 & viability < 100)"
   ]
  },
  {
   "cell_type": "markdown",
   "metadata": {},
   "source": [
    "> In these studies viability was measured in the relative number of cells that survive after drug exposure. Values above 100% could be explained by cell proliferation or by data entry errors."
   ]
  },
  {
   "cell_type": "markdown",
   "metadata": {},
   "source": [
    "\n",
    "\n",
    "\n",
    "\n",
    "\n",
    "5. Read the csv file containing the summarized data files. What kind\n",
    "of variables are in the data? What does each column represents?\n",
    "```{r}"
   ]
  },
  {
   "cell_type": "code",
   "execution_count": 15,
   "metadata": {},
   "outputs": [
    {
     "name": "stdout",
     "output_type": "stream",
     "text": [
      "Observations: 2,557\n",
      "Variables: 6\n",
      "$ cellLine  <chr> \"22RV1\", \"5637\", \"639-V\", \"697\", \"769-P\", \"786-0\", \"8305C...\n",
      "$ drug      <chr> \"Nilotinib\", \"Nilotinib\", \"Nilotinib\", \"Nilotinib\", \"Nilo...\n",
      "$ ic50_CCLE <dbl> 8.000000, 7.475355, 8.000000, 1.910434, 8.000000, 8.00000...\n",
      "$ auc_CCLE  <dbl> 0.0000000, 0.0072625, 0.0710125, 0.1573375, 0.0000000, 0....\n",
      "$ ic50_GDSC <dbl> 155.269917, 219.934550, 92.177125, 3.063552, 19.633514, 1...\n",
      "$ auc_GDSC  <dbl> 0.003935, 0.003616, 0.007622, 0.069265, 0.028758, 0.00548...\n"
     ]
    }
   ],
   "source": [
    "glimpse(summarizedData)"
   ]
  },
  {
   "cell_type": "markdown",
   "metadata": {},
   "source": [
    "> There are categorical and numeric variables. The CellLine column represents the cell line used in the experiment. Drug represents which drug was used. ic50 represents the drug concentration at which viability(survival of cells) reaches 50%. ic50_CCLE represents the ic50 for a given CCLE experiment. ic50_GDSC represents the ic50 for a given GDSC experiment. auc is the area under the curve, the curve referred to in this case is the dose response curve built for each drug, cell line, and study combination. auc_CCLE is the auc for a given CCLE experiment. auc_GDSC is the auc for a given GDSC experiment."
   ]
  },
  {
   "cell_type": "markdown",
   "metadata": {},
   "source": [
    "\n",
    "```\n",
    "\n",
    "\n",
    "6. Plot a histogram of the viability scores as a function of the drug doses. Are stronger drug concentrations consistent with lower viability scores?\n",
    "```{r}"
   ]
  },
  {
   "cell_type": "code",
   "execution_count": 17,
   "metadata": {},
   "outputs": [
    {
     "name": "stderr",
     "output_type": "stream",
     "text": [
      "`stat_bin()` using `bins = 30`. Pick better value with `binwidth`.\n"
     ]
    },
    {
     "data": {},
     "metadata": {},
     "output_type": "display_data"
    },
    {
     "data": {
      "image/png": "[encoded data removed]",
      "text/plain": [
       "plot without title"
      ]
     },
     "metadata": {},
     "output_type": "display_data"
    }
   ],
   "source": [
    "summarizedData %>%\n",
    "    gather(measure, value, -cellLine, -drug) %>%\n",
    "    separate(measure, c('measure','study'), sep = '_') %>%\n",
    "    filter(measure == 'ic50') %>%\n",
    "ggplot(aes(x = measure)) +\n",
    "  geom_histogram() +\n",
    "  facet_wrap(.~study)"
   ]
  },
  {
   "cell_type": "markdown",
   "metadata": {},
   "source": [
    "> Data from the CCLE study makes it seem like yes, the higher the concentration, the lower the viability values. This is not true for the GDSC data, however, the histogram is representing much higher doses than the CCLE experiment."
   ]
  },
  {
   "cell_type": "markdown",
   "metadata": {},
   "source": [
    "\n",
    "\n",
    "\n",
    "```\n",
    "\n",
    "\n",
    "### Using Correlation Measures to Assess Replicability of Drug Response Studies\n",
    "\n",
    "1. Create a scatterplot for each drug comparing the AUC in GDSC and CCLE for all cell lines (hint: code from Tutorial 2 may help).\n",
    "```{r}"
   ]
  },
  {
   "cell_type": "code",
   "execution_count": 18,
   "metadata": {},
   "outputs": [
    {
     "data": {},
     "metadata": {},
     "output_type": "display_data"
    },
    {
     "data": {
      "image/png": "[encoded data removed]",
      "text/plain": [
       "plot without title"
      ]
     },
     "metadata": {},
     "output_type": "display_data"
    }
   ],
   "source": [
    "ggplot(summarizedData, aes(x = auc_GDSC, y = auc_CCLE)) +\n",
    "  geom_jitter()+\n",
    "  geom_smooth(method = 'lm', se = FALSE) +\n",
    "  xlab(\"GDSC AUC\") +\n",
    "  ylab(\"CCLE AUC\") +\n",
    "  facet_wrap(.~drug)"
   ]
  },
  {
   "cell_type": "markdown",
   "metadata": {},
   "source": [
    "2. Calculate correlation coefficients of the AUC in GDSC and CCLE for each drug (hint: code from Tutorial 2 may help). "
   ]
  },
  {
   "cell_type": "code",
   "execution_count": null,
   "metadata": {},
   "outputs": [],
   "source": [
    "#Calculating both \"Pearson\" and \"Spearman\" correlations \n",
    "drugCorrs <- summarizedData %>% \n",
    "    group_by(drug) %>% \n",
    "    summarise(\n",
    "        Pearson_ic50=cor(-log10(ic50_GDSC/10^6),-log10(ic50_CCLE/10^6), method=\"pearson\"),\n",
    "        Spearman_ic50=cor(-log10(ic50_GDSC/10^6),-log10(ic50_CCLE/10^6), method=\"spearman\"),\n",
    "        Pearson_auc=cor(auc_GDSC,auc_CCLE, method=\"pearson\"),\n",
    "        Spearman_auc=cor(auc_GDSC,auc_CCLE, method=\"spearman\")) %>%\n",
    "    gather(measure, correlation, -drug) %>%\n",
    "    separate(measure, c('method', 'measure'), sep = '_')\n",
    "\n",
    "#Plotting correlation results \n",
    "drugCorrs %>% \n",
    "ggplot(aes(x=drug, y=correlation, fill=method, group=method)) +\n",
    "    geom_bar(stat=\"identity\", position=position_dodge(), colour=\"black\") + \n",
    "    facet_grid(.~measure) +\n",
    "    theme(axis.text.x = element_text(angle = 45, hjust = 1)) +\n",
    "    scale_fill_grey()"
   ]
  },
  {
   "cell_type": "code",
   "execution_count": null,
   "metadata": {},
   "outputs": [],
   "source": [
    "drugCorrs %>%\n",
    "    group_by(method,measure) %>%\n",
    "    summarise(mean(correlation))"
   ]
  },
  {
   "cell_type": "markdown",
   "metadata": {},
   "source": [
    "3. Based on the scatterplot and correlation values, would you say that they tend to agree? Why or why not?"
   ]
  },
  {
   "cell_type": "markdown",
   "metadata": {},
   "source": [
    "> By visually inspecting the plots, I would say both studies don't tend to agree. Most of the data is concentrated in a single spot and seems to have no pattern aside from some outliers that are sqewing the trend lines. Furthermore, the correlation values don't go over 0.5 meaning there is marginal agreement between the studies. Thus, I would say both analyses tend to agree. "
   ]
  },
  {
   "cell_type": "markdown",
   "metadata": {},
   "source": [
    "4. Does the AUC or IC50 suggest more agreement between the studies? "
   ]
  },
  {
   "cell_type": "markdown",
   "metadata": {},
   "source": [
    "> According to the correlation values, AUC suggests more agreement between the studies."
   ]
  },
  {
   "cell_type": "markdown",
   "metadata": {},
   "source": [
    "5. Which drug do you think shows the most consistency between the studies? How about the least? "
   ]
  },
  {
   "cell_type": "code",
   "execution_count": null,
   "metadata": {},
   "outputs": [],
   "source": [
    "#Drug with the most consistency between studies\n",
    "drugCorrs %>%\n",
    "    group_by(method) %>%\n",
    "    filter(correlation == max(correlation), measure == 'auc')\n",
    "\n",
    "#Drug with the least consistency between studies\n",
    "drugCorrs %>%\n",
    "    filter(measure == 'auc') %>%\n",
    "    arrange(correlation) %>%\n",
    "    head(n = 5)"
   ]
  },
  {
   "cell_type": "markdown",
   "metadata": {},
   "source": [
    "> Since AUC shows greater agreement between studies, we'll use it to choose which are the drugs with the highest and lowerst consistency between studies. 'PHA-665752' has the correlation score that is closest to zero, making it the drug with the least consistency between studies. We selected 'PD-0325901' as the drug with the most consistency because Spearman correlation is more robust to outliers which the drug 'Nilotinib' has."
   ]
  },
  {
   "cell_type": "markdown",
   "metadata": {},
   "source": [
    "6. If you calculated more than one type of correlation coefficient (for example Pearson and Spearman), how do they differ? Which do you think is a better summary of the consistency between the two studies?"
   ]
  },
  {
   "cell_type": "markdown",
   "metadata": {},
   "source": [
    "> A Pearson correlation will test if the data follows a straight line. On the other hand, a Spearman correlation tests if an increase or decrease of one variable causes and increase or decrease of the other but, not necessarily in a straight line. Since the studies used different concentrations and steps in between the concentrations, they may have many outliers. Thus, a Spearman correlation should be used since it's more robust to outliers. "
   ]
  },
  {
   "cell_type": "markdown",
   "metadata": {},
   "source": [
    " 7. We have explored Pearson and Spearman correlation, but what about other correlation measures? For example, you could try out distance correlation, which is sensitive to nonlinear relationships. You can find this measure in the `energy` R package, which you'll need to install and load with the following commands:"
   ]
  },
  {
   "cell_type": "code",
   "execution_count": null,
   "metadata": {},
   "outputs": [],
   "source": [
    "require(energy)"
   ]
  },
  {
   "cell_type": "markdown",
   "metadata": {},
   "source": [
    "Then, you can compute distance correlation with the `dcor()` function. How does this correlation measure compare to Pearson and Spearman? Do your conclusions about the agreement between the two studies change at all using this measure?"
   ]
  },
  {
   "cell_type": "code",
   "execution_count": null,
   "metadata": {},
   "outputs": [],
   "source": [
    "#Adding dcor to our corralations\n",
    "drugCorrs <- summarizedData %>% \n",
    "    group_by(drug) %>% \n",
    "    summarise(\n",
    "        Pearson_ic50=cor(-log10(ic50_GDSC/10^6),-log10(ic50_CCLE/10^6), method=\"pearson\"),\n",
    "        Spearman_ic50=cor(-log10(ic50_GDSC/10^6),-log10(ic50_CCLE/10^6), method=\"spearman\"),\n",
    "        dcor_ic50 = dcor(-log10(ic50_GDSC/10^6),-log10(ic50_CCLE/10^6)),\n",
    "        Pearson_auc=cor(auc_GDSC,auc_CCLE, method=\"pearson\"),\n",
    "        Spearman_auc=cor(auc_GDSC,auc_CCLE, method=\"spearman\"),\n",
    "        dcor_auc = dcor(auc_GDSC,auc_CCLE)) %>%\n",
    "    gather(measure, correlation, -drug) %>%\n",
    "    separate(measure, c('method', 'measure'), sep = '_')\n",
    "\n",
    "#Plotting correlation results \n",
    "drugCorrs %>% \n",
    "ggplot(aes(x=drug, y=correlation, fill=method, group=method)) +\n",
    "    geom_bar(stat=\"identity\", position=position_dodge(), colour=\"black\") + \n",
    "    facet_grid(.~measure) +\n",
    "    theme(axis.text.x = element_text(angle = 45, hjust = 1))"
   ]
  },
  {
   "cell_type": "code",
   "execution_count": null,
   "metadata": {},
   "outputs": [],
   "source": [
    "drugCorrs %>%\n",
    "    group_by(method,measure) %>%\n",
    "    summarise(mean(correlation))"
   ]
  },
  {
   "cell_type": "markdown",
   "metadata": {},
   "source": [
    "> The correlation method applied by dcor gives results very similar to those of a Pearson correlation. In the grand scheme of things, my conclusions about the agreement between the studies doesn't change much, however, I would choose differently which specific drugs are viewed as the ones with the least and most agreement between the studies."
   ]
  },
  {
   "cell_type": "code",
   "execution_count": 12,
   "metadata": {},
   "outputs": [
    {
     "ename": "ERROR",
     "evalue": "Error in parse(text = x, srcfile = src): <text>:1:4: unexpected symbol\n1: 3. Histograms\n       ^\n",
     "output_type": "error",
     "traceback": [
      "Error in parse(text = x, srcfile = src): <text>:1:4: unexpected symbol\n1: 3. Histograms\n       ^\nTraceback:\n"
     ]
    }
   ],
   "source": [
    "\n",
    "ggplot(summarizedData, aes(x=auc_GDSC, y=auc_CCLE)) +\n",
    "  geom_jitter()+\n",
    "  facet_wrap(~drug)\n",
    "```\n",
    "\n",
    "2. Calculate correlation coefficients of the AUC in GDSC and CCLE for each drug (hint: code from Tutorial 2 may help). \n",
    "\n",
    "3. Based on the scatterplot and correlation values, would you say that they tend to agree? Why or why not?\n",
    "\n",
    "4. Does the AUC or IC50 suggest more agreement between the studies? \n",
    "\n",
    "5. Which drug do you think shows the most consistency between the studies? How about the least? \n",
    "\n",
    "6. If you calculated more than one type of correlation coefficient (for example Pearson and Spearman), how do they differ? Which do you think is a better summary of the consistency between the two studies? \n",
    "\n",
    "7. We have explored Pearson and Spearman correlation, but what about other correlation measures? For example, you could try out distance correlation, which is sensitive to nonlinear relationships. You can find this measure in the `energy` R package, which you'll need to install and load with the following commands:\n",
    "\n",
    "    ```{r, eval=FALSE}\n",
    "    install.packages(\"energy\")\n",
    "    load(energy)\n",
    "    ```\n",
    "\n",
    "    Then, you can compute distance correlation with the `dcor()` function. How does this correlation measure compare to Pearson and Spearman? Do your conclusions about the agreement between the two studies change at all using this measure?\n",
    "\n",
    "### Identifying biological factors that influence replicability of pharmacogenomic studies\n",
    "\n",
    "1. Are there any cell lines that seem to be consistently sensitive? (Hint: look for the 5 cell lines which seem the most resistant in both studies according to the average drug response by AUC; code from Tutorial 3 may help) What effect might this have on your conclusions and interpretations of the agreement between the studies? For example, do you observe any increase in replicability (as measured by correlation of drug response) if you exclude the most resistant cell lines?\n",
    "\n",
    "2. Classify each cell line as resistant or sensitive to a drug based on its AUC value (Hint: choose a cutoff for which cell lines with AUC below the cutoff are considered sensitive and explain your choice of cutoff(s); code from Tutorial 3 may help). Compare the resistance status of cell lines in GDSC and CCLE for each drug using either a scatterplot of AUC values colored by resistance/sensitivity in each study or a table.\n",
    "\n",
    "3. Compute the Matthews correlation coefficient for sensitivity status (from #2) of cell lines in GDSC and CCLE for each drug (Hint: code from Tutorial 3 may help). \n",
    "\n",
    "4. Are there any drugs for which most or all cell lines seem to be resistant in both studies (Hint: for each cell line, look at its average response across all drugs; code from Tutorial 3 may help)? If so, what are the correlation values for these drugs? What do these results imply about the replicability of these studies?\n",
    "\n",
    "5. Compare the Matthews correlation coefficient values by drug classes defined in Tutorial 3 (No effect, Narrow effect, Broad effect). Which drug class shows the most agreement between the studies? \n",
    "\n",
    "6. Would you say that the sensitivity results for the two studies tend to agree?\n",
    "\n",
    "7. For one of the targeted drugs, examine the cell lines that were sensitive ih the CCLE and/or GDSC. See if you can find out what types of cells these are by searching the online Cancer Cell Line Encyclopedia http://www.broadinstitute.org/ccle (this will prompt you to register with a username, password, and email address. If you prefer, you can also search the cell line on other websites). See if you can find out what types of cancers this drug is targeted for using the NCI cancer drug database at https://www.cancer.gov/about-cancer/treatment/drugs. Does the list of cell lines found to be sensitive in the two studies agree with this?\n",
    "\n",
    "### Modeling the relation between two variables (drug concentration vs viability)\n",
    "\n",
    "1. Explore the response curves for several drug-cell line combinations. How many drugs-cell line combinations contain viability response values that would potentially enable them to be summarized into an IC50 value? You can answer this, for example, by checking whether there are viability values below 50%.\n",
    "\n",
    "2. Analyze the re-calculations of IC50 and AUCs from the drug 17-AAG in the H4 cell-line and the drug Nilotinib cell-line in the 22RV1 cell-line. See the figure below and asnwer: which statistic is more roboust, IC50 or AUC? Which statistic is more generalizable, IC50 or AUC? Justify your answer with examples and/or using the whole data recalculations from the *mySummarizedData* variable.\n",
    "\n",
    "<img src=\"Figures/reproducible.png\" width=\"400px\" height=\"200px\" />\n",
    "Modified from [Kirstie Whitaker](https://github.com/KirstieJane/).\n",
    "\n",
    "3. Are the results more replicable if one uses the same code to calculate IC50 or AUC on the different datasets? Hint: you can use code from tutorial #3 to evaluate this.\n",
    "\n",
    "4. Summarize the viability curves of all the drugs in each cell-line using the slope of linear model. Is the slope of the linear regression informative of the drug response? Can we improve the replicability of the studies by using the value of the slope instead of IC50s or AUCs? \n",
    "\n",
    "## Discussion:\n",
    "\n",
    "Summarize the main findings of your analyses in the previous four sections here. "
   ]
  }
 ],
 "metadata": {
  "kernelspec": {
   "display_name": "R",
   "language": "R",
   "name": "ir"
  },
  "language_info": {
   "codemirror_mode": "r",
   "file_extension": ".r",
   "mimetype": "text/x-r-source",
   "name": "R",
   "pygments_lexer": "r",
   "version": "3.5.1"
  }
 },
 "nbformat": 4,
 "nbformat_minor": 2
}
