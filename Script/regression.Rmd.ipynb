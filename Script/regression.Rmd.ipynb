{
 "cells": [
  {
   "cell_type": "code",
   "execution_count": null,
   "metadata": {
    "Rmd_chunk_options": "echo=FALSE",
    "autoscroll": false,
    "collapsed": true
   },
   "outputs": [],
   "source": [
    "knitr::opts_chunk$set(cache=FALSE, warning=FALSE)"
   ]
  },
  {
   "cell_type": "markdown",
   "metadata": {},
   "source": [
    "\n",
    "IC50 and AUC statistics are designed to summarize drug response curves into\n",
    "a single number. This summarization step facilitates downstream\n",
    "analyses. Apart from summarizing drug responses, IC50 and AUC have also\n",
    "intuitive interpretations. For an overview about these statistics, have a\n",
    "look at the Tutorial #2 (Using Correlation Measures to Assess\n",
    "Replicability of Drug Response Studies).\n",
    "\n",
    "A limitation of this type of summarized statistics, however, is that they usually\n",
    "require to make assumptions about the data. As we will see in this vignette, some of\n",
    "these assumption might not always hold. When going through this vignette,\n",
    "try to think about the following question: Can the inconsistencies\n",
    "between the different studies be attributed to the modelling assumptions?\n",
    "\n",
    "## Exploring the drug response data\n",
    "\n",
    "Let's start by exploring the IC50 and the AUC statistics that were\n",
    "published in the original manuscripts. Let's load the data into the current working session and\n",
    "define a function that allows us to visualize the relation between\n",
    "drug response and drug concentration.\n",
    "\n"
   ]
  },
  {
   "cell_type": "code",
   "execution_count": null,
   "metadata": {
    "Rmd_chunk_options": "plotResponse",
    "autoscroll": false,
    "collapsed": true
   },
   "outputs": [],
   "source": [
    "rawFile <- \"rawPharmacoData.csv\"\n",
    "summarizedFile <- \"summarizedPharmacoData.csv\"\n",
    "if( !file.exists( rawFile ) ){\n",
    "    source(\"downloadData.R\")\n",
    "}\n",
    "pharmacoData <- read.csv(rawFile)\n",
    "summarizedData <- read.csv(summarizedFile)\n",
    "\n",
    "library(ggplot2)\n",
    "library(dplyr)\n",
    "library(cowplot)\n",
    "plotResponse <- function(drugA, cellLineA, addPublishedIC50=TRUE ){\n",
    "  pharSub <- filter( pharmacoData, drug==drugA, cellLine==cellLineA )\n",
    "  sumSub <- filter( summarizedData, drug==drugA, cellLine==cellLineA )\n",
    "  p <- ggplot( pharSub, aes( log10(concentration), viability, col=study)) +\n",
    "      geom_point(size=2.1) + geom_line(lwd=1.1) + ylim(0, 150)\n",
    "  if( addPublishedIC50 ){\n",
    "      p <- p + geom_vline( sumSub, xintercept=log10( sumSub[,\"ic50_CCLE\"] ), col=\"#d95f02\", linetype=\"longdash\") +\n",
    "          geom_vline( xintercept=log10( sumSub[,\"ic50_GDSC\"]), col=\"#1b9e77\", linetype=\"longdash\") +\n",
    "          geom_hline( yintercept=50, col=\"#00000050\", linetype=\"longdash\")\n",
    "  }\n",
    "  p <- p + scale_colour_manual( values = c(\"CCLE\" = \"#d95f02\", \"GDSC\" = \"#1b9e77\" ))\n",
    "  xlims <- xlim( range(log10(c(pharSub$concentration, sumSub$ic50_CCLE, sumSub$ic50_GDSC ) ) ) )\n",
    "  p + xlims\n",
    "}"
   ]
  },
  {
   "cell_type": "markdown",
   "metadata": {},
   "source": [
    "\n",
    "The plot define above will visualize the viability scores as a function\n",
    "of the drug concentrations in each study. The vertical dotted lines\n",
    "display the IC50 value published from each study. Let's start by\n",
    "exploring how the response curve for the drug 17-AAG behaves in the\n",
    "cell-line H4.  Notice that this drug was reported to have consistent viability\n",
    "responses between the two studies.\n",
    "\n"
   ]
  },
  {
   "cell_type": "code",
   "execution_count": null,
   "metadata": {
    "autoscroll": false,
    "collapsed": true
   },
   "outputs": [],
   "source": [
    "plotResponse( drugA=\"17-AAG\", cellLineA=\"H4\", TRUE )"
   ]
  },
  {
   "cell_type": "markdown",
   "metadata": {},
   "source": [
    "\n",
    "What observations can you draw from this curve? Are the response\n",
    "data holding the assumptions to estimate an IC50 value?\n",
    "\n",
    "Let's now select another drug-cell line combination.\n",
    "\n"
   ]
  },
  {
   "cell_type": "code",
   "execution_count": null,
   "metadata": {
    "autoscroll": false,
    "collapsed": true
   },
   "outputs": [],
   "source": [
    "plotResponse( drugA=\"Nilotinib\", cellLineA=\"22RV1\" )"
   ]
  },
  {
   "cell_type": "markdown",
   "metadata": {},
   "source": [
    "\n",
    "Are the reported IC50 values reflecting the actual behaviour\n",
    "of the response curves? How can IC50 values be estimated if\n",
    "there are no viabilities below 50% for the second example?\n",
    "How did the two different studies deal with these cases?\n",
    "\n",
    "## Logistic regression\n",
    "\n",
    "A common way to model viability response curves is to fit logistic\n",
    "regression models. If you have interest in knowing more about either\n",
    "logistic regression models or modelling approaches in general, [this book](http://www-bcf.usc.edu/~gareth/ISL/ISLR%20Sixth%20Printing.pdf)\n",
    "gives an excellent introduction to these topics.\n",
    "\n",
    "The idea of a model is that it should describe how\n",
    "the viability decreases upon increasing the drug concentration.\n",
    "\n",
    "Let's write a function that fits a logistic regression model on\n",
    "the data. The *fitLogisticModel* defined below receives as input\n",
    "a drug, a cell line and a study, and fits a regression\n",
    "model viability ~ concentration on these data.\n",
    "\n"
   ]
  },
  {
   "cell_type": "code",
   "execution_count": null,
   "metadata": {
    "autoscroll": false,
    "collapsed": true
   },
   "outputs": [],
   "source": [
    "\n",
    "fitLogisticModel <- function(drugA, cellLineA, studyA){\n",
    "    pharSub <- filter( pharmacoData, drug==drugA, cellLine==cellLineA, study==studyA)\n",
    "    inRange <- pharSub$viability > 0 & pharSub$viability < 100\n",
    "    pharSub$viability <- round(pharSub$viability)\n",
    "    pharSub$concentration <- log10( pharSub$concentration )\n",
    "    maxVal <- pmax( pharSub$viability, 100 )\n",
    "    fit <- glm( cbind( viability, maxVal-viability ) ~ concentration,\n",
    "               pharSub, family=binomial )\n",
    "    fit\n",
    "}"
   ]
  },
  {
   "cell_type": "markdown",
   "metadata": {},
   "source": [
    "\n",
    "Let's now use this function to fit models on the data. We will use the\n",
    "two drug-cell line combinations mentioned in the first section of this vignette.\n",
    "\n"
   ]
  },
  {
   "cell_type": "code",
   "execution_count": null,
   "metadata": {
    "autoscroll": false,
    "collapsed": true
   },
   "outputs": [],
   "source": [
    "\n",
    "lrCCLE1 <- fitLogisticModel( \"17-AAG\", \"H4\", \"CCLE\" )\n",
    "lrGDSC1 <- fitLogisticModel( \"17-AAG\", \"H4\", \"GDSC\" )\n",
    "\n",
    "lrCCLE2 <- fitLogisticModel( \"Nilotinib\", \"22RV1\", \"CCLE\" )\n",
    "lrGDSC2 <- fitLogisticModel( \"Nilotinib\", \"22RV1\", \"GDSC\" )\n",
    "\n",
    "lrCCLE1\n",
    "lrCCLE2\n",
    ""
   ]
  },
  {
   "cell_type": "markdown",
   "metadata": {},
   "source": [
    "\n",
    "Let's evaluate the logistic regression models by plotting the model\n",
    "and the raw data together. The function *predictValues* receives as\n",
    "input a fit and outputs response values predicted from such model.\n",
    "The *plotFit* function defined below enables the visualization of\n",
    "the model predictions together with the raw data.\n",
    "\n"
   ]
  },
  {
   "cell_type": "code",
   "execution_count": null,
   "metadata": {
    "autoscroll": false,
    "collapsed": true
   },
   "outputs": [],
   "source": [
    "\n",
    "\n",
    "predictValues <- function( fit, numPred=1000){\n",
    "    min <- min( fit$data$concentration )\n",
    "    max <- max( fit$data$concentration )\n",
    "    valuesToPredict <- seq(min, max, length.out=numPred)\n",
    "    predicted <- predict( fit,\n",
    "            data.frame(concentration=valuesToPredict),\n",
    "            type=\"response\" )\n",
    "    data.frame( concentration=valuesToPredict,\n",
    "               viability=predicted*100 )\n",
    "}\n",
    "\n",
    "plotFit <- function(p, fitCCLE, fitGDSC ){\n",
    "    p <- p + geom_line( aes( concentration, viability ),\n",
    "              data=predictValues( fitCCLE ), lwd=1.2,\n",
    "              linetype=\"dashed\", col=\"#d95f02\" )+\n",
    "    geom_line( aes( concentration, viability ),\n",
    "              data=predictValues( fitGDSC ), lwd=1.2,\n",
    "              linetype=\"dashed\", col=\"#1b9e77\")\n",
    "    p\n",
    "}\n",
    ""
   ]
  },
  {
   "cell_type": "markdown",
   "metadata": {},
   "source": [
    "\n",
    "Now let's use these functions to evaluate the regression fits\n",
    "from the two drug-cell line combinations mentioned before. Ideally, we would like the regression model to be as\n",
    "close as possible to the individual data points.\n",
    "\n"
   ]
  },
  {
   "cell_type": "code",
   "execution_count": null,
   "metadata": {
    "autoscroll": false,
    "collapsed": true
   },
   "outputs": [],
   "source": [
    "\n",
    "plotFit( plotResponse( \"17-AAG\", \"H4\", FALSE ),\n",
    "        fitCCLE=lrCCLE1, fitGDSC=lrGDSC1 )\n",
    "\n",
    "plotFit( plotResponse( \"Nilotinib\", \"22RV1\", FALSE ),\n",
    "        fitCCLE=lrCCLE2, fitGDSC=lrGDSC2 ) +\n",
    "        xlim(-2, 1.3)\n",
    ""
   ]
  },
  {
   "cell_type": "markdown",
   "metadata": {},
   "source": [
    "\n",
    "\n",
    "### IC50 and AUC calculation from logistic regression models\n",
    "\n",
    "The following two subsections provide code implementations to compute the\n",
    "IC50 and AUC statistics for the drug-cell line combinations mentioned above.\n",
    "Notice that these implementations were not based in code from previous\n",
    "publications.\n",
    "\n",
    "Using the logistic models fitted before, let's estimate IC50\n",
    "values by predicting the drug concentration value that the\n",
    "logistic regression model predicts to result in a viability score of 50%.\n",
    "\n"
   ]
  },
  {
   "cell_type": "code",
   "execution_count": null,
   "metadata": {
    "autoscroll": false,
    "collapsed": true
   },
   "outputs": [],
   "source": [
    "\n",
    "library(magrittr)\n",
    "\n",
    "getIC50Value <- function( fit ){\n",
    "    if( !fit$converged ){\n",
    "      return( NA )\n",
    "    }\n",
    "    predictValues( fit, numPred=10000 ) %>%\n",
    "    { .$concentration[which.min( abs( .$viability - 50) )] }\n",
    "}\n",
    "\n",
    "10^getIC50Value( lrCCLE1 )\n",
    "10^getIC50Value( lrGDSC1 )\n",
    "filter( summarizedData, drug==\"17-AAG\", cellLine==\"H4\")[,c(\"ic50_CCLE\", \"ic50_GDSC\")]\n",
    "\n",
    "10^getIC50Value( lrCCLE2 )\n",
    "10^getIC50Value( lrGDSC2 )\n",
    "filter( summarizedData, drug==\"Nilotinib\", cellLine==\"22RV1\")[,c(\"ic50_CCLE\", \"ic50_GDSC\")]\n",
    ""
   ]
  },
  {
   "cell_type": "markdown",
   "metadata": {},
   "source": [
    "\n",
    "Let's now calculate AUC values based on the\n",
    "logistic regression model.\n",
    "\n"
   ]
  },
  {
   "cell_type": "code",
   "execution_count": null,
   "metadata": {
    "autoscroll": false,
    "collapsed": true
   },
   "outputs": [],
   "source": [
    "\n",
    "getAUCValue <- function( fit ){\n",
    "    numbOfPredictions <- 10000\n",
    "    if( !fit$converged ){\n",
    "      return( NA )\n",
    "    }\n",
    "    x <- 1 - ( predictValues( fit, numPred=numbOfPredictions )$viability / 100 ) ## difference between 1 and the predicted viability probability\n",
    "    x <- sum( x ) ## summing all the predicted values\n",
    "    x / numbOfPredictions ## normalize such that the total area sums to 1\n",
    "}\n",
    "\n",
    "getAUCValue( lrCCLE1 )\n",
    "getAUCValue( lrGDSC1 )\n",
    "filter( summarizedData, drug==\"17-AAG\", cellLine==\"H4\")\n",
    "\n",
    "getAUCValue( lrCCLE2 )\n",
    "getAUCValue( lrGDSC2 )\n",
    "filter( summarizedData, drug==\"Nilotinib\", cellLine==\"22RV1\")\n",
    ""
   ]
  },
  {
   "cell_type": "markdown",
   "metadata": {},
   "source": [
    "\n",
    "## Estimating regressions, IC50 values and AUC values for all combinations of drugs x cell-lines\n",
    "\n",
    "The following code, fits a logistic regression model for each of the drug-cellline combinations\n",
    "and estimates both IC50 and AUC values for both the CCLE and the GDSC data.\n",
    "\n"
   ]
  },
  {
   "cell_type": "code",
   "execution_count": null,
   "metadata": {
    "Rmd_chunk_options": "cache=TRUE",
    "autoscroll": false,
    "collapsed": true
   },
   "outputs": [],
   "source": [
    "\n",
    "mySummarizedData <- suppressWarnings( lapply( seq_len( nrow( summarizedData )), function(x){\n",
    "  drug <- as.character( summarizedData$drug[x] )\n",
    "  cellLine <- as.character( summarizedData$cellLine[x] )\n",
    "  fitCCLE <- try( fitLogisticModel( drug, cellLine, \"CCLE\" ), silent=TRUE)\n",
    "  fitGDSC <- try( fitLogisticModel( drug, cellLine, \"GDSC\" ), silent=TRUE)\n",
    "  if( inherits(fitCCLE, \"try-error\") ){\n",
    "    ic50CCLE <- NA\n",
    "    aucCCLE <- NA\n",
    "  }else{\n",
    "    ic50CCLE <- 10^getIC50Value( fitCCLE )\n",
    "    aucCCLE <- getAUCValue( fitCCLE )\n",
    "  }\n",
    "  if( inherits(fitGDSC, \"try-error\") ){\n",
    "    ic50GDSC <- NA\n",
    "    aucGDSC <- NA\n",
    "  }else{\n",
    "    ic50GDSC <- 10^getIC50Value( fitGDSC )\n",
    "    aucGDSC <- getAUCValue( fitGDSC )\n",
    "  }\n",
    "  data.frame( drug=drug,\n",
    "     cellLine=cellLine,\n",
    "     ic50_CCLE=ic50CCLE,\n",
    "     auc_CCLE=aucCCLE,\n",
    "     ic50_GDSC=ic50GDSC,\n",
    "     auc_GDSC=aucGDSC )\n",
    "} ) )\n",
    "\n",
    "mySummarizedData <- do.call( rbind, mySummarizedData )\n",
    ""
   ]
  },
  {
   "cell_type": "markdown",
   "metadata": {},
   "source": [
    "\n",
    "Lets compare the scores estimated using code from this vignette between the different studies.\n",
    "\n"
   ]
  },
  {
   "cell_type": "code",
   "execution_count": null,
   "metadata": {
    "autoscroll": false,
    "collapsed": true
   },
   "outputs": [],
   "source": [
    "\n",
    "allSummarizedData <- merge( x=summarizedData, y=mySummarizedData, by=c(\"drug\", \"cellLine\"))\n",
    "\n",
    "ggplot(\n",
    "  filter( allSummarizedData, drug==\"17-AAG\"), aes( -log10(ic50_GDSC.y), -log10( ic50_CCLE.y) ) ) +\n",
    "  geom_point()\n",
    "\n",
    "ggplot(\n",
    "  filter( allSummarizedData, drug==\"17-AAG\"), aes( auc_GDSC.y, auc_CCLE.y ) ) +\n",
    "  geom_point()\n",
    ""
   ]
  },
  {
   "cell_type": "markdown",
   "metadata": {},
   "source": [
    "## Modeling drug response using linear models\n",
    "\n",
    "The function defined below, instead of fitting a logistic regression like the\n",
    "function *fitLogisticModel*, fits a linear regression.\n",
    "\n"
   ]
  },
  {
   "cell_type": "code",
   "execution_count": null,
   "metadata": {
    "autoscroll": false,
    "collapsed": true
   },
   "outputs": [],
   "source": [
    "\n",
    "fitLinearModel <- function(drugA, cellLineA, studyA){\n",
    "    pharSub <- filter( pharmacoData, drug==drugA, cellLine==cellLineA, study==studyA)\n",
    "    pharSub$concentration <- log10( pharSub$concentration )\n",
    "    fit <- lm( viability~ concentration, pharSub )\n",
    "    fit\n",
    "}\n",
    ""
   ]
  },
  {
   "cell_type": "markdown",
   "metadata": {},
   "source": [
    "\n",
    "Below you will find an example on how to use the *fitLinearModel* function and how to extract\n",
    "the slope of the linear regression.\n",
    "\n"
   ]
  },
  {
   "cell_type": "code",
   "execution_count": null,
   "metadata": {
    "autoscroll": false,
    "collapsed": true
   },
   "outputs": [],
   "source": [
    "\n",
    "linearModelCCLE1 <- fitLinearModel( \"17-AAG\", \"H4\", \"CCLE\" )\n",
    "slope1 <- coefficients( linearModelCCLE1 )[\"concentration\"]\n",
    "linearModelGDSC1 <- fitLinearModel( \"17-AAG\", \"H4\", \"GDSC\" )\n",
    "slope2 <- coefficients( linearModelGDSC1 )[\"concentration\"]\n",
    "\n",
    "linearModelCCLE2 <- fitLinearModel( \"Nilotinib\", \"22RV1\", \"CCLE\" )\n",
    "coefficients( linearModelCCLE2 )[\"concentration\"]\n",
    "linearModelGDSC2 <- fitLinearModel( \"Nilotinib\", \"22RV1\", \"GDSC\" )\n",
    "coefficients( linearModelGDSC2 )[\"concentration\"]\n",
    ""
   ]
  }
 ],
 "metadata": {
  "Rmd_header": {
   "output": "html_document",
   "title": "Tutorial 4: Modeling the Relation between Two Variables (Drug Concentration vs Viability)"
  },
  "kernelspec": {
   "display_name": "R",
   "language": "R",
   "name": "ir"
  },
  "language_info": {
   "codemirror_mode": "r",
   "file_extension": ".r",
   "mimetype": "text/x-r-source",
   "name": "R",
   "pygments_lexer": "r"
  }
 },
 "nbformat": 4,
 "nbformat_minor": 0
}
