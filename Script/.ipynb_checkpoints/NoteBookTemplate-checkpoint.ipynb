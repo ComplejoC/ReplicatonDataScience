{
 "cells": [
  {
   "cell_type": "markdown",
   "metadata": {},
   "source": [
    "## Instructions:\n",
    "\n",
    "In this R Markdown document, you and your team will create a fully reproducible analysis with the goal of assessing and interpreting the replicability of two pharmacogenomic experiments. This document should contain all of the text and code of your analyses, which will allow others to run, interpret, and reuse your work.\n",
    "\n",
    "The questions below will help guide you in your analyses and interpretation of results. You don't need to answer every question, but for the problems you do complete, make sure that you completely justify your conclusions by explaining your reasoning and including numerical summaries and data visualizations wherever possible. There are four tutorials (also R Markdown documents) that will help you learn new tools to tackle these problems, and the questions are divided into four sections corresponding to the tutorials (though many overlap with more than one tutorial). If questions arise during your analyses that do not fit into these problems, feel free to include those as well. \n",
    "\n",
    "For each answer, include text by simply typing below the question. Include code in code blocks (include three back ticks at the start and end of each code block):\n",
    "\n",
    "```{r}\n",
    "#Your code goes here\n",
    "```\n",
    "You may find it helpful to use the version control and code sharing system called GitHub to work together with your team so that all of you can edit the same document and keep track of its changes. Here is a [setup guide](https://github.com/datasciencelabs/2016/blob/master/lectures/git-and-github/setting-up-git.Rmd) and [brief introduction to Git and GitHub](https://github.com/datasciencelabs/2016/blob/master/lectures/git-and-github/version-control.Rmd) from another course. The mentors will be able to help if you run into problems. \n",
    "\n"
   ]
  },
  {
   "cell_type": "markdown",
   "metadata": {},
   "source": [
    "## Questions:\n"
   ]
  },
  {
   "cell_type": "markdown",
   "metadata": {},
   "source": [
    "#### Import packeges\n"
   ]
  },
  {
   "cell_type": "code",
   "execution_count": 1,
   "metadata": {},
   "outputs": [
    {
     "name": "stderr",
     "output_type": "stream",
     "text": [
      "Warning message:\n",
      "\"package 'tidyverse' was built under R version 3.5.2\""
     ]
    },
    {
     "ename": "ERROR",
     "evalue": "Error: package or namespace load failed for 'tidyverse' in loadNamespace(i, c(lib.loc, .libPaths()), versionCheck = vI[[i]]):\n there is no package called 'rlang'\n",
     "output_type": "error",
     "traceback": [
      "Error: package or namespace load failed for 'tidyverse' in loadNamespace(i, c(lib.loc, .libPaths()), versionCheck = vI[[i]]):\n there is no package called 'rlang'\nTraceback:\n",
      "1. library(tidyverse)",
      "2. tryCatch({\n .     attr(package, \"LibPath\") <- which.lib.loc\n .     ns <- loadNamespace(package, lib.loc)\n .     env <- attachNamespace(ns, pos = pos, deps)\n . }, error = function(e) {\n .     P <- if (!is.null(cc <- conditionCall(e))) \n .         paste(\" in\", deparse(cc)[1L])\n .     else \"\"\n .     msg <- gettextf(\"package or namespace load failed for %s%s:\\n %s\", \n .         sQuote(package), P, conditionMessage(e))\n .     if (logical.return) \n .         message(paste(\"Error:\", msg), domain = NA)\n .     else stop(msg, call. = FALSE, domain = NA)\n . })",
      "3. tryCatchList(expr, classes, parentenv, handlers)",
      "4. tryCatchOne(expr, names, parentenv, handlers[[1L]])",
      "5. value[[3L]](cond)",
      "6. stop(msg, call. = FALSE, domain = NA)"
     ]
    }
   ],
   "source": [
    "library(tidyverse)\n"
   ]
  },
  {
   "cell_type": "markdown",
   "metadata": {},
   "source": [
    "### Read files"
   ]
  },
  {
   "cell_type": "code",
   "execution_count": 2,
   "metadata": {},
   "outputs": [
    {
     "ename": "ERROR",
     "evalue": "Error in read_csv(\"~/rawPharmacoData.csv\"): could not find function \"read_csv\"\n",
     "output_type": "error",
     "traceback": [
      "Error in read_csv(\"~/rawPharmacoData.csv\"): could not find function \"read_csv\"\nTraceback:\n"
     ]
    }
   ],
   "source": [
    "rawPharmacoData <- read_csv(\"~/rawPharmacoData.csv\")\n",
    "summarizedData <- read_csv(\"~/summarizedPharmacoData.csv\")"
   ]
  },
  {
   "cell_type": "code",
   "execution_count": null,
   "metadata": {},
   "outputs": [],
   "source": [
    "### Exploratory analysis of pharmacogenomic data"
   ]
  },
  {
   "cell_type": "code",
   "execution_count": null,
   "metadata": {},
   "outputs": [],
   "source": [
    "1. How many cell-lines are contained in the data?"
   ]
  },
  {
   "cell_type": "code",
   "execution_count": null,
   "metadata": {},
   "outputs": [],
   "source": [
    "#Check number of unique variables within cell lines\n",
    "\n",
    "n_distinct(rawPharmacoData$cellLine)\n",
    "n_distinct(summarizedData$cellLine)"
   ]
  },
  {
   "cell_type": "code",
   "execution_count": null,
   "metadata": {},
   "outputs": [],
   "source": [
    "2. What drug concentrations were used in each study?"
   ]
  },
  {
   "cell_type": "code",
   "execution_count": null,
   "metadata": {},
   "outputs": [],
   "source": [
    "rawPharmacoData %>%\n",
    "  group_by(concentration) %>%\n",
    "  count(study)"
   ]
  },
  {
   "cell_type": "code",
   "execution_count": null,
   "metadata": {},
   "outputs": [],
   "source": [
    "3. Histograms, appart from telling how is the data\n",
    "distributed, can also make evident potential\n",
    "problems with the data. Plot a histogram\n",
    "of drug viabilities. Does it look as one would\n",
    "expect from the description of the data?\n",
    "```{r}\n",
    "ggplot(rawPharmacoData, aes(x = viability)) +\n",
    "  geom_histogram() +\n",
    "  facet_wrap(~drug)\n",
    "```\n",
    "\n",
    "4. How many viability data points are within the\n",
    "expected range according to the definition of viability (e.g. above 0  and below 100)? Try to come up with explanations about the values that are out of range. Are these due to technical issues? Biology?\n",
    "```{r}\n",
    "rawPharmacoData %>%\n",
    "  count(viability > 0 & viability < 100)\n",
    "```\n",
    "\n",
    "\n",
    "5. Read the csv file containing the summarized data files. What kind\n",
    "of variables are in the data? What does each column represents?\n",
    "```{r}\n",
    "glimpse(summarizedData)\n",
    "```\n",
    "\n",
    "\n",
    "6. Plot a histogram of the viability scores as a function of the drug doses. Are stronger drug concentrations consistent with lower viability scores?\n",
    "```{r}\n",
    "ggplot(rawPharmacoData, aes(x = viability)) +\n",
    "  geom_histogram() +\n",
    "  facet_wrap(~doseID)\n",
    "\n",
    "```\n",
    "\n",
    "\n",
    "### Using Correlation Measures to Assess Replicability of Drug Response Studies\n",
    "\n",
    "1. Create a scatterplot for each drug comparing the AUC in GDSC and CCLE for all cell lines (hint: code from Tutorial 2 may help).\n",
    "```{r}\n",
    "ggplot(summarizedData, aes(x = ic50_CCLE, y = ic50_CCLE)) +\n",
    "  geom_jitter()+\n",
    "  facet_wrap(~drug)\n",
    "\n",
    "```\n",
    "\n",
    "```{r}\n",
    "ggplot(summarizedData, aes(x=auc_GDSC, y=auc_CCLE)) +\n",
    "  geom_jitter()+\n",
    "  facet_wrap(~drug)\n",
    "```\n",
    "\n",
    "2. Calculate correlation coefficients of the AUC in GDSC and CCLE for each drug (hint: code from Tutorial 2 may help). \n",
    "\n",
    "3. Based on the scatterplot and correlation values, would you say that they tend to agree? Why or why not?\n",
    "\n",
    "4. Does the AUC or IC50 suggest more agreement between the studies? \n",
    "\n",
    "5. Which drug do you think shows the most consistency between the studies? How about the least? \n",
    "\n",
    "6. If you calculated more than one type of correlation coefficient (for example Pearson and Spearman), how do they differ? Which do you think is a better summary of the consistency between the two studies? \n",
    "\n",
    "7. We have explored Pearson and Spearman correlation, but what about other correlation measures? For example, you could try out distance correlation, which is sensitive to nonlinear relationships. You can find this measure in the `energy` R package, which you'll need to install and load with the following commands:\n",
    "\n",
    "    ```{r, eval=FALSE}\n",
    "    install.packages(\"energy\")\n",
    "    load(energy)\n",
    "    ```\n",
    "\n",
    "    Then, you can compute distance correlation with the `dcor()` function. How does this correlation measure compare to Pearson and Spearman? Do your conclusions about the agreement between the two studies change at all using this measure?\n",
    "\n",
    "### Identifying biological factors that influence replicability of pharmacogenomic studies\n",
    "\n",
    "1. Are there any cell lines that seem to be consistently sensitive? (Hint: look for the 5 cell lines which seem the most resistant in both studies according to the average drug response by AUC; code from Tutorial 3 may help) What effect might this have on your conclusions and interpretations of the agreement between the studies? For example, do you observe any increase in replicability (as measured by correlation of drug response) if you exclude the most resistant cell lines?\n",
    "\n",
    "2. Classify each cell line as resistant or sensitive to a drug based on its AUC value (Hint: choose a cutoff for which cell lines with AUC below the cutoff are considered sensitive and explain your choice of cutoff(s); code from Tutorial 3 may help). Compare the resistance status of cell lines in GDSC and CCLE for each drug using either a scatterplot of AUC values colored by resistance/sensitivity in each study or a table.\n",
    "\n",
    "3. Compute the Matthews correlation coefficient for sensitivity status (from #2) of cell lines in GDSC and CCLE for each drug (Hint: code from Tutorial 3 may help). \n",
    "\n",
    "4. Are there any drugs for which most or all cell lines seem to be resistant in both studies (Hint: for each cell line, look at its average response across all drugs; code from Tutorial 3 may help)? If so, what are the correlation values for these drugs? What do these results imply about the replicability of these studies?\n",
    "\n",
    "5. Compare the Matthews correlation coefficient values by drug classes defined in Tutorial 3 (No effect, Narrow effect, Broad effect). Which drug class shows the most agreement between the studies? \n",
    "\n",
    "6. Would you say that the sensitivity results for the two studies tend to agree?\n",
    "\n",
    "7. For one of the targeted drugs, examine the cell lines that were sensitive ih the CCLE and/or GDSC. See if you can find out what types of cells these are by searching the online Cancer Cell Line Encyclopedia http://www.broadinstitute.org/ccle (this will prompt you to register with a username, password, and email address. If you prefer, you can also search the cell line on other websites). See if you can find out what types of cancers this drug is targeted for using the NCI cancer drug database at https://www.cancer.gov/about-cancer/treatment/drugs. Does the list of cell lines found to be sensitive in the two studies agree with this?\n",
    "\n",
    "### Modeling the relation between two variables (drug concentration vs viability)\n",
    "\n",
    "1. Explore the response curves for several drug-cell line combinations. How many drugs-cell line combinations contain viability response values that would potentially enable them to be summarized into an IC50 value? You can answer this, for example, by checking whether there are viability values below 50%.\n",
    "\n",
    "2. Analyze the re-calculations of IC50 and AUCs from the drug 17-AAG in the H4 cell-line and the drug Nilotinib cell-line in the 22RV1 cell-line. See the figure below and asnwer: which statistic is more roboust, IC50 or AUC? Which statistic is more generalizable, IC50 or AUC? Justify your answer with examples and/or using the whole data recalculations from the *mySummarizedData* variable.\n",
    "\n",
    "<img src=\"Figures/reproducible.png\" width=\"400px\" height=\"200px\" />\n",
    "Modified from [Kirstie Whitaker](https://github.com/KirstieJane/).\n",
    "\n",
    "3. Are the results more replicable if one uses the same code to calculate IC50 or AUC on the different datasets? Hint: you can use code from tutorial #3 to evaluate this.\n",
    "\n",
    "4. Summarize the viability curves of all the drugs in each cell-line using the slope of linear model. Is the slope of the linear regression informative of the drug response? Can we improve the replicability of the studies by using the value of the slope instead of IC50s or AUCs? \n",
    "\n",
    "## Discussion:\n",
    "\n",
    "Summarize the main findings of your analyses in the previous four sections here. "
   ]
  }
 ],
 "metadata": {
  "kernelspec": {
   "display_name": "R",
   "language": "R",
   "name": "ir"
  },
  "language_info": {
   "codemirror_mode": "r",
   "file_extension": ".r",
   "mimetype": "text/x-r-source",
   "name": "R",
   "pygments_lexer": "r",
   "version": "3.5.1"
  }
 },
 "nbformat": 4,
 "nbformat_minor": 2
}
