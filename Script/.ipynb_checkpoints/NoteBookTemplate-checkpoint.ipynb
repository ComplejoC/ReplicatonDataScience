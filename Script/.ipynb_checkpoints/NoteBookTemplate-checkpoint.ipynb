{
 "cells": [
  {
   "cell_type": "markdown",
   "metadata": {},
   "source": [
    "## Instructions:\n",
    "\n",
    "In this R Markdown document, you and your team will create a fully reproducible analysis with the goal of assessing and interpreting the replicability of two pharmacogenomic experiments. This document should contain all of the text and code of your analyses, which will allow others to run, interpret, and reuse your work.\n",
    "\n",
    "The questions below will help guide you in your analyses and interpretation of results. You don't need to answer every question, but for the problems you do complete, make sure that you completely justify your conclusions by explaining your reasoning and including numerical summaries and data visualizations wherever possible. There are four tutorials (also R Markdown documents) that will help you learn new tools to tackle these problems, and the questions are divided into four sections corresponding to the tutorials (though many overlap with more than one tutorial). If questions arise during your analyses that do not fit into these problems, feel free to include those as well. \n",
    "\n",
    "For each answer, include text by simply typing below the question. Include code in code blocks (include three back ticks at the start and end of each code block):\n",
    "\n",
    "```{r}\n",
    "#Your code goes here\n",
    "```\n",
    "You may find it helpful to use the version control and code sharing system called GitHub to work together with your team so that all of you can edit the same document and keep track of its changes. Here is a [setup guide](https://github.com/datasciencelabs/2016/blob/master/lectures/git-and-github/setting-up-git.Rmd) and [brief introduction to Git and GitHub](https://github.com/datasciencelabs/2016/blob/master/lectures/git-and-github/version-control.Rmd) from another course. The mentors will be able to help if you run into problems. \n",
    "\n"
   ]
  },
  {
   "cell_type": "markdown",
   "metadata": {},
   "source": [
    "## Questions:\n"
   ]
  },
  {
   "cell_type": "markdown",
   "metadata": {},
   "source": [
    "#### Import packeges\n"
   ]
  },
  {
   "cell_type": "code",
   "execution_count": 1,
   "metadata": {},
   "outputs": [
    {
     "name": "stderr",
     "output_type": "stream",
     "text": [
      "── Attaching packages ─────────────────────────────────────── tidyverse 1.2.1 ──\n",
      "✔ ggplot2 3.1.1       ✔ purrr   0.3.2  \n",
      "✔ tibble  2.1.1       ✔ dplyr   0.8.0.1\n",
      "✔ tidyr   0.8.3       ✔ stringr 1.3.1  \n",
      "✔ readr   1.3.1       ✔ forcats 0.4.0  \n",
      "── Conflicts ────────────────────────────────────────── tidyverse_conflicts() ──\n",
      "✖ dplyr::filter() masks stats::filter()\n",
      "✖ dplyr::lag()    masks stats::lag()\n"
     ]
    }
   ],
   "source": [
    "\n",
    "library(tidyverse)\n"
   ]
  },
  {
   "cell_type": "markdown",
   "metadata": {},
   "source": [
    "### Read files"
   ]
  },
  {
   "cell_type": "code",
   "execution_count": 2,
   "metadata": {},
   "outputs": [
    {
     "name": "stderr",
     "output_type": "stream",
     "text": [
      "Parsed with column specification:\n",
      "cols(\n",
      "  cellLine = col_character(),\n",
      "  drug = col_character(),\n",
      "  doseID = col_character(),\n",
      "  concentration = col_double(),\n",
      "  viability = col_double(),\n",
      "  study = col_character()\n",
      ")\n",
      "Parsed with column specification:\n",
      "cols(\n",
      "  cellLine = col_character(),\n",
      "  drug = col_character(),\n",
      "  ic50_CCLE = col_double(),\n",
      "  auc_CCLE = col_double(),\n",
      "  ic50_GDSC = col_double(),\n",
      "  auc_GDSC = col_double()\n",
      ")\n"
     ]
    }
   ],
   "source": [
    "rawPharmacoData <- read_csv(\"../Data/rawPharmacoData.csv\")\n",
    "summarizedData <- read_csv(\"../Data/summarizedPharmacoData.csv\")"
   ]
  },
  {
   "cell_type": "code",
   "execution_count": 3,
   "metadata": {},
   "outputs": [],
   "source": [
    "### Exploratory analysis of pharmacogenomic data"
   ]
  },
  {
   "cell_type": "code",
   "execution_count": 4,
   "metadata": {},
   "outputs": [],
   "source": [
    "#1. How many cell-lines are contained in the data?"
   ]
  },
  {
   "cell_type": "code",
   "execution_count": 5,
   "metadata": {},
   "outputs": [
    {
     "data": {
      "text/html": [
       "288"
      ],
      "text/latex": [
       "288"
      ],
      "text/markdown": [
       "288"
      ],
      "text/plain": [
       "[1] 288"
      ]
     },
     "metadata": {},
     "output_type": "display_data"
    },
    {
     "data": {
      "text/html": [
       "288"
      ],
      "text/latex": [
       "288"
      ],
      "text/markdown": [
       "288"
      ],
      "text/plain": [
       "[1] 288"
      ]
     },
     "metadata": {},
     "output_type": "display_data"
    }
   ],
   "source": [
    "#Check number of unique variables within cell lines\n",
    "\n",
    "n_distinct(rawPharmacoData$cellLine)\n",
    "n_distinct(summarizedData$cellLine)"
   ]
  },
  {
   "cell_type": "code",
   "execution_count": 6,
   "metadata": {},
   "outputs": [],
   "source": [
    "#2. What drug concentrations were used in each study?"
   ]
  },
  {
   "cell_type": "code",
   "execution_count": 7,
   "metadata": {},
   "outputs": [
    {
     "data": {
      "text/html": [
       "<table>\n",
       "<thead><tr><th scope=col>concentration</th><th scope=col>study</th><th scope=col>n</th></tr></thead>\n",
       "<tbody>\n",
       "\t<tr><td>4.000000e-04</td><td>GDSC        </td><td>  89        </td></tr>\n",
       "\t<tr><td>8.000000e-04</td><td>GDSC        </td><td>  89        </td></tr>\n",
       "\t<tr><td>9.765625e-04</td><td>GDSC        </td><td> 261        </td></tr>\n",
       "\t<tr><td>1.600000e-03</td><td>GDSC        </td><td>  89        </td></tr>\n",
       "\t<tr><td>1.953125e-03</td><td>GDSC        </td><td> 261        </td></tr>\n",
       "\t<tr><td>2.500000e-03</td><td>CCLE        </td><td>2530        </td></tr>\n",
       "\t<tr><td>3.200000e-03</td><td>GDSC        </td><td>  89        </td></tr>\n",
       "\t<tr><td>3.906250e-03</td><td>GDSC        </td><td> 545        </td></tr>\n",
       "\t<tr><td>6.400000e-03</td><td>GDSC        </td><td>  89        </td></tr>\n",
       "\t<tr><td>7.812500e-03</td><td>GDSC        </td><td>1385        </td></tr>\n",
       "\t<tr><td>8.000000e-03</td><td>CCLE        </td><td>2543        </td></tr>\n",
       "\t<tr><td>1.280000e-02</td><td>GDSC        </td><td>  89        </td></tr>\n",
       "\t<tr><td>1.562500e-02</td><td>GDSC        </td><td>1952        </td></tr>\n",
       "\t<tr><td>2.500000e-02</td><td>CCLE        </td><td>2557        </td></tr>\n",
       "\t<tr><td>2.560000e-02</td><td>GDSC        </td><td>  89        </td></tr>\n",
       "\t<tr><td>3.125000e-02</td><td>GDSC        </td><td>2188        </td></tr>\n",
       "\t<tr><td>3.906250e-02</td><td>GDSC        </td><td> 280        </td></tr>\n",
       "\t<tr><td>5.120000e-02</td><td>GDSC        </td><td>  89        </td></tr>\n",
       "\t<tr><td>6.250000e-02</td><td>GDSC        </td><td>2188        </td></tr>\n",
       "\t<tr><td>7.812500e-02</td><td>GDSC        </td><td> 280        </td></tr>\n",
       "\t<tr><td>8.000000e-02</td><td>CCLE        </td><td>2557        </td></tr>\n",
       "\t<tr><td>1.024000e-01</td><td>GDSC        </td><td>  89        </td></tr>\n",
       "\t<tr><td>1.250000e-01</td><td>GDSC        </td><td>2188        </td></tr>\n",
       "\t<tr><td>1.562500e-01</td><td>GDSC        </td><td> 280        </td></tr>\n",
       "\t<tr><td>2.500000e-01</td><td>CCLE        </td><td>2557        </td></tr>\n",
       "\t<tr><td>2.500000e-01</td><td>GDSC        </td><td>2188        </td></tr>\n",
       "\t<tr><td>3.125000e-01</td><td>GDSC        </td><td> 280        </td></tr>\n",
       "\t<tr><td>5.000000e-01</td><td>GDSC        </td><td>1927        </td></tr>\n",
       "\t<tr><td>6.250000e-01</td><td>GDSC        </td><td> 280        </td></tr>\n",
       "\t<tr><td>8.000000e-01</td><td>CCLE        </td><td>2557        </td></tr>\n",
       "\t<tr><td>1.000000e+00</td><td>GDSC        </td><td>1927        </td></tr>\n",
       "\t<tr><td>1.250000e+00</td><td>GDSC        </td><td> 280        </td></tr>\n",
       "\t<tr><td>2.000000e+00</td><td>GDSC        </td><td>1643        </td></tr>\n",
       "\t<tr><td>2.500000e+00</td><td>GDSC        </td><td> 280        </td></tr>\n",
       "\t<tr><td>2.530000e+00</td><td>CCLE        </td><td>2557        </td></tr>\n",
       "\t<tr><td>4.000000e+00</td><td>GDSC        </td><td> 803        </td></tr>\n",
       "\t<tr><td>5.000000e+00</td><td>GDSC        </td><td> 280        </td></tr>\n",
       "\t<tr><td>8.000000e+00</td><td>CCLE        </td><td>2556        </td></tr>\n",
       "\t<tr><td>8.000000e+00</td><td>GDSC        </td><td> 236        </td></tr>\n",
       "\t<tr><td>1.000000e+01</td><td>GDSC        </td><td> 280        </td></tr>\n",
       "</tbody>\n",
       "</table>\n"
      ],
      "text/latex": [
       "\\begin{tabular}{r|lll}\n",
       " concentration & study & n\\\\\n",
       "\\hline\n",
       "\t 4.000000e-04 & GDSC         &   89        \\\\\n",
       "\t 8.000000e-04 & GDSC         &   89        \\\\\n",
       "\t 9.765625e-04 & GDSC         &  261        \\\\\n",
       "\t 1.600000e-03 & GDSC         &   89        \\\\\n",
       "\t 1.953125e-03 & GDSC         &  261        \\\\\n",
       "\t 2.500000e-03 & CCLE         & 2530        \\\\\n",
       "\t 3.200000e-03 & GDSC         &   89        \\\\\n",
       "\t 3.906250e-03 & GDSC         &  545        \\\\\n",
       "\t 6.400000e-03 & GDSC         &   89        \\\\\n",
       "\t 7.812500e-03 & GDSC         & 1385        \\\\\n",
       "\t 8.000000e-03 & CCLE         & 2543        \\\\\n",
       "\t 1.280000e-02 & GDSC         &   89        \\\\\n",
       "\t 1.562500e-02 & GDSC         & 1952        \\\\\n",
       "\t 2.500000e-02 & CCLE         & 2557        \\\\\n",
       "\t 2.560000e-02 & GDSC         &   89        \\\\\n",
       "\t 3.125000e-02 & GDSC         & 2188        \\\\\n",
       "\t 3.906250e-02 & GDSC         &  280        \\\\\n",
       "\t 5.120000e-02 & GDSC         &   89        \\\\\n",
       "\t 6.250000e-02 & GDSC         & 2188        \\\\\n",
       "\t 7.812500e-02 & GDSC         &  280        \\\\\n",
       "\t 8.000000e-02 & CCLE         & 2557        \\\\\n",
       "\t 1.024000e-01 & GDSC         &   89        \\\\\n",
       "\t 1.250000e-01 & GDSC         & 2188        \\\\\n",
       "\t 1.562500e-01 & GDSC         &  280        \\\\\n",
       "\t 2.500000e-01 & CCLE         & 2557        \\\\\n",
       "\t 2.500000e-01 & GDSC         & 2188        \\\\\n",
       "\t 3.125000e-01 & GDSC         &  280        \\\\\n",
       "\t 5.000000e-01 & GDSC         & 1927        \\\\\n",
       "\t 6.250000e-01 & GDSC         &  280        \\\\\n",
       "\t 8.000000e-01 & CCLE         & 2557        \\\\\n",
       "\t 1.000000e+00 & GDSC         & 1927        \\\\\n",
       "\t 1.250000e+00 & GDSC         &  280        \\\\\n",
       "\t 2.000000e+00 & GDSC         & 1643        \\\\\n",
       "\t 2.500000e+00 & GDSC         &  280        \\\\\n",
       "\t 2.530000e+00 & CCLE         & 2557        \\\\\n",
       "\t 4.000000e+00 & GDSC         &  803        \\\\\n",
       "\t 5.000000e+00 & GDSC         &  280        \\\\\n",
       "\t 8.000000e+00 & CCLE         & 2556        \\\\\n",
       "\t 8.000000e+00 & GDSC         &  236        \\\\\n",
       "\t 1.000000e+01 & GDSC         &  280        \\\\\n",
       "\\end{tabular}\n"
      ],
      "text/markdown": [
       "\n",
       "concentration | study | n | \n",
       "|---|---|---|---|---|---|---|---|---|---|---|---|---|---|---|---|---|---|---|---|---|---|---|---|---|---|---|---|---|---|---|---|---|---|---|---|---|---|---|---|\n",
       "| 4.000000e-04 | GDSC         |   89         | \n",
       "| 8.000000e-04 | GDSC         |   89         | \n",
       "| 9.765625e-04 | GDSC         |  261         | \n",
       "| 1.600000e-03 | GDSC         |   89         | \n",
       "| 1.953125e-03 | GDSC         |  261         | \n",
       "| 2.500000e-03 | CCLE         | 2530         | \n",
       "| 3.200000e-03 | GDSC         |   89         | \n",
       "| 3.906250e-03 | GDSC         |  545         | \n",
       "| 6.400000e-03 | GDSC         |   89         | \n",
       "| 7.812500e-03 | GDSC         | 1385         | \n",
       "| 8.000000e-03 | CCLE         | 2543         | \n",
       "| 1.280000e-02 | GDSC         |   89         | \n",
       "| 1.562500e-02 | GDSC         | 1952         | \n",
       "| 2.500000e-02 | CCLE         | 2557         | \n",
       "| 2.560000e-02 | GDSC         |   89         | \n",
       "| 3.125000e-02 | GDSC         | 2188         | \n",
       "| 3.906250e-02 | GDSC         |  280         | \n",
       "| 5.120000e-02 | GDSC         |   89         | \n",
       "| 6.250000e-02 | GDSC         | 2188         | \n",
       "| 7.812500e-02 | GDSC         |  280         | \n",
       "| 8.000000e-02 | CCLE         | 2557         | \n",
       "| 1.024000e-01 | GDSC         |   89         | \n",
       "| 1.250000e-01 | GDSC         | 2188         | \n",
       "| 1.562500e-01 | GDSC         |  280         | \n",
       "| 2.500000e-01 | CCLE         | 2557         | \n",
       "| 2.500000e-01 | GDSC         | 2188         | \n",
       "| 3.125000e-01 | GDSC         |  280         | \n",
       "| 5.000000e-01 | GDSC         | 1927         | \n",
       "| 6.250000e-01 | GDSC         |  280         | \n",
       "| 8.000000e-01 | CCLE         | 2557         | \n",
       "| 1.000000e+00 | GDSC         | 1927         | \n",
       "| 1.250000e+00 | GDSC         |  280         | \n",
       "| 2.000000e+00 | GDSC         | 1643         | \n",
       "| 2.500000e+00 | GDSC         |  280         | \n",
       "| 2.530000e+00 | CCLE         | 2557         | \n",
       "| 4.000000e+00 | GDSC         |  803         | \n",
       "| 5.000000e+00 | GDSC         |  280         | \n",
       "| 8.000000e+00 | CCLE         | 2556         | \n",
       "| 8.000000e+00 | GDSC         |  236         | \n",
       "| 1.000000e+01 | GDSC         |  280         | \n",
       "\n",
       "\n"
      ],
      "text/plain": [
       "   concentration study n   \n",
       "1  4.000000e-04  GDSC    89\n",
       "2  8.000000e-04  GDSC    89\n",
       "3  9.765625e-04  GDSC   261\n",
       "4  1.600000e-03  GDSC    89\n",
       "5  1.953125e-03  GDSC   261\n",
       "6  2.500000e-03  CCLE  2530\n",
       "7  3.200000e-03  GDSC    89\n",
       "8  3.906250e-03  GDSC   545\n",
       "9  6.400000e-03  GDSC    89\n",
       "10 7.812500e-03  GDSC  1385\n",
       "11 8.000000e-03  CCLE  2543\n",
       "12 1.280000e-02  GDSC    89\n",
       "13 1.562500e-02  GDSC  1952\n",
       "14 2.500000e-02  CCLE  2557\n",
       "15 2.560000e-02  GDSC    89\n",
       "16 3.125000e-02  GDSC  2188\n",
       "17 3.906250e-02  GDSC   280\n",
       "18 5.120000e-02  GDSC    89\n",
       "19 6.250000e-02  GDSC  2188\n",
       "20 7.812500e-02  GDSC   280\n",
       "21 8.000000e-02  CCLE  2557\n",
       "22 1.024000e-01  GDSC    89\n",
       "23 1.250000e-01  GDSC  2188\n",
       "24 1.562500e-01  GDSC   280\n",
       "25 2.500000e-01  CCLE  2557\n",
       "26 2.500000e-01  GDSC  2188\n",
       "27 3.125000e-01  GDSC   280\n",
       "28 5.000000e-01  GDSC  1927\n",
       "29 6.250000e-01  GDSC   280\n",
       "30 8.000000e-01  CCLE  2557\n",
       "31 1.000000e+00  GDSC  1927\n",
       "32 1.250000e+00  GDSC   280\n",
       "33 2.000000e+00  GDSC  1643\n",
       "34 2.500000e+00  GDSC   280\n",
       "35 2.530000e+00  CCLE  2557\n",
       "36 4.000000e+00  GDSC   803\n",
       "37 5.000000e+00  GDSC   280\n",
       "38 8.000000e+00  CCLE  2556\n",
       "39 8.000000e+00  GDSC   236\n",
       "40 1.000000e+01  GDSC   280"
      ]
     },
     "metadata": {},
     "output_type": "display_data"
    }
   ],
   "source": [
    "rawPharmacoData %>%\n",
    "  group_by(concentration) %>%\n",
    "  count(study)"
   ]
  },
  {
   "cell_type": "markdown",
   "metadata": {},
   "source": [
    "3. Histograms, appart from telling how is the data\n",
    "distributed, can also make evident potential\n",
    "problems with the data. Plot a histogram\n",
    "of drug viabilities. Does it look as one would\n",
    "expect from the description of the data?"
   ]
  },
  {
   "cell_type": "code",
   "execution_count": 8,
   "metadata": {},
   "outputs": [
    {
     "name": "stderr",
     "output_type": "stream",
     "text": [
      "`stat_bin()` using `bins = 30`. Pick better value with `binwidth`.\n"
     ]
    },
    {
     "data": {},
     "metadata": {},
     "output_type": "display_data"
    },
    {
     "data": {
      "image/png": "[encoded data removed]",
      "text/plain": [
       "plot without title"
      ]
     },
     "metadata": {},
     "output_type": "display_data"
    }
   ],
   "source": [
    "ggplot(rawPharmacoData, aes(x = viability)) +\n",
    "  geom_histogram() +\n",
    "  facet_wrap(~drug)"
   ]
  },
  {
   "cell_type": "markdown",
   "metadata": {},
   "source": [
    "4. How many viability data points are within the\n",
    "expected range according to the definition of viability (e.g. above 0  and below 100)? Try to come up with explanations about the values that are out of range. Are these due to technical issues? Biology?\n",
    "```{r}```"
   ]
  },
  {
   "cell_type": "code",
   "execution_count": 9,
   "metadata": {},
   "outputs": [
    {
     "data": {
      "text/html": [
       "<table>\n",
       "<thead><tr><th scope=col>viability &gt; 0 &amp; viability &lt; 100</th><th scope=col>n</th></tr></thead>\n",
       "<tbody>\n",
       "\t<tr><td>FALSE</td><td>15816</td></tr>\n",
       "\t<tr><td> TRUE</td><td>27611</td></tr>\n",
       "</tbody>\n",
       "</table>\n"
      ],
      "text/latex": [
       "\\begin{tabular}{r|ll}\n",
       " viability > 0 \\& viability < 100 & n\\\\\n",
       "\\hline\n",
       "\t FALSE & 15816\\\\\n",
       "\t  TRUE & 27611\\\\\n",
       "\\end{tabular}\n"
      ],
      "text/markdown": [
       "\n",
       "viability > 0 & viability < 100 | n | \n",
       "|---|---|\n",
       "| FALSE | 15816 | \n",
       "|  TRUE | 27611 | \n",
       "\n",
       "\n"
      ],
      "text/plain": [
       "  viability > 0 & viability < 100 n    \n",
       "1 FALSE                           15816\n",
       "2  TRUE                           27611"
      ]
     },
     "metadata": {},
     "output_type": "display_data"
    }
   ],
   "source": [
    "rawPharmacoData %>%\n",
    "  count(viability > 0 & viability < 100)"
   ]
  },
  {
   "cell_type": "markdown",
   "metadata": {},
   "source": [
    "> In these studies viability was measured in the relative number of cells that survive after drug exposure. Values above 100% could be explained by cell proliferation or by data entry errors."
   ]
  },
  {
   "cell_type": "markdown",
   "metadata": {},
   "source": [
    "\n",
    "\n",
    "\n",
    "\n",
    "\n",
    "5. Read the csv file containing the summarized data files. What kind\n",
    "of variables are in the data? What does each column represents?\n",
    "```{r}"
   ]
  },
  {
   "cell_type": "code",
   "execution_count": 10,
   "metadata": {},
   "outputs": [
    {
     "name": "stdout",
     "output_type": "stream",
     "text": [
      "Observations: 2,557\n",
      "Variables: 6\n",
      "$ cellLine  <chr> \"22RV1\", \"5637\", \"639-V\", \"697\", \"769-P\", \"786-0\", \"8305C\",…\n",
      "$ drug      <chr> \"Nilotinib\", \"Nilotinib\", \"Nilotinib\", \"Nilotinib\", \"Niloti…\n",
      "$ ic50_CCLE <dbl> 8.000000, 7.475355, 8.000000, 1.910434, 8.000000, 8.000000,…\n",
      "$ auc_CCLE  <dbl> 0.0000000, 0.0072625, 0.0710125, 0.1573375, 0.0000000, 0.07…\n",
      "$ ic50_GDSC <dbl> 155.269917, 219.934550, 92.177125, 3.063552, 19.633514, 137…\n",
      "$ auc_GDSC  <dbl> 0.003935, 0.003616, 0.007622, 0.069265, 0.028758, 0.005482,…\n"
     ]
    }
   ],
   "source": [
    "glimpse(summarizedData)"
   ]
  },
  {
   "cell_type": "markdown",
   "metadata": {},
   "source": [
    "> There are categorical and numeric variables. The CellLine column represents the cell line used in the experiment. Drug represents which drug was used. ic50 represents the drug concentration at which viability(survival of cells) reaches 50%. ic50_CCLE represents the ic50 for a given CCLE experiment. ic50_GDSC represents the ic50 for a given GDSC experiment. auc is the area under the curve, the curve referred to in this case is the dose response curve built for each drug, cell line, and study combination. auc_CCLE is the auc for a given CCLE experiment. auc_GDSC is the auc for a given GDSC experiment."
   ]
  },
  {
   "cell_type": "markdown",
   "metadata": {},
   "source": [
    "\n",
    "```\n",
    "\n",
    "\n",
    "6. Plot a histogram of the viability scores as a function of the drug doses. Are stronger drug concentrations consistent with lower viability scores?\n",
    "```{r}"
   ]
  },
  {
   "cell_type": "code",
   "execution_count": 11,
   "metadata": {},
   "outputs": [
    {
     "name": "stderr",
     "output_type": "stream",
     "text": [
      "`stat_bin()` using `bins = 30`. Pick better value with `binwidth`.\n"
     ]
    },
    {
     "data": {},
     "metadata": {},
     "output_type": "display_data"
    },
    {
     "data": {
      "image/png": "[encoded data removed]",
      "text/plain": [
       "plot without title"
      ]
     },
     "metadata": {},
     "output_type": "display_data"
    }
   ],
   "source": [
    "summarizedData %>%\n",
    "    gather(measure, value, -cellLine, -drug) %>%\n",
    "    separate(measure, c('measure','study'), sep = '_') %>%\n",
    "    filter(measure == 'ic50') %>%\n",
    "ggplot(aes(x = value)) +\n",
    "  geom_histogram() +\n",
    "  facet_wrap(.~study, scales = 'free_x') +\n",
    "labs(x = \"Drug Concentration\")"
   ]
  },
  {
   "cell_type": "markdown",
   "metadata": {},
   "source": [
    "> Data from the CCLE study makes it seem like yes, the higher the concentration, the lower the viability values. This is not true for the GDSC data, however, the histogram is representing much higher doses than the CCLE experiment."
   ]
  },
  {
   "cell_type": "markdown",
   "metadata": {},
   "source": [
    "\n",
    "\n",
    "\n",
    "```\n",
    "\n",
    "\n",
    "### Using Correlation Measures to Assess Replicability of Drug Response Studies\n",
    "\n",
    "1. Create a scatterplot for each drug comparing the AUC in GDSC and CCLE for all cell lines (hint: code from Tutorial 2 may help).\n",
    "```{r}"
   ]
  },
  {
   "cell_type": "code",
   "execution_count": 12,
   "metadata": {},
   "outputs": [
    {
     "data": {},
     "metadata": {},
     "output_type": "display_data"
    },
    {
     "data": {
      "image/png": "[encoded data removed]",
      "text/plain": [
       "plot without title"
      ]
     },
     "metadata": {},
     "output_type": "display_data"
    }
   ],
   "source": [
    "ggplot(summarizedData, aes(x = auc_GDSC, y = auc_CCLE)) +\n",
    "  geom_jitter()+\n",
    "  geom_smooth(method = 'lm', se = FALSE) +\n",
    "  xlab(\"GDSC AUC\") +\n",
    "  ylab(\"CCLE AUC\") +\n",
    "  facet_wrap(.~drug)"
   ]
  },
  {
   "cell_type": "markdown",
   "metadata": {},
   "source": [
    "2. Calculate correlation coefficients of the AUC in GDSC and CCLE for each drug (hint: code from Tutorial 2 may help). "
   ]
  },
  {
   "cell_type": "code",
   "execution_count": 13,
   "metadata": {},
   "outputs": [
    {
     "data": {},
     "metadata": {},
     "output_type": "display_data"
    },
    {
     "data": {
      "image/png": "[encoded data removed]",
      "text/plain": [
       "plot without title"
      ]
     },
     "metadata": {},
     "output_type": "display_data"
    }
   ],
   "source": [
    "#Calculating both \"Pearson\" and \"Spearman\" correlations \n",
    "drugCorrs <- summarizedData %>% \n",
    "    group_by(drug) %>% \n",
    "    summarise(\n",
    "        Pearson_ic50=cor(-log10(ic50_GDSC/10^6),-log10(ic50_CCLE/10^6), method=\"pearson\"),\n",
    "        Spearman_ic50=cor(-log10(ic50_GDSC/10^6),-log10(ic50_CCLE/10^6), method=\"spearman\"),\n",
    "        Pearson_auc=cor(auc_GDSC,auc_CCLE, method=\"pearson\"),\n",
    "        Spearman_auc=cor(auc_GDSC,auc_CCLE, method=\"spearman\")) %>%\n",
    "    gather(measure, correlation, -drug) %>%\n",
    "    separate(measure, c('method', 'measure'), sep = '_')\n",
    "\n",
    "#Plotting correlation results \n",
    "drugCorrs %>% \n",
    "ggplot(aes(x=drug, y=correlation, fill=method, group=method)) +\n",
    "    geom_bar(stat=\"identity\", position=position_dodge(), colour=\"black\") + \n",
    "    facet_grid(.~measure) +\n",
    "    theme(axis.text.x = element_text(angle = 45, hjust = 1)) +\n",
    "    scale_fill_grey()"
   ]
  },
  {
   "cell_type": "code",
   "execution_count": 14,
   "metadata": {},
   "outputs": [
    {
     "data": {
      "text/html": [
       "<table>\n",
       "<thead><tr><th scope=col>method</th><th scope=col>measure</th><th scope=col>mean(correlation)</th></tr></thead>\n",
       "<tbody>\n",
       "\t<tr><td>Pearson  </td><td>auc      </td><td>0.4691744</td></tr>\n",
       "\t<tr><td>Pearson  </td><td>ic50     </td><td>0.3469128</td></tr>\n",
       "\t<tr><td>Spearman </td><td>auc      </td><td>0.3448531</td></tr>\n",
       "\t<tr><td>Spearman </td><td>ic50     </td><td>0.2782506</td></tr>\n",
       "</tbody>\n",
       "</table>\n"
      ],
      "text/latex": [
       "\\begin{tabular}{r|lll}\n",
       " method & measure & mean(correlation)\\\\\n",
       "\\hline\n",
       "\t Pearson   & auc       & 0.4691744\\\\\n",
       "\t Pearson   & ic50      & 0.3469128\\\\\n",
       "\t Spearman  & auc       & 0.3448531\\\\\n",
       "\t Spearman  & ic50      & 0.2782506\\\\\n",
       "\\end{tabular}\n"
      ],
      "text/markdown": [
       "\n",
       "method | measure | mean(correlation) | \n",
       "|---|---|---|---|\n",
       "| Pearson   | auc       | 0.4691744 | \n",
       "| Pearson   | ic50      | 0.3469128 | \n",
       "| Spearman  | auc       | 0.3448531 | \n",
       "| Spearman  | ic50      | 0.2782506 | \n",
       "\n",
       "\n"
      ],
      "text/plain": [
       "  method   measure mean(correlation)\n",
       "1 Pearson  auc     0.4691744        \n",
       "2 Pearson  ic50    0.3469128        \n",
       "3 Spearman auc     0.3448531        \n",
       "4 Spearman ic50    0.2782506        "
      ]
     },
     "metadata": {},
     "output_type": "display_data"
    }
   ],
   "source": [
    "drugCorrs %>%\n",
    "    group_by(method,measure) %>%\n",
    "    summarise(mean(correlation))"
   ]
  },
  {
   "cell_type": "markdown",
   "metadata": {},
   "source": [
    "3. Based on the scatterplot and correlation values, would you say that they tend to agree? Why or why not?"
   ]
  },
  {
   "cell_type": "markdown",
   "metadata": {},
   "source": [
    "> By visually inspecting the plots, I would say both studies don't tend to agree. Most of the data is concentrated in a single spot and seems to have no pattern aside from some outliers that are sqewing the trend lines. Furthermore, the correlation values don't go over 0.5 meaning there is marginal agreement between the studies. Thus, I would say both analyses tend to agree. "
   ]
  },
  {
   "cell_type": "markdown",
   "metadata": {},
   "source": [
    "4. Does the AUC or IC50 suggest more agreement between the studies? "
   ]
  },
  {
   "cell_type": "markdown",
   "metadata": {},
   "source": [
    "> According to the correlation values, AUC suggests more agreement between the studies."
   ]
  },
  {
   "cell_type": "markdown",
   "metadata": {},
   "source": [
    "5. Which drug do you think shows the most consistency between the studies? How about the least? "
   ]
  },
  {
   "cell_type": "code",
   "execution_count": 15,
   "metadata": {},
   "outputs": [
    {
     "data": {
      "text/html": [
       "<table>\n",
       "<thead><tr><th scope=col>drug</th><th scope=col>method</th><th scope=col>measure</th><th scope=col>correlation</th></tr></thead>\n",
       "<tbody>\n",
       "\t<tr><td>Nilotinib </td><td>Pearson   </td><td>auc       </td><td>0.7720569 </td></tr>\n",
       "\t<tr><td>PD-0325901</td><td>Spearman  </td><td>auc       </td><td>0.6067146 </td></tr>\n",
       "</tbody>\n",
       "</table>\n"
      ],
      "text/latex": [
       "\\begin{tabular}{r|llll}\n",
       " drug & method & measure & correlation\\\\\n",
       "\\hline\n",
       "\t Nilotinib  & Pearson    & auc        & 0.7720569 \\\\\n",
       "\t PD-0325901 & Spearman   & auc        & 0.6067146 \\\\\n",
       "\\end{tabular}\n"
      ],
      "text/markdown": [
       "\n",
       "drug | method | measure | correlation | \n",
       "|---|---|\n",
       "| Nilotinib  | Pearson    | auc        | 0.7720569  | \n",
       "| PD-0325901 | Spearman   | auc        | 0.6067146  | \n",
       "\n",
       "\n"
      ],
      "text/plain": [
       "  drug       method   measure correlation\n",
       "1 Nilotinib  Pearson  auc     0.7720569  \n",
       "2 PD-0325901 Spearman auc     0.6067146  "
      ]
     },
     "metadata": {},
     "output_type": "display_data"
    },
    {
     "data": {
      "text/html": [
       "<table>\n",
       "<thead><tr><th scope=col>drug</th><th scope=col>method</th><th scope=col>measure</th><th scope=col>correlation</th></tr></thead>\n",
       "<tbody>\n",
       "\t<tr><td>PHA-665752  </td><td>Spearman    </td><td>auc         </td><td>-0.001375766</td></tr>\n",
       "\t<tr><td>Nilotinib   </td><td>Spearman    </td><td>auc         </td><td> 0.147075571</td></tr>\n",
       "\t<tr><td>PHA-665752  </td><td>Pearson     </td><td>auc         </td><td> 0.163964424</td></tr>\n",
       "\t<tr><td>Crizotinib  </td><td>Spearman    </td><td>auc         </td><td> 0.166548923</td></tr>\n",
       "\t<tr><td>Nutlin-3    </td><td>Spearman    </td><td>auc         </td><td> 0.268779285</td></tr>\n",
       "</tbody>\n",
       "</table>\n"
      ],
      "text/latex": [
       "\\begin{tabular}{r|llll}\n",
       " drug & method & measure & correlation\\\\\n",
       "\\hline\n",
       "\t PHA-665752   & Spearman     & auc          & -0.001375766\\\\\n",
       "\t Nilotinib    & Spearman     & auc          &  0.147075571\\\\\n",
       "\t PHA-665752   & Pearson      & auc          &  0.163964424\\\\\n",
       "\t Crizotinib   & Spearman     & auc          &  0.166548923\\\\\n",
       "\t Nutlin-3     & Spearman     & auc          &  0.268779285\\\\\n",
       "\\end{tabular}\n"
      ],
      "text/markdown": [
       "\n",
       "drug | method | measure | correlation | \n",
       "|---|---|---|---|---|\n",
       "| PHA-665752   | Spearman     | auc          | -0.001375766 | \n",
       "| Nilotinib    | Spearman     | auc          |  0.147075571 | \n",
       "| PHA-665752   | Pearson      | auc          |  0.163964424 | \n",
       "| Crizotinib   | Spearman     | auc          |  0.166548923 | \n",
       "| Nutlin-3     | Spearman     | auc          |  0.268779285 | \n",
       "\n",
       "\n"
      ],
      "text/plain": [
       "  drug       method   measure correlation \n",
       "1 PHA-665752 Spearman auc     -0.001375766\n",
       "2 Nilotinib  Spearman auc      0.147075571\n",
       "3 PHA-665752 Pearson  auc      0.163964424\n",
       "4 Crizotinib Spearman auc      0.166548923\n",
       "5 Nutlin-3   Spearman auc      0.268779285"
      ]
     },
     "metadata": {},
     "output_type": "display_data"
    }
   ],
   "source": [
    "#Drug with the most consistency between studies\n",
    "drugCorrs %>%\n",
    "    group_by(method) %>%\n",
    "    filter(correlation == max(correlation), measure == 'auc')\n",
    "\n",
    "#Drug with the least consistency between studies\n",
    "drugCorrs %>%\n",
    "    filter(measure == 'auc') %>%\n",
    "    arrange(correlation) %>%\n",
    "    head(n = 5)"
   ]
  },
  {
   "cell_type": "markdown",
   "metadata": {},
   "source": [
    "> Since AUC shows greater agreement between studies, we'll use it to choose which are the drugs with the highest and lowerst consistency between studies. 'PHA-665752' has the correlation score that is closest to zero, making it the drug with the least consistency between studies. We selected 'PD-0325901' as the drug with the most consistency because Spearman correlation is more robust to outliers which the drug 'Nilotinib' has."
   ]
  },
  {
   "cell_type": "markdown",
   "metadata": {},
   "source": [
    "6. If you calculated more than one type of correlation coefficient (for example Pearson and Spearman), how do they differ? Which do you think is a better summary of the consistency between the two studies?"
   ]
  },
  {
   "cell_type": "markdown",
   "metadata": {},
   "source": [
    "> A Pearson correlation will test if the data follows a straight line. On the other hand, a Spearman correlation tests if an increase or decrease of one variable causes and increase or decrease of the other but, not necessarily in a straight line. Since the studies used different concentrations and steps in between the concentrations, they may have many outliers. Thus, a Spearman correlation should be used since it's more robust to outliers. "
   ]
  },
  {
   "cell_type": "markdown",
   "metadata": {},
   "source": [
    " 7. We have explored Pearson and Spearman correlation, but what about other correlation measures? For example, you could try out distance correlation, which is sensitive to nonlinear relationships. You can find this measure in the `energy` R package, which you'll need to install and load with the following commands:"
   ]
  },
  {
   "cell_type": "code",
   "execution_count": 16,
   "metadata": {},
   "outputs": [
    {
     "name": "stderr",
     "output_type": "stream",
     "text": [
      "Loading required package: energy\n"
     ]
    }
   ],
   "source": [
    "require(energy)"
   ]
  },
  {
   "cell_type": "markdown",
   "metadata": {},
   "source": [
    "Then, you can compute distance correlation with the `dcor()` function. How does this correlation measure compare to Pearson and Spearman? Do your conclusions about the agreement between the two studies change at all using this measure?"
   ]
  },
  {
   "cell_type": "code",
   "execution_count": 17,
   "metadata": {},
   "outputs": [
    {
     "data": {},
     "metadata": {},
     "output_type": "display_data"
    },
    {
     "data": {
      "image/png": "[encoded data removed]",
      "text/plain": [
       "plot without title"
      ]
     },
     "metadata": {},
     "output_type": "display_data"
    }
   ],
   "source": [
    "#Adding dcor to our corralations\n",
    "drugCorrs <- summarizedData %>% \n",
    "    group_by(drug) %>% \n",
    "    summarise(\n",
    "        Pearson_ic50=cor(-log10(ic50_GDSC/10^6),-log10(ic50_CCLE/10^6), method=\"pearson\"),\n",
    "        Spearman_ic50=cor(-log10(ic50_GDSC/10^6),-log10(ic50_CCLE/10^6), method=\"spearman\"),\n",
    "        dcor_ic50 = dcor(-log10(ic50_GDSC/10^6),-log10(ic50_CCLE/10^6)),\n",
    "        Pearson_auc=cor(auc_GDSC,auc_CCLE, method=\"pearson\"),\n",
    "        Spearman_auc=cor(auc_GDSC,auc_CCLE, method=\"spearman\"),\n",
    "        dcor_auc = dcor(auc_GDSC,auc_CCLE)) %>%\n",
    "    gather(measure, correlation, -drug) %>%\n",
    "    separate(measure, c('method', 'measure'), sep = '_')\n",
    "\n",
    "#Plotting correlation results \n",
    "drugCorrs %>% \n",
    "ggplot(aes(x=drug, y=correlation, fill=method, group=method)) +\n",
    "    geom_bar(stat=\"identity\", position=position_dodge(), colour=\"black\") + \n",
    "    facet_grid(.~measure) +\n",
    "    theme(axis.text.x = element_text(angle = 45, hjust = 1))"
   ]
  },
  {
   "cell_type": "code",
   "execution_count": 18,
   "metadata": {},
   "outputs": [
    {
     "data": {
      "text/html": [
       "<table>\n",
       "<thead><tr><th scope=col>method</th><th scope=col>measure</th><th scope=col>mean(correlation)</th></tr></thead>\n",
       "<tbody>\n",
       "\t<tr><td>Pearson  </td><td>auc      </td><td>0.4691744</td></tr>\n",
       "\t<tr><td>Pearson  </td><td>ic50     </td><td>0.3469128</td></tr>\n",
       "\t<tr><td>Spearman </td><td>auc      </td><td>0.3448531</td></tr>\n",
       "\t<tr><td>Spearman </td><td>ic50     </td><td>0.2782506</td></tr>\n",
       "\t<tr><td>dcor     </td><td>auc      </td><td>0.4474683</td></tr>\n",
       "\t<tr><td>dcor     </td><td>ic50     </td><td>0.3498877</td></tr>\n",
       "</tbody>\n",
       "</table>\n"
      ],
      "text/latex": [
       "\\begin{tabular}{r|lll}\n",
       " method & measure & mean(correlation)\\\\\n",
       "\\hline\n",
       "\t Pearson   & auc       & 0.4691744\\\\\n",
       "\t Pearson   & ic50      & 0.3469128\\\\\n",
       "\t Spearman  & auc       & 0.3448531\\\\\n",
       "\t Spearman  & ic50      & 0.2782506\\\\\n",
       "\t dcor      & auc       & 0.4474683\\\\\n",
       "\t dcor      & ic50      & 0.3498877\\\\\n",
       "\\end{tabular}\n"
      ],
      "text/markdown": [
       "\n",
       "method | measure | mean(correlation) | \n",
       "|---|---|---|---|---|---|\n",
       "| Pearson   | auc       | 0.4691744 | \n",
       "| Pearson   | ic50      | 0.3469128 | \n",
       "| Spearman  | auc       | 0.3448531 | \n",
       "| Spearman  | ic50      | 0.2782506 | \n",
       "| dcor      | auc       | 0.4474683 | \n",
       "| dcor      | ic50      | 0.3498877 | \n",
       "\n",
       "\n"
      ],
      "text/plain": [
       "  method   measure mean(correlation)\n",
       "1 Pearson  auc     0.4691744        \n",
       "2 Pearson  ic50    0.3469128        \n",
       "3 Spearman auc     0.3448531        \n",
       "4 Spearman ic50    0.2782506        \n",
       "5 dcor     auc     0.4474683        \n",
       "6 dcor     ic50    0.3498877        "
      ]
     },
     "metadata": {},
     "output_type": "display_data"
    }
   ],
   "source": [
    "drugCorrs %>%\n",
    "    group_by(method,measure) %>%\n",
    "    summarise(mean(correlation))"
   ]
  },
  {
   "cell_type": "markdown",
   "metadata": {},
   "source": [
    "> The correlation method applied by dcor gives results very similar to those of a Pearson correlation. In the grand scheme of things, my conclusions about the agreement between the studies doesn't change much, however, I would choose differently which specific drugs are viewed as the ones with the least and most agreement between the studies."
   ]
  },
  {
   "cell_type": "code",
   "execution_count": 19,
   "metadata": {},
   "outputs": [
    {
     "data": {},
     "metadata": {},
     "output_type": "display_data"
    },
    {
     "data": {
      "image/png": "[encoded data removed]",
      "text/plain": [
       "plot without title"
      ]
     },
     "metadata": {},
     "output_type": "display_data"
    }
   ],
   "source": [
    "\n",
    "ggplot(summarizedData, aes(x=auc_GDSC, y=auc_CCLE)) +\n",
    "  geom_jitter()+\n",
    "  facet_wrap(~drug)"
   ]
  },
  {
   "cell_type": "markdown",
   "metadata": {},
   "source": [
    "2. Calculate correlation coefficients of the AUC in GDSC and CCLE for each drug (hint: code from Tutorial 2 may help)."
   ]
  },
  {
   "cell_type": "code",
   "execution_count": 20,
   "metadata": {},
   "outputs": [
    {
     "data": {
      "text/html": [
       "'correlation coefficients:'"
      ],
      "text/latex": [
       "'correlation coefficients:'"
      ],
      "text/markdown": [
       "'correlation coefficients:'"
      ],
      "text/plain": [
       "[1] \"correlation coefficients:\""
      ]
     },
     "metadata": {},
     "output_type": "display_data"
    },
    {
     "data": {
      "text/html": [
       "<ol class=list-inline>\n",
       "\t<li>0.772056909362734</li>\n",
       "\t<li>0.555003021363467</li>\n",
       "\t<li>0.163964423679437</li>\n",
       "\t<li>0.592824765883207</li>\n",
       "\t<li>0.33684381700647</li>\n",
       "\t<li>0.514554578706888</li>\n",
       "\t<li>0.574912407466439</li>\n",
       "\t<li>0.300130024603921</li>\n",
       "\t<li>0.652836219132929</li>\n",
       "\t<li>0.339701834281457</li>\n",
       "\t<li>0.391652335406455</li>\n",
       "\t<li>0.411529611628114</li>\n",
       "\t<li>0.628069603411011</li>\n",
       "\t<li>0.456603706466474</li>\n",
       "\t<li>0.346932981407229</li>\n",
       "</ol>\n"
      ],
      "text/latex": [
       "\\begin{enumerate*}\n",
       "\\item 0.772056909362734\n",
       "\\item 0.555003021363467\n",
       "\\item 0.163964423679437\n",
       "\\item 0.592824765883207\n",
       "\\item 0.33684381700647\n",
       "\\item 0.514554578706888\n",
       "\\item 0.574912407466439\n",
       "\\item 0.300130024603921\n",
       "\\item 0.652836219132929\n",
       "\\item 0.339701834281457\n",
       "\\item 0.391652335406455\n",
       "\\item 0.411529611628114\n",
       "\\item 0.628069603411011\n",
       "\\item 0.456603706466474\n",
       "\\item 0.346932981407229\n",
       "\\end{enumerate*}\n"
      ],
      "text/markdown": [
       "1. 0.772056909362734\n",
       "2. 0.555003021363467\n",
       "3. 0.163964423679437\n",
       "4. 0.592824765883207\n",
       "5. 0.33684381700647\n",
       "6. 0.514554578706888\n",
       "7. 0.574912407466439\n",
       "8. 0.300130024603921\n",
       "9. 0.652836219132929\n",
       "10. 0.339701834281457\n",
       "11. 0.391652335406455\n",
       "12. 0.411529611628114\n",
       "13. 0.628069603411011\n",
       "14. 0.456603706466474\n",
       "15. 0.346932981407229\n",
       "\n",
       "\n"
      ],
      "text/plain": [
       " [1] 0.7720569 0.5550030 0.1639644 0.5928248 0.3368438 0.5145546 0.5749124\n",
       " [8] 0.3001300 0.6528362 0.3397018 0.3916523 0.4115296 0.6280696 0.4566037\n",
       "[15] 0.3469330"
      ]
     },
     "metadata": {},
     "output_type": "display_data"
    },
    {
     "data": {
      "text/html": [
       "'% with more than 0.5 correlation:'"
      ],
      "text/latex": [
       "'\\% with more than 0.5 correlation:'"
      ],
      "text/markdown": [
       "'% with more than 0.5 correlation:'"
      ],
      "text/plain": [
       "[1] \"% with more than 0.5 correlation:\""
      ]
     },
     "metadata": {},
     "output_type": "display_data"
    },
    {
     "data": {
      "text/html": [
       "0.466666666666667"
      ],
      "text/latex": [
       "0.466666666666667"
      ],
      "text/markdown": [
       "0.466666666666667"
      ],
      "text/plain": [
       "[1] 0.4666667"
      ]
     },
     "metadata": {},
     "output_type": "display_data"
    }
   ],
   "source": [
    "v1 = rep(0 , 0)\n",
    "df = subset(summarizedData, drug == 'Nilotinib' )\n",
    "v1 = append( v1 , cor(df$auc_CCLE,df$auc_GDSC))\n",
    "df = subset(summarizedData, drug == '17-AAG' )\n",
    "v1 = append( v1 , cor(df$auc_CCLE,df$auc_GDSC))\n",
    "df = subset(summarizedData, drug == 'PHA-665752' )\n",
    "v1 = append( v1 , cor(df$auc_CCLE,df$auc_GDSC))\n",
    "df = subset(summarizedData, drug == 'lapatinib' )\n",
    "v1 = append( v1 , cor(df$auc_CCLE,df$auc_GDSC))\n",
    "df = subset(summarizedData, drug == 'Nutlin-3' )\n",
    "v1 = append( v1 , cor(df$auc_CCLE,df$auc_GDSC))\n",
    "df = subset(summarizedData, drug == 'AZD0530' )\n",
    "v1 = append( v1 , cor(df$auc_CCLE,df$auc_GDSC))\n",
    "df = subset(summarizedData, drug == 'Crizotinib' )\n",
    "v1 = append( v1 , cor(df$auc_CCLE,df$auc_GDSC))\n",
    "df = subset(summarizedData, drug == 'Sorafenib' )\n",
    "v1 = append( v1 , cor(df$auc_CCLE,df$auc_GDSC))\n",
    "df = subset(summarizedData, drug == 'PD-0325901' )\n",
    "v1 = append( v1 , cor(df$auc_CCLE,df$auc_GDSC))\n",
    "df = subset(summarizedData, drug == 'PD-0332991' )\n",
    "v1 = append( v1 , cor(df$auc_CCLE,df$auc_GDSC))\n",
    "df = subset(summarizedData, drug == 'paclitaxel' )\n",
    "v1 = append( v1 , cor(df$auc_CCLE,df$auc_GDSC))\n",
    "df = subset(summarizedData, drug == 'AZD6244' )\n",
    "v1 = append( v1 , cor(df$auc_CCLE,df$auc_GDSC))\n",
    "df = subset(summarizedData, drug == 'PLX4720' )\n",
    "v1 = append( v1 , cor(df$auc_CCLE,df$auc_GDSC))\n",
    "df = subset(summarizedData, drug == 'TAE684' )\n",
    "v1 = append( v1 , cor(df$auc_CCLE,df$auc_GDSC))\n",
    "df = subset(summarizedData, drug == 'Erlotinib' )\n",
    "v1 = append( v1 , cor(df$auc_CCLE,df$auc_GDSC))\n",
    "'correlation coefficients:'\n",
    "v1\n",
    "'% with more than 0.5 correlation:'\n",
    "sum(v1 > 0.5)/length(v1)"
   ]
  },
  {
   "cell_type": "markdown",
   "metadata": {},
   "source": [
    "3. Based on the scatterplot and correlation values, would you say that they tend to agree? Why or why not?"
   ]
  },
  {
   "cell_type": "markdown",
   "metadata": {},
   "source": [
    "Less than half of the values show a linear correlation of above 0.5. If this would be taken at face value they tend to disagree"
   ]
  },
  {
   "cell_type": "markdown",
   "metadata": {},
   "source": [
    "4. Does the AUC or IC50 suggest more agreement between the studies? \n"
   ]
  },
  {
   "cell_type": "code",
   "execution_count": 21,
   "metadata": {},
   "outputs": [
    {
     "data": {
      "text/html": [
       "<table>\n",
       "<thead><tr><th scope=col>cellLine</th><th scope=col>drug</th><th scope=col>ic50_CCLE</th><th scope=col>auc_CCLE</th><th scope=col>ic50_GDSC</th><th scope=col>auc_GDSC</th></tr></thead>\n",
       "<tbody>\n",
       "\t<tr><td>22RV1     </td><td>Nilotinib </td><td>8.000000  </td><td>0.0000000 </td><td>155.269917</td><td>0.003935  </td></tr>\n",
       "\t<tr><td>5637      </td><td>Nilotinib </td><td>7.475355  </td><td>0.0072625 </td><td>219.934550</td><td>0.003616  </td></tr>\n",
       "\t<tr><td>639-V     </td><td>Nilotinib </td><td>8.000000  </td><td>0.0710125 </td><td> 92.177125</td><td>0.007622  </td></tr>\n",
       "\t<tr><td>697       </td><td>Nilotinib </td><td>1.910434  </td><td>0.1573375 </td><td>  3.063552</td><td>0.069265  </td></tr>\n",
       "\t<tr><td>769-P     </td><td>Nilotinib </td><td>8.000000  </td><td>0.0000000 </td><td> 19.633514</td><td>0.028758  </td></tr>\n",
       "\t<tr><td>786-0     </td><td>Nilotinib </td><td>8.000000  </td><td>0.0750125 </td><td>137.066882</td><td>0.005482  </td></tr>\n",
       "</tbody>\n",
       "</table>\n"
      ],
      "text/latex": [
       "\\begin{tabular}{r|llllll}\n",
       " cellLine & drug & ic50\\_CCLE & auc\\_CCLE & ic50\\_GDSC & auc\\_GDSC\\\\\n",
       "\\hline\n",
       "\t 22RV1      & Nilotinib  & 8.000000   & 0.0000000  & 155.269917 & 0.003935  \\\\\n",
       "\t 5637       & Nilotinib  & 7.475355   & 0.0072625  & 219.934550 & 0.003616  \\\\\n",
       "\t 639-V      & Nilotinib  & 8.000000   & 0.0710125  &  92.177125 & 0.007622  \\\\\n",
       "\t 697        & Nilotinib  & 1.910434   & 0.1573375  &   3.063552 & 0.069265  \\\\\n",
       "\t 769-P      & Nilotinib  & 8.000000   & 0.0000000  &  19.633514 & 0.028758  \\\\\n",
       "\t 786-0      & Nilotinib  & 8.000000   & 0.0750125  & 137.066882 & 0.005482  \\\\\n",
       "\\end{tabular}\n"
      ],
      "text/markdown": [
       "\n",
       "cellLine | drug | ic50_CCLE | auc_CCLE | ic50_GDSC | auc_GDSC | \n",
       "|---|---|---|---|---|---|\n",
       "| 22RV1      | Nilotinib  | 8.000000   | 0.0000000  | 155.269917 | 0.003935   | \n",
       "| 5637       | Nilotinib  | 7.475355   | 0.0072625  | 219.934550 | 0.003616   | \n",
       "| 639-V      | Nilotinib  | 8.000000   | 0.0710125  |  92.177125 | 0.007622   | \n",
       "| 697        | Nilotinib  | 1.910434   | 0.1573375  |   3.063552 | 0.069265   | \n",
       "| 769-P      | Nilotinib  | 8.000000   | 0.0000000  |  19.633514 | 0.028758   | \n",
       "| 786-0      | Nilotinib  | 8.000000   | 0.0750125  | 137.066882 | 0.005482   | \n",
       "\n",
       "\n"
      ],
      "text/plain": [
       "  cellLine drug      ic50_CCLE auc_CCLE  ic50_GDSC  auc_GDSC\n",
       "1 22RV1    Nilotinib 8.000000  0.0000000 155.269917 0.003935\n",
       "2 5637     Nilotinib 7.475355  0.0072625 219.934550 0.003616\n",
       "3 639-V    Nilotinib 8.000000  0.0710125  92.177125 0.007622\n",
       "4 697      Nilotinib 1.910434  0.1573375   3.063552 0.069265\n",
       "5 769-P    Nilotinib 8.000000  0.0000000  19.633514 0.028758\n",
       "6 786-0    Nilotinib 8.000000  0.0750125 137.066882 0.005482"
      ]
     },
     "metadata": {},
     "output_type": "display_data"
    },
    {
     "data": {
      "text/html": [
       "'correlation coefficients:'"
      ],
      "text/latex": [
       "'correlation coefficients:'"
      ],
      "text/markdown": [
       "'correlation coefficients:'"
      ],
      "text/plain": [
       "[1] \"correlation coefficients:\""
      ]
     },
     "metadata": {},
     "output_type": "display_data"
    },
    {
     "data": {
      "text/html": [
       "<ol class=list-inline>\n",
       "\t<li>0.138777388262748</li>\n",
       "\t<li>0.0972478962210541</li>\n",
       "\t<li>0.0258601234842991</li>\n",
       "\t<li>0.183883102526498</li>\n",
       "\t<li>0.179882451958921</li>\n",
       "\t<li>0.243911328231114</li>\n",
       "\t<li>0.0279930688944634</li>\n",
       "\t<li>0.166700778664605</li>\n",
       "\t<li>0.318416614064116</li>\n",
       "\t<li>0.0885726494869029</li>\n",
       "\t<li>-0.076804863061217</li>\n",
       "\t<li>0.129540695954779</li>\n",
       "\t<li>0.225651405090672</li>\n",
       "\t<li>0.0155011057058778</li>\n",
       "\t<li>0.026950946899472</li>\n",
       "</ol>\n"
      ],
      "text/latex": [
       "\\begin{enumerate*}\n",
       "\\item 0.138777388262748\n",
       "\\item 0.0972478962210541\n",
       "\\item 0.0258601234842991\n",
       "\\item 0.183883102526498\n",
       "\\item 0.179882451958921\n",
       "\\item 0.243911328231114\n",
       "\\item 0.0279930688944634\n",
       "\\item 0.166700778664605\n",
       "\\item 0.318416614064116\n",
       "\\item 0.0885726494869029\n",
       "\\item -0.076804863061217\n",
       "\\item 0.129540695954779\n",
       "\\item 0.225651405090672\n",
       "\\item 0.0155011057058778\n",
       "\\item 0.026950946899472\n",
       "\\end{enumerate*}\n"
      ],
      "text/markdown": [
       "1. 0.138777388262748\n",
       "2. 0.0972478962210541\n",
       "3. 0.0258601234842991\n",
       "4. 0.183883102526498\n",
       "5. 0.179882451958921\n",
       "6. 0.243911328231114\n",
       "7. 0.0279930688944634\n",
       "8. 0.166700778664605\n",
       "9. 0.318416614064116\n",
       "10. 0.0885726494869029\n",
       "11. -0.076804863061217\n",
       "12. 0.129540695954779\n",
       "13. 0.225651405090672\n",
       "14. 0.0155011057058778\n",
       "15. 0.026950946899472\n",
       "\n",
       "\n"
      ],
      "text/plain": [
       " [1]  0.13877739  0.09724790  0.02586012  0.18388310  0.17988245  0.24391133\n",
       " [7]  0.02799307  0.16670078  0.31841661  0.08857265 -0.07680486  0.12954070\n",
       "[13]  0.22565141  0.01550111  0.02695095"
      ]
     },
     "metadata": {},
     "output_type": "display_data"
    },
    {
     "data": {
      "text/html": [
       "'% with more than 0.5 correlation:'"
      ],
      "text/latex": [
       "'\\% with more than 0.5 correlation:'"
      ],
      "text/markdown": [
       "'% with more than 0.5 correlation:'"
      ],
      "text/plain": [
       "[1] \"% with more than 0.5 correlation:\""
      ]
     },
     "metadata": {},
     "output_type": "display_data"
    },
    {
     "data": {
      "text/html": [
       "0"
      ],
      "text/latex": [
       "0"
      ],
      "text/markdown": [
       "0"
      ],
      "text/plain": [
       "[1] 0"
      ]
     },
     "metadata": {},
     "output_type": "display_data"
    }
   ],
   "source": [
    "head(summarizedData)\n",
    "v2 = rep(0 , 0)\n",
    "df = subset(summarizedData, drug == 'Nilotinib' )\n",
    "v2 = append( v2 , cor(df$ic50_CCLE,df$ic50_GDSC))\n",
    "df = subset(summarizedData, drug == '17-AAG' )\n",
    "v2 = append( v2 , cor(df$ic50_CCLE,df$ic50_GDSC))\n",
    "df = subset(summarizedData, drug == 'PHA-665752' )\n",
    "v2 = append( v2 , cor(df$ic50_CCLE,df$ic50_GDSC))\n",
    "df = subset(summarizedData, drug == 'lapatinib' )\n",
    "v2 = append( v2 , cor(df$ic50_CCLE,df$ic50_GDSC))\n",
    "df = subset(summarizedData, drug == 'Nutlin-3' )\n",
    "v2 = append( v2 , cor(df$ic50_CCLE,df$ic50_GDSC))\n",
    "df = subset(summarizedData, drug == 'AZD0530' )\n",
    "v2 = append( v2 , cor(df$ic50_CCLE,df$ic50_GDSC))\n",
    "df = subset(summarizedData, drug == 'Crizotinib' )\n",
    "v2 = append( v2 , cor(df$ic50_CCLE,df$ic50_GDSC))\n",
    "df = subset(summarizedData, drug == 'Sorafenib' )\n",
    "v2 = append( v2 , cor(df$ic50_CCLE,df$ic50_GDSC))\n",
    "df = subset(summarizedData, drug == 'PD-0325901' )\n",
    "v2 = append( v2 , cor(df$ic50_CCLE,df$ic50_GDSC))\n",
    "df = subset(summarizedData, drug == 'PD-0332991' )\n",
    "v2 = append( v2 , cor(df$ic50_CCLE,df$ic50_GDSC))\n",
    "df = subset(summarizedData, drug == 'paclitaxel' )\n",
    "v2 = append( v2 , cor(df$ic50_CCLE,df$ic50_GDSC))\n",
    "df = subset(summarizedData, drug == 'AZD6244' )\n",
    "v2 = append( v2 , cor(df$ic50_CCLE,df$ic50_GDSC))\n",
    "df = subset(summarizedData, drug == 'PLX4720' )\n",
    "v2 = append( v2 , cor(df$ic50_CCLE,df$ic50_GDSC))\n",
    "df = subset(summarizedData, drug == 'TAE684' )\n",
    "v2 = append( v2 , cor(df$ic50_CCLE,df$ic50_GDSC))\n",
    "df = subset(summarizedData, drug == 'Erlotinib' )\n",
    "v2 = append( v2 , cor(df$ic50_CCLE,df$ic50_GDSC))\n",
    "'correlation coefficients:'\n",
    "v2\n",
    "'% with more than 0.5 correlation:'\n",
    "sum(v2 > 0.5)/length(v2)"
   ]
  },
  {
   "cell_type": "markdown",
   "metadata": {},
   "source": [
    "ic50 shows even less correlation between samples, some even show a negative correlation. They agree even less."
   ]
  },
  {
   "cell_type": "markdown",
   "metadata": {},
   "source": [
    "5. Which drug do you think shows the most consistency between the studies? How about the least? \n"
   ]
  },
  {
   "cell_type": "code",
   "execution_count": 35,
   "metadata": {},
   "outputs": [
    {
     "data": {
      "text/html": [
       "0.207873898434726"
      ],
      "text/latex": [
       "0.207873898434726"
      ],
      "text/markdown": [
       "0.207873898434726"
      ],
      "text/plain": [
       "[1] 0.2078739"
      ]
     },
     "metadata": {},
     "output_type": "display_data"
    },
    {
     "data": {
      "text/html": [
       "<table>\n",
       "<thead><tr><th scope=col>drug</th><th scope=col>auc</th><th scope=col>ic50</th><th scope=col>auc_ic50</th></tr></thead>\n",
       "<tbody>\n",
       "\t<tr><td>Nilotinib   </td><td>0.7720569   </td><td> 0.13877739 </td><td> 0.107144041</td></tr>\n",
       "\t<tr><td>17-AAG      </td><td>0.5550030   </td><td> 0.09724790 </td><td> 0.053972876</td></tr>\n",
       "\t<tr><td>PHA-665752  </td><td>0.1639644   </td><td> 0.02586012 </td><td> 0.004240140</td></tr>\n",
       "\t<tr><td>lapatinib   </td><td>0.5928248   </td><td> 0.18388310 </td><td> 0.109010457</td></tr>\n",
       "\t<tr><td>Nutlin-3    </td><td>0.3368438   </td><td> 0.17988245 </td><td> 0.060592292</td></tr>\n",
       "\t<tr><td>AZD0530     </td><td>0.5145546   </td><td> 0.24391133 </td><td> 0.125505691</td></tr>\n",
       "\t<tr><td>Crizotinib  </td><td>0.5749124   </td><td> 0.02799307 </td><td> 0.016093563</td></tr>\n",
       "\t<tr><td>Sorafenib   </td><td>0.3001300   </td><td> 0.16670078 </td><td> 0.050031909</td></tr>\n",
       "\t<tr><td>PD-0325901  </td><td>0.6528362   </td><td> 0.31841661 </td><td> 0.207873898</td></tr>\n",
       "\t<tr><td>PD-0332991  </td><td>0.3397018   </td><td> 0.08857265 </td><td> 0.030088291</td></tr>\n",
       "\t<tr><td>paclitaxel  </td><td>0.3916523   </td><td>-0.07680486 </td><td>-0.030080804</td></tr>\n",
       "\t<tr><td>AZD6244     </td><td>0.4115296   </td><td> 0.12954070 </td><td> 0.053309832</td></tr>\n",
       "\t<tr><td>PLX4720     </td><td>0.6280696   </td><td> 0.22565141 </td><td> 0.141724789</td></tr>\n",
       "\t<tr><td>TAE684      </td><td>0.4566037   </td><td> 0.01550111 </td><td> 0.007077862</td></tr>\n",
       "\t<tr><td>Erlotinib   </td><td>0.3469330   </td><td> 0.02695095 </td><td> 0.009350172</td></tr>\n",
       "</tbody>\n",
       "</table>\n"
      ],
      "text/latex": [
       "\\begin{tabular}{r|llll}\n",
       " drug & auc & ic50 & auc\\_ic50\\\\\n",
       "\\hline\n",
       "\t Nilotinib    & 0.7720569    &  0.13877739  &  0.107144041\\\\\n",
       "\t 17-AAG       & 0.5550030    &  0.09724790  &  0.053972876\\\\\n",
       "\t PHA-665752   & 0.1639644    &  0.02586012  &  0.004240140\\\\\n",
       "\t lapatinib    & 0.5928248    &  0.18388310  &  0.109010457\\\\\n",
       "\t Nutlin-3     & 0.3368438    &  0.17988245  &  0.060592292\\\\\n",
       "\t AZD0530      & 0.5145546    &  0.24391133  &  0.125505691\\\\\n",
       "\t Crizotinib   & 0.5749124    &  0.02799307  &  0.016093563\\\\\n",
       "\t Sorafenib    & 0.3001300    &  0.16670078  &  0.050031909\\\\\n",
       "\t PD-0325901   & 0.6528362    &  0.31841661  &  0.207873898\\\\\n",
       "\t PD-0332991   & 0.3397018    &  0.08857265  &  0.030088291\\\\\n",
       "\t paclitaxel   & 0.3916523    & -0.07680486  & -0.030080804\\\\\n",
       "\t AZD6244      & 0.4115296    &  0.12954070  &  0.053309832\\\\\n",
       "\t PLX4720      & 0.6280696    &  0.22565141  &  0.141724789\\\\\n",
       "\t TAE684       & 0.4566037    &  0.01550111  &  0.007077862\\\\\n",
       "\t Erlotinib    & 0.3469330    &  0.02695095  &  0.009350172\\\\\n",
       "\\end{tabular}\n"
      ],
      "text/markdown": [
       "\n",
       "drug | auc | ic50 | auc_ic50 | \n",
       "|---|---|---|---|---|---|---|---|---|---|---|---|---|---|---|\n",
       "| Nilotinib    | 0.7720569    |  0.13877739  |  0.107144041 | \n",
       "| 17-AAG       | 0.5550030    |  0.09724790  |  0.053972876 | \n",
       "| PHA-665752   | 0.1639644    |  0.02586012  |  0.004240140 | \n",
       "| lapatinib    | 0.5928248    |  0.18388310  |  0.109010457 | \n",
       "| Nutlin-3     | 0.3368438    |  0.17988245  |  0.060592292 | \n",
       "| AZD0530      | 0.5145546    |  0.24391133  |  0.125505691 | \n",
       "| Crizotinib   | 0.5749124    |  0.02799307  |  0.016093563 | \n",
       "| Sorafenib    | 0.3001300    |  0.16670078  |  0.050031909 | \n",
       "| PD-0325901   | 0.6528362    |  0.31841661  |  0.207873898 | \n",
       "| PD-0332991   | 0.3397018    |  0.08857265  |  0.030088291 | \n",
       "| paclitaxel   | 0.3916523    | -0.07680486  | -0.030080804 | \n",
       "| AZD6244      | 0.4115296    |  0.12954070  |  0.053309832 | \n",
       "| PLX4720      | 0.6280696    |  0.22565141  |  0.141724789 | \n",
       "| TAE684       | 0.4566037    |  0.01550111  |  0.007077862 | \n",
       "| Erlotinib    | 0.3469330    |  0.02695095  |  0.009350172 | \n",
       "\n",
       "\n"
      ],
      "text/plain": [
       "   drug       auc       ic50        auc_ic50    \n",
       "1  Nilotinib  0.7720569  0.13877739  0.107144041\n",
       "2  17-AAG     0.5550030  0.09724790  0.053972876\n",
       "3  PHA-665752 0.1639644  0.02586012  0.004240140\n",
       "4  lapatinib  0.5928248  0.18388310  0.109010457\n",
       "5  Nutlin-3   0.3368438  0.17988245  0.060592292\n",
       "6  AZD0530    0.5145546  0.24391133  0.125505691\n",
       "7  Crizotinib 0.5749124  0.02799307  0.016093563\n",
       "8  Sorafenib  0.3001300  0.16670078  0.050031909\n",
       "9  PD-0325901 0.6528362  0.31841661  0.207873898\n",
       "10 PD-0332991 0.3397018  0.08857265  0.030088291\n",
       "11 paclitaxel 0.3916523 -0.07680486 -0.030080804\n",
       "12 AZD6244    0.4115296  0.12954070  0.053309832\n",
       "13 PLX4720    0.6280696  0.22565141  0.141724789\n",
       "14 TAE684     0.4566037  0.01550111  0.007077862\n",
       "15 Erlotinib  0.3469330  0.02695095  0.009350172"
      ]
     },
     "metadata": {},
     "output_type": "display_data"
    }
   ],
   "source": [
    "df = data.frame(unique(summarizedData$drug),v1,v2,v1 * v2)\n",
    "colnames(df) <- c(\"drug\" , \"auc\" , \"ic50\" , \"auc_ic50\")\n",
    "max(df$auc_ic50)\n",
    "df"
   ]
  },
  {
   "cell_type": "markdown",
   "metadata": {},
   "source": [
    "PD-0325901 has the highest score across both tests"
   ]
  },
  {
   "cell_type": "markdown",
   "metadata": {},
   "source": [
    "6. If you calculated more than one type of correlation coefficient (for example Pearson and Spearman), how do they differ? Which do you think is a better summary of the consistency between the two studies? "
   ]
  },
  {
   "cell_type": "code",
   "execution_count": 39,
   "metadata": {},
   "outputs": [
    {
     "data": {
      "text/html": [
       "'correlation coefficients:'"
      ],
      "text/latex": [
       "'correlation coefficients:'"
      ],
      "text/markdown": [
       "'correlation coefficients:'"
      ],
      "text/plain": [
       "[1] \"correlation coefficients:\""
      ]
     },
     "metadata": {},
     "output_type": "display_data"
    },
    {
     "data": {
      "text/html": [
       "<ol class=list-inline>\n",
       "\t<li>0.147075571025764</li>\n",
       "\t<li>0.56878941216981</li>\n",
       "\t<li>-0.00137576565259991</li>\n",
       "\t<li>0.429029191582457</li>\n",
       "\t<li>0.268779284676121</li>\n",
       "\t<li>0.44361376328782</li>\n",
       "\t<li>0.166548923078292</li>\n",
       "\t<li>0.289499028265731</li>\n",
       "\t<li>0.606714614959833</li>\n",
       "\t<li>0.33212052541729</li>\n",
       "\t<li>0.384092543808994</li>\n",
       "\t<li>0.289602876047918</li>\n",
       "\t<li>0.376776133369841</li>\n",
       "\t<li>0.419305547762994</li>\n",
       "\t<li>0.452225401834543</li>\n",
       "</ol>\n"
      ],
      "text/latex": [
       "\\begin{enumerate*}\n",
       "\\item 0.147075571025764\n",
       "\\item 0.56878941216981\n",
       "\\item -0.00137576565259991\n",
       "\\item 0.429029191582457\n",
       "\\item 0.268779284676121\n",
       "\\item 0.44361376328782\n",
       "\\item 0.166548923078292\n",
       "\\item 0.289499028265731\n",
       "\\item 0.606714614959833\n",
       "\\item 0.33212052541729\n",
       "\\item 0.384092543808994\n",
       "\\item 0.289602876047918\n",
       "\\item 0.376776133369841\n",
       "\\item 0.419305547762994\n",
       "\\item 0.452225401834543\n",
       "\\end{enumerate*}\n"
      ],
      "text/markdown": [
       "1. 0.147075571025764\n",
       "2. 0.56878941216981\n",
       "3. -0.00137576565259991\n",
       "4. 0.429029191582457\n",
       "5. 0.268779284676121\n",
       "6. 0.44361376328782\n",
       "7. 0.166548923078292\n",
       "8. 0.289499028265731\n",
       "9. 0.606714614959833\n",
       "10. 0.33212052541729\n",
       "11. 0.384092543808994\n",
       "12. 0.289602876047918\n",
       "13. 0.376776133369841\n",
       "14. 0.419305547762994\n",
       "15. 0.452225401834543\n",
       "\n",
       "\n"
      ],
      "text/plain": [
       " [1]  0.147075571  0.568789412 -0.001375766  0.429029192  0.268779285\n",
       " [6]  0.443613763  0.166548923  0.289499028  0.606714615  0.332120525\n",
       "[11]  0.384092544  0.289602876  0.376776133  0.419305548  0.452225402"
      ]
     },
     "metadata": {},
     "output_type": "display_data"
    },
    {
     "data": {
      "text/html": [
       "'% with more than 0.5 correlation:'"
      ],
      "text/latex": [
       "'\\% with more than 0.5 correlation:'"
      ],
      "text/markdown": [
       "'% with more than 0.5 correlation:'"
      ],
      "text/plain": [
       "[1] \"% with more than 0.5 correlation:\""
      ]
     },
     "metadata": {},
     "output_type": "display_data"
    },
    {
     "data": {
      "text/html": [
       "0.133333333333333"
      ],
      "text/latex": [
       "0.133333333333333"
      ],
      "text/markdown": [
       "0.133333333333333"
      ],
      "text/plain": [
       "[1] 0.1333333"
      ]
     },
     "metadata": {},
     "output_type": "display_data"
    },
    {
     "data": {
      "text/html": [
       "'correlation coefficients:'"
      ],
      "text/latex": [
       "'correlation coefficients:'"
      ],
      "text/markdown": [
       "'correlation coefficients:'"
      ],
      "text/plain": [
       "[1] \"correlation coefficients:\""
      ]
     },
     "metadata": {},
     "output_type": "display_data"
    },
    {
     "data": {
      "text/html": [
       "<ol class=list-inline>\n",
       "\t<li>0.147075571025764</li>\n",
       "\t<li>0.56878941216981</li>\n",
       "\t<li>-0.00137576565259991</li>\n",
       "\t<li>0.429029191582457</li>\n",
       "\t<li>0.268779284676121</li>\n",
       "\t<li>0.44361376328782</li>\n",
       "\t<li>0.166548923078292</li>\n",
       "\t<li>0.289499028265731</li>\n",
       "\t<li>0.606714614959833</li>\n",
       "\t<li>0.33212052541729</li>\n",
       "\t<li>0.384092543808994</li>\n",
       "\t<li>0.289602876047918</li>\n",
       "\t<li>0.376776133369841</li>\n",
       "\t<li>0.419305547762994</li>\n",
       "\t<li>0.452225401834543</li>\n",
       "</ol>\n"
      ],
      "text/latex": [
       "\\begin{enumerate*}\n",
       "\\item 0.147075571025764\n",
       "\\item 0.56878941216981\n",
       "\\item -0.00137576565259991\n",
       "\\item 0.429029191582457\n",
       "\\item 0.268779284676121\n",
       "\\item 0.44361376328782\n",
       "\\item 0.166548923078292\n",
       "\\item 0.289499028265731\n",
       "\\item 0.606714614959833\n",
       "\\item 0.33212052541729\n",
       "\\item 0.384092543808994\n",
       "\\item 0.289602876047918\n",
       "\\item 0.376776133369841\n",
       "\\item 0.419305547762994\n",
       "\\item 0.452225401834543\n",
       "\\end{enumerate*}\n"
      ],
      "text/markdown": [
       "1. 0.147075571025764\n",
       "2. 0.56878941216981\n",
       "3. -0.00137576565259991\n",
       "4. 0.429029191582457\n",
       "5. 0.268779284676121\n",
       "6. 0.44361376328782\n",
       "7. 0.166548923078292\n",
       "8. 0.289499028265731\n",
       "9. 0.606714614959833\n",
       "10. 0.33212052541729\n",
       "11. 0.384092543808994\n",
       "12. 0.289602876047918\n",
       "13. 0.376776133369841\n",
       "14. 0.419305547762994\n",
       "15. 0.452225401834543\n",
       "\n",
       "\n"
      ],
      "text/plain": [
       " [1]  0.147075571  0.568789412 -0.001375766  0.429029192  0.268779285\n",
       " [6]  0.443613763  0.166548923  0.289499028  0.606714615  0.332120525\n",
       "[11]  0.384092544  0.289602876  0.376776133  0.419305548  0.452225402"
      ]
     },
     "metadata": {},
     "output_type": "display_data"
    },
    {
     "data": {
      "text/html": [
       "'% with more than 0.5 correlation:'"
      ],
      "text/latex": [
       "'\\% with more than 0.5 correlation:'"
      ],
      "text/markdown": [
       "'% with more than 0.5 correlation:'"
      ],
      "text/plain": [
       "[1] \"% with more than 0.5 correlation:\""
      ]
     },
     "metadata": {},
     "output_type": "display_data"
    },
    {
     "data": {
      "text/html": [
       "0.133333333333333"
      ],
      "text/latex": [
       "0.133333333333333"
      ],
      "text/markdown": [
       "0.133333333333333"
      ],
      "text/plain": [
       "[1] 0.1333333"
      ]
     },
     "metadata": {},
     "output_type": "display_data"
    },
    {
     "data": {
      "text/html": [
       "'best cross correlation'"
      ],
      "text/latex": [
       "'best cross correlation'"
      ],
      "text/markdown": [
       "'best cross correlation'"
      ],
      "text/plain": [
       "[1] \"best cross correlation\""
      ]
     },
     "metadata": {},
     "output_type": "display_data"
    },
    {
     "data": {
      "text/html": [
       "0.368102624005859"
      ],
      "text/latex": [
       "0.368102624005859"
      ],
      "text/markdown": [
       "0.368102624005859"
      ],
      "text/plain": [
       "[1] 0.3681026"
      ]
     },
     "metadata": {},
     "output_type": "display_data"
    },
    {
     "data": {
      "text/html": [
       "<table>\n",
       "<thead><tr><th scope=col>drug</th><th scope=col>auc</th><th scope=col>ic50</th><th scope=col>auc_ic50</th></tr></thead>\n",
       "<tbody>\n",
       "\t<tr><td>Nilotinib   </td><td> 0.147075571</td><td> 0.147075571</td><td>2.163122e-02</td></tr>\n",
       "\t<tr><td>17-AAG      </td><td> 0.568789412</td><td> 0.568789412</td><td>3.235214e-01</td></tr>\n",
       "\t<tr><td>PHA-665752  </td><td>-0.001375766</td><td>-0.001375766</td><td>1.892731e-06</td></tr>\n",
       "\t<tr><td>lapatinib   </td><td> 0.429029192</td><td> 0.429029192</td><td>1.840660e-01</td></tr>\n",
       "\t<tr><td>Nutlin-3    </td><td> 0.268779285</td><td> 0.268779285</td><td>7.224230e-02</td></tr>\n",
       "\t<tr><td>AZD0530     </td><td> 0.443613763</td><td> 0.443613763</td><td>1.967932e-01</td></tr>\n",
       "\t<tr><td>Crizotinib  </td><td> 0.166548923</td><td> 0.166548923</td><td>2.773854e-02</td></tr>\n",
       "\t<tr><td>Sorafenib   </td><td> 0.289499028</td><td> 0.289499028</td><td>8.380969e-02</td></tr>\n",
       "\t<tr><td>PD-0325901  </td><td> 0.606714615</td><td> 0.606714615</td><td>3.681026e-01</td></tr>\n",
       "\t<tr><td>PD-0332991  </td><td> 0.332120525</td><td> 0.332120525</td><td>1.103040e-01</td></tr>\n",
       "\t<tr><td>paclitaxel  </td><td> 0.384092544</td><td> 0.384092544</td><td>1.475271e-01</td></tr>\n",
       "\t<tr><td>AZD6244     </td><td> 0.289602876</td><td> 0.289602876</td><td>8.386983e-02</td></tr>\n",
       "\t<tr><td>PLX4720     </td><td> 0.376776133</td><td> 0.376776133</td><td>1.419603e-01</td></tr>\n",
       "\t<tr><td>TAE684      </td><td> 0.419305548</td><td> 0.419305548</td><td>1.758171e-01</td></tr>\n",
       "\t<tr><td>Erlotinib   </td><td> 0.452225402</td><td> 0.452225402</td><td>2.045078e-01</td></tr>\n",
       "</tbody>\n",
       "</table>\n"
      ],
      "text/latex": [
       "\\begin{tabular}{r|llll}\n",
       " drug & auc & ic50 & auc\\_ic50\\\\\n",
       "\\hline\n",
       "\t Nilotinib    &  0.147075571 &  0.147075571 & 2.163122e-02\\\\\n",
       "\t 17-AAG       &  0.568789412 &  0.568789412 & 3.235214e-01\\\\\n",
       "\t PHA-665752   & -0.001375766 & -0.001375766 & 1.892731e-06\\\\\n",
       "\t lapatinib    &  0.429029192 &  0.429029192 & 1.840660e-01\\\\\n",
       "\t Nutlin-3     &  0.268779285 &  0.268779285 & 7.224230e-02\\\\\n",
       "\t AZD0530      &  0.443613763 &  0.443613763 & 1.967932e-01\\\\\n",
       "\t Crizotinib   &  0.166548923 &  0.166548923 & 2.773854e-02\\\\\n",
       "\t Sorafenib    &  0.289499028 &  0.289499028 & 8.380969e-02\\\\\n",
       "\t PD-0325901   &  0.606714615 &  0.606714615 & 3.681026e-01\\\\\n",
       "\t PD-0332991   &  0.332120525 &  0.332120525 & 1.103040e-01\\\\\n",
       "\t paclitaxel   &  0.384092544 &  0.384092544 & 1.475271e-01\\\\\n",
       "\t AZD6244      &  0.289602876 &  0.289602876 & 8.386983e-02\\\\\n",
       "\t PLX4720      &  0.376776133 &  0.376776133 & 1.419603e-01\\\\\n",
       "\t TAE684       &  0.419305548 &  0.419305548 & 1.758171e-01\\\\\n",
       "\t Erlotinib    &  0.452225402 &  0.452225402 & 2.045078e-01\\\\\n",
       "\\end{tabular}\n"
      ],
      "text/markdown": [
       "\n",
       "drug | auc | ic50 | auc_ic50 | \n",
       "|---|---|---|---|---|---|---|---|---|---|---|---|---|---|---|\n",
       "| Nilotinib    |  0.147075571 |  0.147075571 | 2.163122e-02 | \n",
       "| 17-AAG       |  0.568789412 |  0.568789412 | 3.235214e-01 | \n",
       "| PHA-665752   | -0.001375766 | -0.001375766 | 1.892731e-06 | \n",
       "| lapatinib    |  0.429029192 |  0.429029192 | 1.840660e-01 | \n",
       "| Nutlin-3     |  0.268779285 |  0.268779285 | 7.224230e-02 | \n",
       "| AZD0530      |  0.443613763 |  0.443613763 | 1.967932e-01 | \n",
       "| Crizotinib   |  0.166548923 |  0.166548923 | 2.773854e-02 | \n",
       "| Sorafenib    |  0.289499028 |  0.289499028 | 8.380969e-02 | \n",
       "| PD-0325901   |  0.606714615 |  0.606714615 | 3.681026e-01 | \n",
       "| PD-0332991   |  0.332120525 |  0.332120525 | 1.103040e-01 | \n",
       "| paclitaxel   |  0.384092544 |  0.384092544 | 1.475271e-01 | \n",
       "| AZD6244      |  0.289602876 |  0.289602876 | 8.386983e-02 | \n",
       "| PLX4720      |  0.376776133 |  0.376776133 | 1.419603e-01 | \n",
       "| TAE684       |  0.419305548 |  0.419305548 | 1.758171e-01 | \n",
       "| Erlotinib    |  0.452225402 |  0.452225402 | 2.045078e-01 | \n",
       "\n",
       "\n"
      ],
      "text/plain": [
       "   drug       auc          ic50         auc_ic50    \n",
       "1  Nilotinib   0.147075571  0.147075571 2.163122e-02\n",
       "2  17-AAG      0.568789412  0.568789412 3.235214e-01\n",
       "3  PHA-665752 -0.001375766 -0.001375766 1.892731e-06\n",
       "4  lapatinib   0.429029192  0.429029192 1.840660e-01\n",
       "5  Nutlin-3    0.268779285  0.268779285 7.224230e-02\n",
       "6  AZD0530     0.443613763  0.443613763 1.967932e-01\n",
       "7  Crizotinib  0.166548923  0.166548923 2.773854e-02\n",
       "8  Sorafenib   0.289499028  0.289499028 8.380969e-02\n",
       "9  PD-0325901  0.606714615  0.606714615 3.681026e-01\n",
       "10 PD-0332991  0.332120525  0.332120525 1.103040e-01\n",
       "11 paclitaxel  0.384092544  0.384092544 1.475271e-01\n",
       "12 AZD6244     0.289602876  0.289602876 8.386983e-02\n",
       "13 PLX4720     0.376776133  0.376776133 1.419603e-01\n",
       "14 TAE684      0.419305548  0.419305548 1.758171e-01\n",
       "15 Erlotinib   0.452225402  0.452225402 2.045078e-01"
      ]
     },
     "metadata": {},
     "output_type": "display_data"
    }
   ],
   "source": [
    "v1 = rep(0 , 0)\n",
    "df = subset(summarizedData, drug == 'Nilotinib' )\n",
    "v1 = append( v1 , cor(df$auc_CCLE,df$auc_GDSC,method=\"spearman\"))\n",
    "df = subset(summarizedData, drug == '17-AAG' )\n",
    "v1 = append( v1 , cor(df$auc_CCLE,df$auc_GDSC,method=\"spearman\"))\n",
    "df = subset(summarizedData, drug == 'PHA-665752' )\n",
    "v1 = append( v1 , cor(df$auc_CCLE,df$auc_GDSC,method=\"spearman\"))\n",
    "df = subset(summarizedData, drug == 'lapatinib' )\n",
    "v1 = append( v1 , cor(df$auc_CCLE,df$auc_GDSC,method=\"spearman\"))\n",
    "df = subset(summarizedData, drug == 'Nutlin-3' )\n",
    "v1 = append( v1 , cor(df$auc_CCLE,df$auc_GDSC,method=\"spearman\"))\n",
    "df = subset(summarizedData, drug == 'AZD0530' )\n",
    "v1 = append( v1 , cor(df$auc_CCLE,df$auc_GDSC,method=\"spearman\"))\n",
    "df = subset(summarizedData, drug == 'Crizotinib' )\n",
    "v1 = append( v1 , cor(df$auc_CCLE,df$auc_GDSC,method=\"spearman\"))\n",
    "df = subset(summarizedData, drug == 'Sorafenib' )\n",
    "v1 = append( v1 , cor(df$auc_CCLE,df$auc_GDSC,method=\"spearman\"))\n",
    "df = subset(summarizedData, drug == 'PD-0325901' )\n",
    "v1 = append( v1 , cor(df$auc_CCLE,df$auc_GDSC,method=\"spearman\"))\n",
    "df = subset(summarizedData, drug == 'PD-0332991' )\n",
    "v1 = append( v1 , cor(df$auc_CCLE,df$auc_GDSC,method=\"spearman\"))\n",
    "df = subset(summarizedData, drug == 'paclitaxel' )\n",
    "v1 = append( v1 , cor(df$auc_CCLE,df$auc_GDSC,method=\"spearman\"))\n",
    "df = subset(summarizedData, drug == 'AZD6244' )\n",
    "v1 = append( v1 , cor(df$auc_CCLE,df$auc_GDSC,method=\"spearman\"))\n",
    "df = subset(summarizedData, drug == 'PLX4720' )\n",
    "v1 = append( v1 , cor(df$auc_CCLE,df$auc_GDSC,method=\"spearman\"))\n",
    "df = subset(summarizedData, drug == 'TAE684' )\n",
    "v1 = append( v1 , cor(df$auc_CCLE,df$auc_GDSC,method=\"spearman\"))\n",
    "df = subset(summarizedData, drug == 'Erlotinib' )\n",
    "v1 = append( v1 , cor(df$auc_CCLE,df$auc_GDSC,method=\"spearman\"))\n",
    "'correlation coefficients:'\n",
    "v1\n",
    "'% with more than 0.5 correlation:'\n",
    "sum(v1 > 0.5)/length(v1)\n",
    "\n",
    "v2 = rep(0 , 0)\n",
    "df = subset(summarizedData, drug == 'Nilotinib' )\n",
    "v2 = append( v2 , cor(df$auc_CCLE,df$auc_GDSC,method=\"spearman\"))\n",
    "df = subset(summarizedData, drug == '17-AAG' )\n",
    "v2 = append( v2 , cor(df$auc_CCLE,df$auc_GDSC,method=\"spearman\"))\n",
    "df = subset(summarizedData, drug == 'PHA-665752' )\n",
    "v2 = append( v2 , cor(df$auc_CCLE,df$auc_GDSC,method=\"spearman\"))\n",
    "df = subset(summarizedData, drug == 'lapatinib' )\n",
    "v2 = append( v2 , cor(df$auc_CCLE,df$auc_GDSC,method=\"spearman\"))\n",
    "df = subset(summarizedData, drug == 'Nutlin-3' )\n",
    "v2 = append( v2 , cor(df$auc_CCLE,df$auc_GDSC,method=\"spearman\"))\n",
    "df = subset(summarizedData, drug == 'AZD0530' )\n",
    "v2 = append( v2 , cor(df$auc_CCLE,df$auc_GDSC,method=\"spearman\"))\n",
    "df = subset(summarizedData, drug == 'Crizotinib' )\n",
    "v2 = append( v2 , cor(df$auc_CCLE,df$auc_GDSC,method=\"spearman\"))\n",
    "df = subset(summarizedData, drug == 'Sorafenib' )\n",
    "v2 = append( v2 , cor(df$auc_CCLE,df$auc_GDSC,method=\"spearman\"))\n",
    "df = subset(summarizedData, drug == 'PD-0325901' )\n",
    "v2 = append( v2 , cor(df$auc_CCLE,df$auc_GDSC,method=\"spearman\"))\n",
    "df = subset(summarizedData, drug == 'PD-0332991' )\n",
    "v2 = append( v2 , cor(df$auc_CCLE,df$auc_GDSC,method=\"spearman\"))\n",
    "df = subset(summarizedData, drug == 'paclitaxel' )\n",
    "v2 = append( v2 , cor(df$auc_CCLE,df$auc_GDSC,method=\"spearman\"))\n",
    "df = subset(summarizedData, drug == 'AZD6244' )\n",
    "v2 = append( v2 , cor(df$auc_CCLE,df$auc_GDSC,method=\"spearman\"))\n",
    "df = subset(summarizedData, drug == 'PLX4720' )\n",
    "v2 = append( v2 , cor(df$auc_CCLE,df$auc_GDSC,method=\"spearman\"))\n",
    "df = subset(summarizedData, drug == 'TAE684' )\n",
    "v2 = append( v2 , cor(df$auc_CCLE,df$auc_GDSC,method=\"spearman\"))\n",
    "df = subset(summarizedData, drug == 'Erlotinib' )\n",
    "v2 = append( v2 , cor(df$auc_CCLE,df$auc_GDSC,method=\"spearman\"))\n",
    "'correlation coefficients:'\n",
    "v2\n",
    "'% with more than 0.5 correlation:'\n",
    "sum(v2 > 0.5)/length(v2)\n",
    "df = data.frame(unique(summarizedData$drug),v1,v2,v1 * v2)\n",
    "colnames(df) <- c(\"drug\" , \"auc\" , \"ic50\" , \"auc_ic50\")\n",
    "\"best cross correlation\"\n",
    "max(df$auc_ic50)\n",
    "df"
   ]
  },
  {
   "cell_type": "markdown",
   "metadata": {},
   "source": [
    "Spearman correlation shows better correlations in general acroos the drugs. Unser spearman 17-AAG has the best cross measurement result"
   ]
  },
  {
   "cell_type": "markdown",
   "metadata": {},
   "source": [
    "7. We have explored Pearson and Spearman correlation, but what about other correlation measures? For example, you could try out distance correlation, which is sensitive to nonlinear relationships. You can find this measure in the `energy` R package, which you'll need to install and load with the following commands:\n",
    "\n",
    "Then, you can compute distance correlation with the `dcor()` function. How does this correlation measure compare to Pearson and Spearman? Do your conclusions about the agreement between the two studies change at all using this measure?\n"
   ]
  },
  {
   "cell_type": "code",
   "execution_count": 41,
   "metadata": {},
   "outputs": [
    {
     "data": {
      "text/html": [
       "'dcorrelation coefficients:'"
      ],
      "text/latex": [
       "'dcorrelation coefficients:'"
      ],
      "text/markdown": [
       "'dcorrelation coefficients:'"
      ],
      "text/plain": [
       "[1] \"dcorrelation coefficients:\""
      ]
     },
     "metadata": {},
     "output_type": "display_data"
    },
    {
     "data": {
      "text/html": [
       "<ol class=list-inline>\n",
       "\t<li>0.566714112893212</li>\n",
       "\t<li>0.552581813261065</li>\n",
       "\t<li>0.21284218071479</li>\n",
       "\t<li>0.55320513254529</li>\n",
       "\t<li>0.307918801791526</li>\n",
       "\t<li>0.479331054822333</li>\n",
       "\t<li>0.443280208163043</li>\n",
       "\t<li>0.329334376244522</li>\n",
       "\t<li>0.615919739980447</li>\n",
       "\t<li>0.308267047633509</li>\n",
       "\t<li>0.420578266104105</li>\n",
       "\t<li>0.389342531003097</li>\n",
       "\t<li>0.55046533399471</li>\n",
       "\t<li>0.436903906549409</li>\n",
       "\t<li>0.545339878414377</li>\n",
       "</ol>\n"
      ],
      "text/latex": [
       "\\begin{enumerate*}\n",
       "\\item 0.566714112893212\n",
       "\\item 0.552581813261065\n",
       "\\item 0.21284218071479\n",
       "\\item 0.55320513254529\n",
       "\\item 0.307918801791526\n",
       "\\item 0.479331054822333\n",
       "\\item 0.443280208163043\n",
       "\\item 0.329334376244522\n",
       "\\item 0.615919739980447\n",
       "\\item 0.308267047633509\n",
       "\\item 0.420578266104105\n",
       "\\item 0.389342531003097\n",
       "\\item 0.55046533399471\n",
       "\\item 0.436903906549409\n",
       "\\item 0.545339878414377\n",
       "\\end{enumerate*}\n"
      ],
      "text/markdown": [
       "1. 0.566714112893212\n",
       "2. 0.552581813261065\n",
       "3. 0.21284218071479\n",
       "4. 0.55320513254529\n",
       "5. 0.307918801791526\n",
       "6. 0.479331054822333\n",
       "7. 0.443280208163043\n",
       "8. 0.329334376244522\n",
       "9. 0.615919739980447\n",
       "10. 0.308267047633509\n",
       "11. 0.420578266104105\n",
       "12. 0.389342531003097\n",
       "13. 0.55046533399471\n",
       "14. 0.436903906549409\n",
       "15. 0.545339878414377\n",
       "\n",
       "\n"
      ],
      "text/plain": [
       " [1] 0.5667141 0.5525818 0.2128422 0.5532051 0.3079188 0.4793311 0.4432802\n",
       " [8] 0.3293344 0.6159197 0.3082670 0.4205783 0.3893425 0.5504653 0.4369039\n",
       "[15] 0.5453399"
      ]
     },
     "metadata": {},
     "output_type": "display_data"
    },
    {
     "data": {
      "text/html": [
       "'% with more than 0.5 dcorrelation:'"
      ],
      "text/latex": [
       "'\\% with more than 0.5 dcorrelation:'"
      ],
      "text/markdown": [
       "'% with more than 0.5 dcorrelation:'"
      ],
      "text/plain": [
       "[1] \"% with more than 0.5 dcorrelation:\""
      ]
     },
     "metadata": {},
     "output_type": "display_data"
    },
    {
     "data": {
      "text/html": [
       "0.4"
      ],
      "text/latex": [
       "0.4"
      ],
      "text/markdown": [
       "0.4"
      ],
      "text/plain": [
       "[1] 0.4"
      ]
     },
     "metadata": {},
     "output_type": "display_data"
    },
    {
     "data": {
      "text/html": [
       "'dcorrelation coefficients:'"
      ],
      "text/latex": [
       "'dcorrelation coefficients:'"
      ],
      "text/markdown": [
       "'dcorrelation coefficients:'"
      ],
      "text/plain": [
       "[1] \"dcorrelation coefficients:\""
      ]
     },
     "metadata": {},
     "output_type": "display_data"
    },
    {
     "data": {
      "text/html": [
       "<ol class=list-inline>\n",
       "\t<li>0.566714112893212</li>\n",
       "\t<li>0.552581813261065</li>\n",
       "\t<li>0.21284218071479</li>\n",
       "\t<li>0.55320513254529</li>\n",
       "\t<li>0.307918801791526</li>\n",
       "\t<li>0.479331054822333</li>\n",
       "\t<li>0.443280208163043</li>\n",
       "\t<li>0.329334376244522</li>\n",
       "\t<li>0.615919739980447</li>\n",
       "\t<li>0.308267047633509</li>\n",
       "\t<li>0.420578266104105</li>\n",
       "\t<li>0.389342531003097</li>\n",
       "\t<li>0.55046533399471</li>\n",
       "\t<li>0.436903906549409</li>\n",
       "\t<li>0.545339878414377</li>\n",
       "</ol>\n"
      ],
      "text/latex": [
       "\\begin{enumerate*}\n",
       "\\item 0.566714112893212\n",
       "\\item 0.552581813261065\n",
       "\\item 0.21284218071479\n",
       "\\item 0.55320513254529\n",
       "\\item 0.307918801791526\n",
       "\\item 0.479331054822333\n",
       "\\item 0.443280208163043\n",
       "\\item 0.329334376244522\n",
       "\\item 0.615919739980447\n",
       "\\item 0.308267047633509\n",
       "\\item 0.420578266104105\n",
       "\\item 0.389342531003097\n",
       "\\item 0.55046533399471\n",
       "\\item 0.436903906549409\n",
       "\\item 0.545339878414377\n",
       "\\end{enumerate*}\n"
      ],
      "text/markdown": [
       "1. 0.566714112893212\n",
       "2. 0.552581813261065\n",
       "3. 0.21284218071479\n",
       "4. 0.55320513254529\n",
       "5. 0.307918801791526\n",
       "6. 0.479331054822333\n",
       "7. 0.443280208163043\n",
       "8. 0.329334376244522\n",
       "9. 0.615919739980447\n",
       "10. 0.308267047633509\n",
       "11. 0.420578266104105\n",
       "12. 0.389342531003097\n",
       "13. 0.55046533399471\n",
       "14. 0.436903906549409\n",
       "15. 0.545339878414377\n",
       "\n",
       "\n"
      ],
      "text/plain": [
       " [1] 0.5667141 0.5525818 0.2128422 0.5532051 0.3079188 0.4793311 0.4432802\n",
       " [8] 0.3293344 0.6159197 0.3082670 0.4205783 0.3893425 0.5504653 0.4369039\n",
       "[15] 0.5453399"
      ]
     },
     "metadata": {},
     "output_type": "display_data"
    },
    {
     "data": {
      "text/html": [
       "'% with more than 0.5 dcorrelation:'"
      ],
      "text/latex": [
       "'\\% with more than 0.5 dcorrelation:'"
      ],
      "text/markdown": [
       "'% with more than 0.5 dcorrelation:'"
      ],
      "text/plain": [
       "[1] \"% with more than 0.5 dcorrelation:\""
      ]
     },
     "metadata": {},
     "output_type": "display_data"
    },
    {
     "data": {
      "text/html": [
       "0.4"
      ],
      "text/latex": [
       "0.4"
      ],
      "text/markdown": [
       "0.4"
      ],
      "text/plain": [
       "[1] 0.4"
      ]
     },
     "metadata": {},
     "output_type": "display_data"
    },
    {
     "data": {
      "text/html": [
       "'best cross dcorrelation'"
      ],
      "text/latex": [
       "'best cross dcorrelation'"
      ],
      "text/markdown": [
       "'best cross dcorrelation'"
      ],
      "text/plain": [
       "[1] \"best cross dcorrelation\""
      ]
     },
     "metadata": {},
     "output_type": "display_data"
    },
    {
     "data": {
      "text/html": [
       "0.379357126097582"
      ],
      "text/latex": [
       "0.379357126097582"
      ],
      "text/markdown": [
       "0.379357126097582"
      ],
      "text/plain": [
       "[1] 0.3793571"
      ]
     },
     "metadata": {},
     "output_type": "display_data"
    },
    {
     "data": {
      "text/html": [
       "<table>\n",
       "<thead><tr><th scope=col>drug</th><th scope=col>auc</th><th scope=col>ic50</th><th scope=col>auc_ic50</th></tr></thead>\n",
       "<tbody>\n",
       "\t<tr><td>Nilotinib </td><td>0.5667141 </td><td>0.5667141 </td><td>0.32116489</td></tr>\n",
       "\t<tr><td>17-AAG    </td><td>0.5525818 </td><td>0.5525818 </td><td>0.30534666</td></tr>\n",
       "\t<tr><td>PHA-665752</td><td>0.2128422 </td><td>0.2128422 </td><td>0.04530179</td></tr>\n",
       "\t<tr><td>lapatinib </td><td>0.5532051 </td><td>0.5532051 </td><td>0.30603592</td></tr>\n",
       "\t<tr><td>Nutlin-3  </td><td>0.3079188 </td><td>0.3079188 </td><td>0.09481399</td></tr>\n",
       "\t<tr><td>AZD0530   </td><td>0.4793311 </td><td>0.4793311 </td><td>0.22975826</td></tr>\n",
       "\t<tr><td>Crizotinib</td><td>0.4432802 </td><td>0.4432802 </td><td>0.19649734</td></tr>\n",
       "\t<tr><td>Sorafenib </td><td>0.3293344 </td><td>0.3293344 </td><td>0.10846113</td></tr>\n",
       "\t<tr><td>PD-0325901</td><td>0.6159197 </td><td>0.6159197 </td><td>0.37935713</td></tr>\n",
       "\t<tr><td>PD-0332991</td><td>0.3082670 </td><td>0.3082670 </td><td>0.09502857</td></tr>\n",
       "\t<tr><td>paclitaxel</td><td>0.4205783 </td><td>0.4205783 </td><td>0.17688608</td></tr>\n",
       "\t<tr><td>AZD6244   </td><td>0.3893425 </td><td>0.3893425 </td><td>0.15158761</td></tr>\n",
       "\t<tr><td>PLX4720   </td><td>0.5504653 </td><td>0.5504653 </td><td>0.30301208</td></tr>\n",
       "\t<tr><td>TAE684    </td><td>0.4369039 </td><td>0.4369039 </td><td>0.19088502</td></tr>\n",
       "\t<tr><td>Erlotinib </td><td>0.5453399 </td><td>0.5453399 </td><td>0.29739558</td></tr>\n",
       "</tbody>\n",
       "</table>\n"
      ],
      "text/latex": [
       "\\begin{tabular}{r|llll}\n",
       " drug & auc & ic50 & auc\\_ic50\\\\\n",
       "\\hline\n",
       "\t Nilotinib  & 0.5667141  & 0.5667141  & 0.32116489\\\\\n",
       "\t 17-AAG     & 0.5525818  & 0.5525818  & 0.30534666\\\\\n",
       "\t PHA-665752 & 0.2128422  & 0.2128422  & 0.04530179\\\\\n",
       "\t lapatinib  & 0.5532051  & 0.5532051  & 0.30603592\\\\\n",
       "\t Nutlin-3   & 0.3079188  & 0.3079188  & 0.09481399\\\\\n",
       "\t AZD0530    & 0.4793311  & 0.4793311  & 0.22975826\\\\\n",
       "\t Crizotinib & 0.4432802  & 0.4432802  & 0.19649734\\\\\n",
       "\t Sorafenib  & 0.3293344  & 0.3293344  & 0.10846113\\\\\n",
       "\t PD-0325901 & 0.6159197  & 0.6159197  & 0.37935713\\\\\n",
       "\t PD-0332991 & 0.3082670  & 0.3082670  & 0.09502857\\\\\n",
       "\t paclitaxel & 0.4205783  & 0.4205783  & 0.17688608\\\\\n",
       "\t AZD6244    & 0.3893425  & 0.3893425  & 0.15158761\\\\\n",
       "\t PLX4720    & 0.5504653  & 0.5504653  & 0.30301208\\\\\n",
       "\t TAE684     & 0.4369039  & 0.4369039  & 0.19088502\\\\\n",
       "\t Erlotinib  & 0.5453399  & 0.5453399  & 0.29739558\\\\\n",
       "\\end{tabular}\n"
      ],
      "text/markdown": [
       "\n",
       "drug | auc | ic50 | auc_ic50 | \n",
       "|---|---|---|---|---|---|---|---|---|---|---|---|---|---|---|\n",
       "| Nilotinib  | 0.5667141  | 0.5667141  | 0.32116489 | \n",
       "| 17-AAG     | 0.5525818  | 0.5525818  | 0.30534666 | \n",
       "| PHA-665752 | 0.2128422  | 0.2128422  | 0.04530179 | \n",
       "| lapatinib  | 0.5532051  | 0.5532051  | 0.30603592 | \n",
       "| Nutlin-3   | 0.3079188  | 0.3079188  | 0.09481399 | \n",
       "| AZD0530    | 0.4793311  | 0.4793311  | 0.22975826 | \n",
       "| Crizotinib | 0.4432802  | 0.4432802  | 0.19649734 | \n",
       "| Sorafenib  | 0.3293344  | 0.3293344  | 0.10846113 | \n",
       "| PD-0325901 | 0.6159197  | 0.6159197  | 0.37935713 | \n",
       "| PD-0332991 | 0.3082670  | 0.3082670  | 0.09502857 | \n",
       "| paclitaxel | 0.4205783  | 0.4205783  | 0.17688608 | \n",
       "| AZD6244    | 0.3893425  | 0.3893425  | 0.15158761 | \n",
       "| PLX4720    | 0.5504653  | 0.5504653  | 0.30301208 | \n",
       "| TAE684     | 0.4369039  | 0.4369039  | 0.19088502 | \n",
       "| Erlotinib  | 0.5453399  | 0.5453399  | 0.29739558 | \n",
       "\n",
       "\n"
      ],
      "text/plain": [
       "   drug       auc       ic50      auc_ic50  \n",
       "1  Nilotinib  0.5667141 0.5667141 0.32116489\n",
       "2  17-AAG     0.5525818 0.5525818 0.30534666\n",
       "3  PHA-665752 0.2128422 0.2128422 0.04530179\n",
       "4  lapatinib  0.5532051 0.5532051 0.30603592\n",
       "5  Nutlin-3   0.3079188 0.3079188 0.09481399\n",
       "6  AZD0530    0.4793311 0.4793311 0.22975826\n",
       "7  Crizotinib 0.4432802 0.4432802 0.19649734\n",
       "8  Sorafenib  0.3293344 0.3293344 0.10846113\n",
       "9  PD-0325901 0.6159197 0.6159197 0.37935713\n",
       "10 PD-0332991 0.3082670 0.3082670 0.09502857\n",
       "11 paclitaxel 0.4205783 0.4205783 0.17688608\n",
       "12 AZD6244    0.3893425 0.3893425 0.15158761\n",
       "13 PLX4720    0.5504653 0.5504653 0.30301208\n",
       "14 TAE684     0.4369039 0.4369039 0.19088502\n",
       "15 Erlotinib  0.5453399 0.5453399 0.29739558"
      ]
     },
     "metadata": {},
     "output_type": "display_data"
    }
   ],
   "source": [
    "v1 = rep(0 , 0)\n",
    "df = subset(summarizedData, drug == 'Nilotinib' )\n",
    "v1 = append( v1 , dcor(df$auc_CCLE,df$auc_GDSC))\n",
    "df = subset(summarizedData, drug == '17-AAG' )\n",
    "v1 = append( v1 , dcor(df$auc_CCLE,df$auc_GDSC))\n",
    "df = subset(summarizedData, drug == 'PHA-665752' )\n",
    "v1 = append( v1 , dcor(df$auc_CCLE,df$auc_GDSC))\n",
    "df = subset(summarizedData, drug == 'lapatinib' )\n",
    "v1 = append( v1 , dcor(df$auc_CCLE,df$auc_GDSC))\n",
    "df = subset(summarizedData, drug == 'Nutlin-3' )\n",
    "v1 = append( v1 , dcor(df$auc_CCLE,df$auc_GDSC))\n",
    "df = subset(summarizedData, drug == 'AZD0530' )\n",
    "v1 = append( v1 , dcor(df$auc_CCLE,df$auc_GDSC))\n",
    "df = subset(summarizedData, drug == 'Crizotinib' )\n",
    "v1 = append( v1 , dcor(df$auc_CCLE,df$auc_GDSC))\n",
    "df = subset(summarizedData, drug == 'Sorafenib' )\n",
    "v1 = append( v1 , dcor(df$auc_CCLE,df$auc_GDSC))\n",
    "df = subset(summarizedData, drug == 'PD-0325901' )\n",
    "v1 = append( v1 , dcor(df$auc_CCLE,df$auc_GDSC))\n",
    "df = subset(summarizedData, drug == 'PD-0332991' )\n",
    "v1 = append( v1 , dcor(df$auc_CCLE,df$auc_GDSC))\n",
    "df = subset(summarizedData, drug == 'paclitaxel' )\n",
    "v1 = append( v1 , dcor(df$auc_CCLE,df$auc_GDSC))\n",
    "df = subset(summarizedData, drug == 'AZD6244' )\n",
    "v1 = append( v1 , dcor(df$auc_CCLE,df$auc_GDSC))\n",
    "df = subset(summarizedData, drug == 'PLX4720' )\n",
    "v1 = append( v1 , dcor(df$auc_CCLE,df$auc_GDSC))\n",
    "df = subset(summarizedData, drug == 'TAE684' )\n",
    "v1 = append( v1 , dcor(df$auc_CCLE,df$auc_GDSC))\n",
    "df = subset(summarizedData, drug == 'Erlotinib' )\n",
    "v1 = append( v1 , dcor(df$auc_CCLE,df$auc_GDSC))\n",
    "'dcorrelation coefficients:'\n",
    "v1\n",
    "'% with more than 0.5 dcorrelation:'\n",
    "sum(v1 > 0.5)/length(v1)\n",
    "\n",
    "v2 = rep(0 , 0)\n",
    "df = subset(summarizedData, drug == 'Nilotinib' )\n",
    "v2 = append( v2 , dcor(df$auc_CCLE,df$auc_GDSC))\n",
    "df = subset(summarizedData, drug == '17-AAG' )\n",
    "v2 = append( v2 , dcor(df$auc_CCLE,df$auc_GDSC))\n",
    "df = subset(summarizedData, drug == 'PHA-665752' )\n",
    "v2 = append( v2 , dcor(df$auc_CCLE,df$auc_GDSC))\n",
    "df = subset(summarizedData, drug == 'lapatinib' )\n",
    "v2 = append( v2 , dcor(df$auc_CCLE,df$auc_GDSC))\n",
    "df = subset(summarizedData, drug == 'Nutlin-3' )\n",
    "v2 = append( v2 , dcor(df$auc_CCLE,df$auc_GDSC))\n",
    "df = subset(summarizedData, drug == 'AZD0530' )\n",
    "v2 = append( v2 , dcor(df$auc_CCLE,df$auc_GDSC))\n",
    "df = subset(summarizedData, drug == 'Crizotinib' )\n",
    "v2 = append( v2 , dcor(df$auc_CCLE,df$auc_GDSC))\n",
    "df = subset(summarizedData, drug == 'Sorafenib' )\n",
    "v2 = append( v2 , dcor(df$auc_CCLE,df$auc_GDSC))\n",
    "df = subset(summarizedData, drug == 'PD-0325901' )\n",
    "v2 = append( v2 , dcor(df$auc_CCLE,df$auc_GDSC))\n",
    "df = subset(summarizedData, drug == 'PD-0332991' )\n",
    "v2 = append( v2 , dcor(df$auc_CCLE,df$auc_GDSC))\n",
    "df = subset(summarizedData, drug == 'paclitaxel' )\n",
    "v2 = append( v2 , dcor(df$auc_CCLE,df$auc_GDSC))\n",
    "df = subset(summarizedData, drug == 'AZD6244' )\n",
    "v2 = append( v2 , dcor(df$auc_CCLE,df$auc_GDSC))\n",
    "df = subset(summarizedData, drug == 'PLX4720' )\n",
    "v2 = append( v2 , dcor(df$auc_CCLE,df$auc_GDSC))\n",
    "df = subset(summarizedData, drug == 'TAE684' )\n",
    "v2 = append( v2 , dcor(df$auc_CCLE,df$auc_GDSC))\n",
    "df = subset(summarizedData, drug == 'Erlotinib' )\n",
    "v2 = append( v2 , dcor(df$auc_CCLE,df$auc_GDSC))\n",
    "'dcorrelation coefficients:'\n",
    "v2\n",
    "'% with more than 0.5 dcorrelation:'\n",
    "sum(v2 > 0.5)/length(v2)\n",
    "df = data.frame(unique(summarizedData$drug),v1,v2,v1 * v2)\n",
    "colnames(df) <- c(\"drug\" , \"auc\" , \"ic50\" , \"auc_ic50\")\n",
    "\"best cross dcorrelation\"\n",
    "max(df$auc_ic50)\n",
    "df"
   ]
  },
  {
   "cell_type": "markdown",
   "metadata": {},
   "source": [
    "Now with distance correlation from energy we have even less correlation in general but PD-0325901 now has the best general correlation among the drugs."
   ]
  },
  {
   "cell_type": "markdown",
   "metadata": {},
   "source": [
    "\n",
    "### Identifying biological factors that influence replicability of pharmacogenomic studies\n",
    "\n",
    "1. Are there any cell lines that seem to be consistently sensitive? (Hint: look for the 5 cell lines which seem the most resistant in both studies according to the average drug response by AUC; code from Tutorial 3 may help) What effect might this have on your conclusions and interpretations of the agreement between the studies? For example, do you observe any increase in replicability (as measured by correlation of drug response) if you exclude the most resistant cell lines?\n",
    "\n",
    "2. Classify each cell line as resistant or sensitive to a drug based on its AUC value (Hint: choose a cutoff for which cell lines with AUC below the cutoff are considered sensitive and explain your choice of cutoff(s); code from Tutorial 3 may help). Compare the resistance status of cell lines in GDSC and CCLE for each drug using either a scatterplot of AUC values colored by resistance/sensitivity in each study or a table.\n",
    "\n",
    "3. Compute the Matthews correlation coefficient for sensitivity status (from #2) of cell lines in GDSC and CCLE for each drug (Hint: code from Tutorial 3 may help). \n",
    "\n",
    "4. Are there any drugs for which most or all cell lines seem to be resistant in both studies (Hint: for each cell line, look at its average response across all drugs; code from Tutorial 3 may help)? If so, what are the correlation values for these drugs? What do these results imply about the replicability of these studies?\n",
    "\n",
    "5. Compare the Matthews correlation coefficient values by drug classes defined in Tutorial 3 (No effect, Narrow effect, Broad effect). Which drug class shows the most agreement between the studies? \n",
    "\n",
    "6. Would you say that the sensitivity results for the two studies tend to agree?\n",
    "\n",
    "7. For one of the targeted drugs, examine the cell lines that were sensitive ih the CCLE and/or GDSC. See if you can find out what types of cells these are by searching the online Cancer Cell Line Encyclopedia http://www.broadinstitute.org/ccle (this will prompt you to register with a username, password, and email address. If you prefer, you can also search the cell line on other websites). See if you can find out what types of cancers this drug is targeted for using the NCI cancer drug database at https://www.cancer.gov/about-cancer/treatment/drugs. Does the list of cell lines found to be sensitive in the two studies agree with this?\n",
    "\n",
    "### Modeling the relation between two variables (drug concentration vs viability)\n",
    "\n",
    "1. Explore the response curves for several drug-cell line combinations. How many drugs-cell line combinations contain viability response values that would potentially enable them to be summarized into an IC50 value? You can answer this, for example, by checking whether there are viability values below 50%.\n",
    "\n",
    "2. Analyze the re-calculations of IC50 and AUCs from the drug 17-AAG in the H4 cell-line and the drug Nilotinib cell-line in the 22RV1 cell-line. See the figure below and asnwer: which statistic is more roboust, IC50 or AUC? Which statistic is more generalizable, IC50 or AUC? Justify your answer with examples and/or using the whole data recalculations from the *mySummarizedData* variable.\n",
    "\n",
    "<img src=\"Figures/reproducible.png\" width=\"400px\" height=\"200px\" />\n",
    "Modified from [Kirstie Whitaker](https://github.com/KirstieJane/).\n",
    "\n",
    "3. Are the results more replicable if one uses the same code to calculate IC50 or AUC on the different datasets? Hint: you can use code from tutorial #3 to evaluate this.\n",
    "\n",
    "4. Summarize the viability curves of all the drugs in each cell-line using the slope of linear model. Is the slope of the linear regression informative of the drug response? Can we improve the replicability of the studies by using the value of the slope instead of IC50s or AUCs? \n",
    "\n",
    "## Discussion:\n",
    "\n",
    "Summarize the main findings of your analyses in the previous four sections here. "
   ]
  }
 ],
 "metadata": {
  "kernelspec": {
   "display_name": "R",
   "language": "R",
   "name": "ir"
  },
  "language_info": {
   "codemirror_mode": "r",
   "file_extension": ".r",
   "mimetype": "text/x-r-source",
   "name": "R",
   "pygments_lexer": "r",
   "version": "3.5.1"
  }
 },
 "nbformat": 4,
 "nbformat_minor": 2
}
